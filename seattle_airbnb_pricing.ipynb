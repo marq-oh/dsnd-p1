{
 "cells": [
  {
   "cell_type": "markdown",
   "metadata": {},
   "source": [
    "# Data Analysis for Seattle Airbnb listings pricing considerations \n",
    "\n",
    "The analysis in this notebook follows CRISP-DM, which stands for Cross-industry standard process for data mining. The following approach was applied:\n",
    " \n",
    "* Prepare data:\n",
    "    * Gather necessary data to answer questions\n",
    "    * Handle categorical and missing data\n",
    "    * Provide insight into the methods chosen and why they were chose\n",
    "    * Analyze, Model, and Visualize\n",
    "\n",
    "* Provide a clear connection between business questions and how the data answers them\n",
    "\n",
    "\n",
    "## Dataset and Questions\n",
    "\n",
    "The analysis was conducted on the [Seattle Airbnb dataset from Kaggle](https://www.kaggle.com/airbnb/seattle/data)\n",
    "\n",
    "The intent of the analysis was to see how three (3) key factors impact pricing for Airbnb listings and why they should be considered.\n",
    "\n",
    "The three (3) key factors are:\n",
    "1. Location: Which neighbourhoods have the highest average prices and listings?\n",
    "2. Timing: Which months have the highest average prices and highest listings?\n",
    "3. Features: Which features affect price? We will also build a model for this question"
   ]
  },
  {
   "cell_type": "markdown",
   "metadata": {},
   "source": [
    "---"
   ]
  },
  {
   "cell_type": "markdown",
   "metadata": {},
   "source": [
    "## Libraries"
   ]
  },
  {
   "cell_type": "markdown",
   "metadata": {},
   "source": [
    "Python libraries used to complete analysis."
   ]
  },
  {
   "cell_type": "code",
   "execution_count": 1,
   "metadata": {},
   "outputs": [],
   "source": [
    "# Import libraries to be used\n",
    "import numpy as np\n",
    "import pandas as pd\n",
    "import matplotlib as plt\n",
    "import seaborn as sb\n",
    "from sklearn.feature_extraction.text import CountVectorizer\n",
    "from sklearn.model_selection import train_test_split\n",
    "from sklearn.metrics import r2_score, mean_squared_error, median_absolute_error\n",
    "from sklearn.ensemble import RandomForestRegressor\n",
    "from sklearn.linear_model import LinearRegression"
   ]
  },
  {
   "cell_type": "markdown",
   "metadata": {},
   "source": [
    "## Data Wrangling"
   ]
  },
  {
   "cell_type": "markdown",
   "metadata": {},
   "source": [
    "Tasks conducted to prepare the data. This included gathering the data by importing csv files into dataframes, understanding the data and cleaning the data (e.g. removing null values or creating categorical values)"
   ]
  },
  {
   "cell_type": "markdown",
   "metadata": {},
   "source": [
    "Summary of datasets that were imported:\n",
    "1. Listing dataset contains feature / property data about individual listings\n",
    "2. Calendar dataset contains availability of each listing with price and date information\n",
    "3. Reviews dataset contains reviews for indivudal listings"
   ]
  },
  {
   "cell_type": "code",
   "execution_count": 2,
   "metadata": {},
   "outputs": [],
   "source": [
    "# Importing csv data into pandas dataframes\n",
    "listings = pd.read_csv('./listings_sea.csv')\n",
    "calendar = pd.read_csv('./calendar_sea.csv')\n",
    "reviews = pd.read_csv('./reviews_sea.csv')"
   ]
  },
  {
   "cell_type": "markdown",
   "metadata": {},
   "source": [
    "### Data Review and Assessment"
   ]
  },
  {
   "cell_type": "markdown",
   "metadata": {},
   "source": [
    "Upon reviewing and assessing the data:\n",
    "* Each dataset can be merged / integrated through the Listing ID.\n",
    "* The Listing dataset is a good place to retrieve location and feature information.\n",
    "* The Calendar dataset has the most # of rows which would be good to use to ensure that we have lots of data for analysis, visualization and modeling (training & testing). This dataset can be used as the base dataset.\n",
    "* The Reviews dataset can be used to represent actual bookings.\n",
    "\n",
    "Approach to answer the questions:\n",
    "* Location: Which neighbourhoods have the highest average prices and listings?\n",
    "    * The Calendar and Listing datasets will be used to determine which neighbourhoods have the highest average prices and available listings\n",
    "    * The Reviews and Listings datasets will be used to determine which neighbourhoods have the highest bookings\n",
    "* Timing: Which months have the highest average prices and highest listings?\n",
    "    * The Calendar and Listing datasets will be used to determine which months have the highest average prices and available listings\n",
    "    * The Reviews and Listings datasets will be used to determine which months have the highest bookings\n",
    "* Features: Which features affect price?\n",
    "    * The Calendar and Listing datasets will be used to determine which features affect price"
   ]
  },
  {
   "cell_type": "code",
   "execution_count": 3,
   "metadata": {},
   "outputs": [
    {
     "name": "stdout",
     "output_type": "stream",
     "text": [
      "<class 'pandas.core.frame.DataFrame'>\n",
      "RangeIndex: 3818 entries, 0 to 3817\n",
      "Data columns (total 92 columns):\n",
      "id                                  3818 non-null int64\n",
      "listing_url                         3818 non-null object\n",
      "scrape_id                           3818 non-null int64\n",
      "last_scraped                        3818 non-null object\n",
      "name                                3818 non-null object\n",
      "summary                             3641 non-null object\n",
      "space                               3249 non-null object\n",
      "description                         3818 non-null object\n",
      "experiences_offered                 3818 non-null object\n",
      "neighborhood_overview               2786 non-null object\n",
      "notes                               2212 non-null object\n",
      "transit                             2884 non-null object\n",
      "thumbnail_url                       3498 non-null object\n",
      "medium_url                          3498 non-null object\n",
      "picture_url                         3818 non-null object\n",
      "xl_picture_url                      3498 non-null object\n",
      "host_id                             3818 non-null int64\n",
      "host_url                            3818 non-null object\n",
      "host_name                           3816 non-null object\n",
      "host_since                          3816 non-null object\n",
      "host_location                       3810 non-null object\n",
      "host_about                          2959 non-null object\n",
      "host_response_time                  3295 non-null object\n",
      "host_response_rate                  3295 non-null object\n",
      "host_acceptance_rate                3045 non-null object\n",
      "host_is_superhost                   3816 non-null object\n",
      "host_thumbnail_url                  3816 non-null object\n",
      "host_picture_url                    3816 non-null object\n",
      "host_neighbourhood                  3518 non-null object\n",
      "host_listings_count                 3816 non-null float64\n",
      "host_total_listings_count           3816 non-null float64\n",
      "host_verifications                  3818 non-null object\n",
      "host_has_profile_pic                3816 non-null object\n",
      "host_identity_verified              3816 non-null object\n",
      "street                              3818 non-null object\n",
      "neighbourhood                       3402 non-null object\n",
      "neighbourhood_cleansed              3818 non-null object\n",
      "neighbourhood_group_cleansed        3818 non-null object\n",
      "city                                3818 non-null object\n",
      "state                               3818 non-null object\n",
      "zipcode                             3811 non-null object\n",
      "market                              3818 non-null object\n",
      "smart_location                      3818 non-null object\n",
      "country_code                        3818 non-null object\n",
      "country                             3818 non-null object\n",
      "latitude                            3818 non-null float64\n",
      "longitude                           3818 non-null float64\n",
      "is_location_exact                   3818 non-null object\n",
      "property_type                       3817 non-null object\n",
      "room_type                           3818 non-null object\n",
      "accommodates                        3818 non-null int64\n",
      "bathrooms                           3802 non-null float64\n",
      "bedrooms                            3812 non-null float64\n",
      "beds                                3817 non-null float64\n",
      "bed_type                            3818 non-null object\n",
      "amenities                           3818 non-null object\n",
      "square_feet                         97 non-null float64\n",
      "price                               3818 non-null object\n",
      "weekly_price                        2009 non-null object\n",
      "monthly_price                       1517 non-null object\n",
      "security_deposit                    1866 non-null object\n",
      "cleaning_fee                        2788 non-null object\n",
      "guests_included                     3818 non-null int64\n",
      "extra_people                        3818 non-null object\n",
      "minimum_nights                      3818 non-null int64\n",
      "maximum_nights                      3818 non-null int64\n",
      "calendar_updated                    3818 non-null object\n",
      "has_availability                    3818 non-null object\n",
      "availability_30                     3818 non-null int64\n",
      "availability_60                     3818 non-null int64\n",
      "availability_90                     3818 non-null int64\n",
      "availability_365                    3818 non-null int64\n",
      "calendar_last_scraped               3818 non-null object\n",
      "number_of_reviews                   3818 non-null int64\n",
      "first_review                        3191 non-null object\n",
      "last_review                         3191 non-null object\n",
      "review_scores_rating                3171 non-null float64\n",
      "review_scores_accuracy              3160 non-null float64\n",
      "review_scores_cleanliness           3165 non-null float64\n",
      "review_scores_checkin               3160 non-null float64\n",
      "review_scores_communication         3167 non-null float64\n",
      "review_scores_location              3163 non-null float64\n",
      "review_scores_value                 3162 non-null float64\n",
      "requires_license                    3818 non-null object\n",
      "license                             0 non-null float64\n",
      "jurisdiction_names                  3818 non-null object\n",
      "instant_bookable                    3818 non-null object\n",
      "cancellation_policy                 3818 non-null object\n",
      "require_guest_profile_picture       3818 non-null object\n",
      "require_guest_phone_verification    3818 non-null object\n",
      "calculated_host_listings_count      3818 non-null int64\n",
      "reviews_per_month                   3191 non-null float64\n",
      "dtypes: float64(17), int64(13), object(62)\n",
      "memory usage: 2.7+ MB\n"
     ]
    }
   ],
   "source": [
    "# Reviewing columns and datatypes of listings dataset\n",
    "listings.info()"
   ]
  },
  {
   "cell_type": "code",
   "execution_count": 4,
   "metadata": {},
   "outputs": [
    {
     "name": "stdout",
     "output_type": "stream",
     "text": [
      "<class 'pandas.core.frame.DataFrame'>\n",
      "RangeIndex: 1393570 entries, 0 to 1393569\n",
      "Data columns (total 4 columns):\n",
      "listing_id    1393570 non-null int64\n",
      "date          1393570 non-null object\n",
      "available     1393570 non-null object\n",
      "price         934542 non-null object\n",
      "dtypes: int64(1), object(3)\n",
      "memory usage: 42.5+ MB\n"
     ]
    }
   ],
   "source": [
    "# Reviewing columns and datatypes of calendar dataset\n",
    "\n",
    "calendar.info()"
   ]
  },
  {
   "cell_type": "code",
   "execution_count": 5,
   "metadata": {},
   "outputs": [
    {
     "name": "stdout",
     "output_type": "stream",
     "text": [
      "<class 'pandas.core.frame.DataFrame'>\n",
      "RangeIndex: 84849 entries, 0 to 84848\n",
      "Data columns (total 6 columns):\n",
      "listing_id       84849 non-null int64\n",
      "id               84849 non-null int64\n",
      "date             84849 non-null object\n",
      "reviewer_id      84849 non-null int64\n",
      "reviewer_name    84849 non-null object\n",
      "comments         84831 non-null object\n",
      "dtypes: int64(3), object(3)\n",
      "memory usage: 3.9+ MB\n"
     ]
    }
   ],
   "source": [
    "# Reviewing columns and datatypes of reviews dataset\n",
    "\n",
    "reviews.info()"
   ]
  },
  {
   "cell_type": "markdown",
   "metadata": {},
   "source": [
    "### Data Merging / Integration"
   ]
  },
  {
   "cell_type": "markdown",
   "metadata": {},
   "source": [
    "Merge / Integrate Calendar and Listings datasets to allow for combined analysis"
   ]
  },
  {
   "cell_type": "code",
   "execution_count": 6,
   "metadata": {},
   "outputs": [],
   "source": [
    "# Only select columns that are needed from Listings dataset\n",
    "listings_data = listings.loc[:,('id',\n",
    "                                'review_scores_rating',\n",
    "                                'accommodates',\n",
    "                                'property_type',\n",
    "                                'neighbourhood_group_cleansed',\n",
    "                                'bathrooms',\n",
    "                                'bedrooms',\n",
    "                                'availability_90',\n",
    "                                'number_of_reviews')]"
   ]
  },
  {
   "cell_type": "code",
   "execution_count": 7,
   "metadata": {},
   "outputs": [],
   "source": [
    "# Merge Calendar and Listings data, using Calendar as base dataset so we can have more data / rows\n",
    "calendar_listings = calendar.merge(listings_data, \n",
    "                                   left_on = 'listing_id', \n",
    "                                   right_on = 'id')"
   ]
  },
  {
   "cell_type": "markdown",
   "metadata": {},
   "source": [
    "Merge / Integrate Reviews and Listings datasets"
   ]
  },
  {
   "cell_type": "code",
   "execution_count": 8,
   "metadata": {},
   "outputs": [],
   "source": [
    "# Only select columns that are needed from Reviews dataset\n",
    "reviews_data = reviews.loc[:,('listing_id',\n",
    "                                 'id',\n",
    "                                 'date')]"
   ]
  },
  {
   "cell_type": "code",
   "execution_count": 9,
   "metadata": {},
   "outputs": [],
   "source": [
    "# To avoid confusion with ID columns, the ID column in the Reviews dataset will be renamed to reviews_id\n",
    "reviews_data = reviews_data.rename(columns={\"id\": \"reviews_id\"})"
   ]
  },
  {
   "cell_type": "code",
   "execution_count": 10,
   "metadata": {},
   "outputs": [],
   "source": [
    "# Merge Reviews and Listings data, using Reviews as base dataset so we can have more data / rows\n",
    "reviews_listings = reviews_data.merge(listings_data, \n",
    "                                   left_on = 'listing_id', \n",
    "                                   right_on = 'id')"
   ]
  },
  {
   "cell_type": "markdown",
   "metadata": {},
   "source": [
    "Quick check of merged / integrated datasets"
   ]
  },
  {
   "cell_type": "code",
   "execution_count": 11,
   "metadata": {},
   "outputs": [
    {
     "name": "stdout",
     "output_type": "stream",
     "text": [
      "calendar_listings:  (1393570, 13)\n",
      "reviews_listings:  (84849, 12)\n"
     ]
    }
   ],
   "source": [
    "print(\"calendar_listings: \", calendar_listings.shape)\n",
    "print(\"reviews_listings: \", reviews_listings.shape)"
   ]
  },
  {
   "cell_type": "markdown",
   "metadata": {},
   "source": [
    "### Data Cleaning"
   ]
  },
  {
   "cell_type": "markdown",
   "metadata": {},
   "source": [
    "Clean data by handling null (NaN) values and fixing datatypes"
   ]
  },
  {
   "cell_type": "markdown",
   "metadata": {},
   "source": [
    "**calendar_listings - Handling null (NaN) values**"
   ]
  },
  {
   "cell_type": "code",
   "execution_count": 12,
   "metadata": {},
   "outputs": [
    {
     "data": {
      "text/plain": [
       "listing_id                           0\n",
       "date                                 0\n",
       "available                            0\n",
       "price                           459028\n",
       "id                                   0\n",
       "review_scores_rating            236155\n",
       "accommodates                         0\n",
       "property_type                      365\n",
       "neighbourhood_group_cleansed         0\n",
       "bathrooms                         5840\n",
       "bedrooms                          2190\n",
       "availability_90                      0\n",
       "number_of_reviews                    0\n",
       "dtype: int64"
      ]
     },
     "execution_count": 12,
     "metadata": {},
     "output_type": "execute_result"
    }
   ],
   "source": [
    "# Check calendar_listings for null values\n",
    "calendar_listings.isnull().sum()"
   ]
  },
  {
   "cell_type": "markdown",
   "metadata": {},
   "source": [
    "Columns with nulls:\n",
    "* *price:* The reason for some rows in the calendar dataset to not have prices is because these are listings without availability on certain dates. Such rows can be deleted as they would not be required in the analysis. \n",
    "* *review_scores_rating:* The assumption is that these listings did not receive any reviews_scores_rating. For this reason, we will impute '0' to replace the null values.\n",
    "* *property_type:* For the nulls, we will impute 'Other'. This seems like the most logical classification since the nulls are unknown.\n",
    "* *bathrooms:* We will impute the mode for null values because this represents the most likely # of bathrooms for a listing\n",
    "* *bedrooms:* We will impute the mode for null values because this represents the most likely # of bedrooms for a listing"
   ]
  },
  {
   "cell_type": "code",
   "execution_count": 13,
   "metadata": {},
   "outputs": [],
   "source": [
    "# Fix null values\n",
    "calendar_listings.at[calendar_listings['property_type'].isnull(), 'property_type'] = 'Other'\n",
    "calendar_listings.at[calendar_listings['review_scores_rating'].isnull(), 'review_scores_rating'] = 0\n",
    "cols = [\"bathrooms\", \"bedrooms\"]\n",
    "calendar_listings[cols]=calendar_listings[cols].fillna(calendar_listings.mode().iloc[0])"
   ]
  },
  {
   "cell_type": "code",
   "execution_count": 14,
   "metadata": {},
   "outputs": [],
   "source": [
    "# Delete all remaining rows with nulls\n",
    "calendar_listings = calendar_listings.dropna(axis = 0)"
   ]
  },
  {
   "cell_type": "code",
   "execution_count": 15,
   "metadata": {},
   "outputs": [
    {
     "data": {
      "text/plain": [
       "0"
      ]
     },
     "execution_count": 15,
     "metadata": {},
     "output_type": "execute_result"
    }
   ],
   "source": [
    "# Double-check calendar_listings for remaining null values\n",
    "calendar_listings.isnull().sum().sum()"
   ]
  },
  {
   "cell_type": "code",
   "execution_count": 16,
   "metadata": {},
   "outputs": [
    {
     "data": {
      "text/plain": [
       "(934542, 13)"
      ]
     },
     "execution_count": 16,
     "metadata": {},
     "output_type": "execute_result"
    }
   ],
   "source": [
    "# Checking new shape to ensure that we still have a lot of data\n",
    "calendar_listings.shape"
   ]
  },
  {
   "cell_type": "markdown",
   "metadata": {},
   "source": [
    "**calendar_listings - Fixing datatypes**"
   ]
  },
  {
   "cell_type": "code",
   "execution_count": 17,
   "metadata": {},
   "outputs": [
    {
     "data": {
      "text/plain": [
       "listing_id                        int64\n",
       "date                             object\n",
       "available                        object\n",
       "price                            object\n",
       "id                                int64\n",
       "review_scores_rating            float64\n",
       "accommodates                      int64\n",
       "property_type                    object\n",
       "neighbourhood_group_cleansed     object\n",
       "bathrooms                       float64\n",
       "bedrooms                        float64\n",
       "availability_90                   int64\n",
       "number_of_reviews                 int64\n",
       "dtype: object"
      ]
     },
     "execution_count": 17,
     "metadata": {},
     "output_type": "execute_result"
    }
   ],
   "source": [
    "# Check calendar_listings datatypes\n",
    "calendar_listings.dtypes"
   ]
  },
  {
   "cell_type": "markdown",
   "metadata": {},
   "source": [
    "Datatype corrections required:\n",
    "* *date:* We will change this to date time and create a new month / year columns\n",
    "* *price:* We will change this to float and remove dollar sign"
   ]
  },
  {
   "cell_type": "code",
   "execution_count": 18,
   "metadata": {},
   "outputs": [],
   "source": [
    "# Fix date dtype\n",
    "calendar_listings.loc[:,('date')] = pd.to_datetime(calendar_listings.loc[:,('date')])\n",
    "calendar_listings.loc[:,('year')] = pd.DatetimeIndex(calendar_listings.loc[:,('date')]).year\n",
    "calendar_listings.loc[:,('month')] = pd.to_datetime(calendar_listings.loc[:,('date')]).dt.month_name(locale = 'English')"
   ]
  },
  {
   "cell_type": "code",
   "execution_count": 19,
   "metadata": {},
   "outputs": [],
   "source": [
    "# Fix price dtype\n",
    "calendar_listings['price'] = calendar_listings['price'].str.replace(\"[$, ]\", \"\").astype(\"float\")"
   ]
  },
  {
   "cell_type": "markdown",
   "metadata": {},
   "source": [
    "**reviews_listings - Handling null (NaN) values**"
   ]
  },
  {
   "cell_type": "code",
   "execution_count": 20,
   "metadata": {},
   "outputs": [
    {
     "data": {
      "text/plain": [
       "listing_id                        0\n",
       "reviews_id                        0\n",
       "date                              0\n",
       "id                                0\n",
       "review_scores_rating             20\n",
       "accommodates                      0\n",
       "property_type                     0\n",
       "neighbourhood_group_cleansed      0\n",
       "bathrooms                       609\n",
       "bedrooms                        290\n",
       "availability_90                   0\n",
       "number_of_reviews                 0\n",
       "dtype: int64"
      ]
     },
     "execution_count": 20,
     "metadata": {},
     "output_type": "execute_result"
    }
   ],
   "source": [
    "# Check reviews_listings for null values\n",
    "reviews_listings.isnull().sum()"
   ]
  },
  {
   "cell_type": "markdown",
   "metadata": {},
   "source": [
    "Columns with nulls:\n",
    "* *review_scores_rating:* The assumption is that these listings did not receive any reviews_scores_rating. For this reason, we will impute '0' to replace the null values.\n",
    "* *bathrooms:* We will not need this column for this analyis\n",
    "* *bedrooms:* We will not need this column for this analyis"
   ]
  },
  {
   "cell_type": "code",
   "execution_count": 21,
   "metadata": {},
   "outputs": [],
   "source": [
    "# Fix null values\n",
    "reviews_listings.at[reviews_listings['review_scores_rating'].isnull(), 'review_scores_rating'] = 0\n",
    "reviews_listings = reviews_listings.drop(['bathrooms','bedrooms'], axis=1)"
   ]
  },
  {
   "cell_type": "code",
   "execution_count": 22,
   "metadata": {},
   "outputs": [
    {
     "data": {
      "text/plain": [
       "0"
      ]
     },
     "execution_count": 22,
     "metadata": {},
     "output_type": "execute_result"
    }
   ],
   "source": [
    "# Double-check reviews_listings for remaining null values\n",
    "reviews_listings.isnull().sum().sum()"
   ]
  },
  {
   "cell_type": "code",
   "execution_count": 23,
   "metadata": {},
   "outputs": [
    {
     "data": {
      "text/plain": [
       "(84849, 10)"
      ]
     },
     "execution_count": 23,
     "metadata": {},
     "output_type": "execute_result"
    }
   ],
   "source": [
    "# Checking new shape to ensure that we still have a lot of data\n",
    "reviews_listings.shape"
   ]
  },
  {
   "cell_type": "markdown",
   "metadata": {},
   "source": [
    "**reviews_listings - Fixing datatypes**"
   ]
  },
  {
   "cell_type": "code",
   "execution_count": 24,
   "metadata": {},
   "outputs": [
    {
     "data": {
      "text/plain": [
       "listing_id                        int64\n",
       "reviews_id                        int64\n",
       "date                             object\n",
       "id                                int64\n",
       "review_scores_rating            float64\n",
       "accommodates                      int64\n",
       "property_type                    object\n",
       "neighbourhood_group_cleansed     object\n",
       "availability_90                   int64\n",
       "number_of_reviews                 int64\n",
       "dtype: object"
      ]
     },
     "execution_count": 24,
     "metadata": {},
     "output_type": "execute_result"
    }
   ],
   "source": [
    "# Check reviews_listings datatypes\n",
    "reviews_listings.dtypes"
   ]
  },
  {
   "cell_type": "markdown",
   "metadata": {},
   "source": [
    "Datatype corrections required:\n",
    "* *date:* We will change this to date time and create a new month / year columns"
   ]
  },
  {
   "cell_type": "code",
   "execution_count": 25,
   "metadata": {},
   "outputs": [],
   "source": [
    "# Fix date dtype\n",
    "reviews_listings.loc[:,('date')] = pd.to_datetime(reviews_listings.loc[:,('date')])\n",
    "reviews_listings.loc[:,('year')] = pd.DatetimeIndex(reviews_listings.loc[:,('date')]).year\n",
    "reviews_listings.loc[:,('month')] = pd.to_datetime(reviews_listings.loc[:,('date')]).dt.month_name(locale = 'English')"
   ]
  },
  {
   "cell_type": "markdown",
   "metadata": {},
   "source": [
    "## Insights: Analyze and Visualize"
   ]
  },
  {
   "cell_type": "markdown",
   "metadata": {},
   "source": [
    "### 1. Location: Which neighbourhoods have the highest average prices and listings?**"
   ]
  },
  {
   "cell_type": "markdown",
   "metadata": {},
   "source": [
    "To see highest average prices by neighbourhoods, we will group the neighbourhood data by average prices"
   ]
  },
  {
   "cell_type": "code",
   "execution_count": 26,
   "metadata": {},
   "outputs": [
    {
     "data": {
      "text/plain": [
       "neighbourhood_group_cleansed\n",
       "Ballard                125.905980\n",
       "Beacon Hill            100.668781\n",
       "Capitol Hill           134.671895\n",
       "Cascade                154.033178\n",
       "Central Area           134.883729\n",
       "Delridge                90.926944\n",
       "Downtown               187.343042\n",
       "Interbay               118.421037\n",
       "Lake City               94.518589\n",
       "Magnolia               198.694341\n",
       "Northgate               93.455532\n",
       "Other neighborhoods    125.622015\n",
       "Queen Anne             176.117882\n",
       "Rainier Valley         100.104924\n",
       "Seward Park            111.110338\n",
       "University District    104.709937\n",
       "West Seattle           148.155804\n",
       "Name: price, dtype: float64"
      ]
     },
     "execution_count": 26,
     "metadata": {},
     "output_type": "execute_result"
    }
   ],
   "source": [
    "location_price_mean = calendar_listings.groupby(calendar_listings['neighbourhood_group_cleansed'],\n",
    "                                 sort=True)['price'].mean()\n",
    "location_price_mean"
   ]
  },
  {
   "cell_type": "markdown",
   "metadata": {},
   "source": [
    "To get a simple and easy visualation, a bar chart can help"
   ]
  },
  {
   "cell_type": "code",
   "execution_count": 27,
   "metadata": {
    "scrolled": true
   },
   "outputs": [
    {
     "data": {
      "text/plain": [
       "Text(0.5, 1.0, 'Average Monthly Airbnb Prices by Neighbourhoods')"
      ]
     },
     "execution_count": 27,
     "metadata": {},
     "output_type": "execute_result"
    },
    {
     "data": {
      "image/png": "[encoded data removed]",
      "text/plain": [
       "<Figure size 720x720 with 1 Axes>"
      ]
     },
     "metadata": {
      "needs_background": "light"
     },
     "output_type": "display_data"
    }
   ],
   "source": [
    "plt.rcParams.update({'font.size': 20})\n",
    "location_price_mean_chart = location_price_mean.plot(kind = 'bar', figsize = (10,10))\n",
    "location_price_mean_chart.set_xlabel(\"Neighbourhoods\")\n",
    "location_price_mean_chart.set_ylabel(\"Price per listing\")\n",
    "location_price_mean_chart.set_title(\"Average Monthly Airbnb Prices by Neighbourhoods\")"
   ]
  },
  {
   "cell_type": "markdown",
   "metadata": {},
   "source": [
    "To get an idea on # of available listings by neighbourhood"
   ]
  },
  {
   "cell_type": "code",
   "execution_count": 28,
   "metadata": {},
   "outputs": [
    {
     "data": {
      "text/html": [
       "<div>\n",
       "<style scoped>\n",
       "    .dataframe tbody tr th:only-of-type {\n",
       "        vertical-align: middle;\n",
       "    }\n",
       "\n",
       "    .dataframe tbody tr th {\n",
       "        vertical-align: top;\n",
       "    }\n",
       "\n",
       "    .dataframe thead th {\n",
       "        text-align: right;\n",
       "    }\n",
       "</style>\n",
       "<table border=\"1\" class=\"dataframe\">\n",
       "  <thead>\n",
       "    <tr style=\"text-align: right;\">\n",
       "      <th></th>\n",
       "      <th>listings</th>\n",
       "    </tr>\n",
       "  </thead>\n",
       "  <tbody>\n",
       "    <tr>\n",
       "      <td>Other neighborhoods</td>\n",
       "      <td>194661</td>\n",
       "    </tr>\n",
       "    <tr>\n",
       "      <td>Capitol Hill</td>\n",
       "      <td>132668</td>\n",
       "    </tr>\n",
       "    <tr>\n",
       "      <td>Downtown</td>\n",
       "      <td>125725</td>\n",
       "    </tr>\n",
       "    <tr>\n",
       "      <td>Central Area</td>\n",
       "      <td>90556</td>\n",
       "    </tr>\n",
       "    <tr>\n",
       "      <td>Queen Anne</td>\n",
       "      <td>66804</td>\n",
       "    </tr>\n",
       "    <tr>\n",
       "      <td>Ballard</td>\n",
       "      <td>58115</td>\n",
       "    </tr>\n",
       "    <tr>\n",
       "      <td>West Seattle</td>\n",
       "      <td>51950</td>\n",
       "    </tr>\n",
       "    <tr>\n",
       "      <td>Rainier Valley</td>\n",
       "      <td>38914</td>\n",
       "    </tr>\n",
       "    <tr>\n",
       "      <td>University District</td>\n",
       "      <td>33148</td>\n",
       "    </tr>\n",
       "    <tr>\n",
       "      <td>Beacon Hill</td>\n",
       "      <td>30270</td>\n",
       "    </tr>\n",
       "    <tr>\n",
       "      <td>Delridge</td>\n",
       "      <td>21545</td>\n",
       "    </tr>\n",
       "    <tr>\n",
       "      <td>Northgate</td>\n",
       "      <td>21105</td>\n",
       "    </tr>\n",
       "    <tr>\n",
       "      <td>Lake City</td>\n",
       "      <td>18801</td>\n",
       "    </tr>\n",
       "    <tr>\n",
       "      <td>Cascade</td>\n",
       "      <td>18717</td>\n",
       "    </tr>\n",
       "    <tr>\n",
       "      <td>Magnolia</td>\n",
       "      <td>17248</td>\n",
       "    </tr>\n",
       "    <tr>\n",
       "      <td>Seward Park</td>\n",
       "      <td>10921</td>\n",
       "    </tr>\n",
       "    <tr>\n",
       "      <td>Interbay</td>\n",
       "      <td>3394</td>\n",
       "    </tr>\n",
       "  </tbody>\n",
       "</table>\n",
       "</div>"
      ],
      "text/plain": [
       "                     listings\n",
       "Other neighborhoods    194661\n",
       "Capitol Hill           132668\n",
       "Downtown               125725\n",
       "Central Area            90556\n",
       "Queen Anne              66804\n",
       "Ballard                 58115\n",
       "West Seattle            51950\n",
       "Rainier Valley          38914\n",
       "University District     33148\n",
       "Beacon Hill             30270\n",
       "Delridge                21545\n",
       "Northgate               21105\n",
       "Lake City               18801\n",
       "Cascade                 18717\n",
       "Magnolia                17248\n",
       "Seward Park             10921\n",
       "Interbay                 3394"
      ]
     },
     "execution_count": 28,
     "metadata": {},
     "output_type": "execute_result"
    }
   ],
   "source": [
    "listings_counts = pd.DataFrame(calendar_listings['neighbourhood_group_cleansed'].value_counts())\n",
    "listings_counts = listings_counts.rename(columns = {'neighbourhood_group_cleansed': 'listings'})\n",
    "listings_counts"
   ]
  },
  {
   "cell_type": "markdown",
   "metadata": {},
   "source": [
    "To get an idea of # of bookings by neighbourhood"
   ]
  },
  {
   "cell_type": "code",
   "execution_count": 29,
   "metadata": {},
   "outputs": [
    {
     "data": {
      "text/html": [
       "<div>\n",
       "<style scoped>\n",
       "    .dataframe tbody tr th:only-of-type {\n",
       "        vertical-align: middle;\n",
       "    }\n",
       "\n",
       "    .dataframe tbody tr th {\n",
       "        vertical-align: top;\n",
       "    }\n",
       "\n",
       "    .dataframe thead th {\n",
       "        text-align: right;\n",
       "    }\n",
       "</style>\n",
       "<table border=\"1\" class=\"dataframe\">\n",
       "  <thead>\n",
       "    <tr style=\"text-align: right;\">\n",
       "      <th></th>\n",
       "      <th>bookings</th>\n",
       "    </tr>\n",
       "  </thead>\n",
       "  <tbody>\n",
       "    <tr>\n",
       "      <td>Other neighborhoods</td>\n",
       "      <td>17210</td>\n",
       "    </tr>\n",
       "    <tr>\n",
       "      <td>Downtown</td>\n",
       "      <td>12606</td>\n",
       "    </tr>\n",
       "    <tr>\n",
       "      <td>Capitol Hill</td>\n",
       "      <td>12412</td>\n",
       "    </tr>\n",
       "    <tr>\n",
       "      <td>Central Area</td>\n",
       "      <td>8442</td>\n",
       "    </tr>\n",
       "    <tr>\n",
       "      <td>Ballard</td>\n",
       "      <td>7118</td>\n",
       "    </tr>\n",
       "    <tr>\n",
       "      <td>Queen Anne</td>\n",
       "      <td>6613</td>\n",
       "    </tr>\n",
       "    <tr>\n",
       "      <td>Rainier Valley</td>\n",
       "      <td>4085</td>\n",
       "    </tr>\n",
       "    <tr>\n",
       "      <td>West Seattle</td>\n",
       "      <td>3407</td>\n",
       "    </tr>\n",
       "    <tr>\n",
       "      <td>Beacon Hill</td>\n",
       "      <td>3355</td>\n",
       "    </tr>\n",
       "    <tr>\n",
       "      <td>Delridge</td>\n",
       "      <td>2197</td>\n",
       "    </tr>\n",
       "    <tr>\n",
       "      <td>Cascade</td>\n",
       "      <td>1420</td>\n",
       "    </tr>\n",
       "    <tr>\n",
       "      <td>Northgate</td>\n",
       "      <td>1389</td>\n",
       "    </tr>\n",
       "    <tr>\n",
       "      <td>University District</td>\n",
       "      <td>1316</td>\n",
       "    </tr>\n",
       "    <tr>\n",
       "      <td>Seward Park</td>\n",
       "      <td>1195</td>\n",
       "    </tr>\n",
       "    <tr>\n",
       "      <td>Lake City</td>\n",
       "      <td>1028</td>\n",
       "    </tr>\n",
       "    <tr>\n",
       "      <td>Magnolia</td>\n",
       "      <td>933</td>\n",
       "    </tr>\n",
       "    <tr>\n",
       "      <td>Interbay</td>\n",
       "      <td>123</td>\n",
       "    </tr>\n",
       "  </tbody>\n",
       "</table>\n",
       "</div>"
      ],
      "text/plain": [
       "                     bookings\n",
       "Other neighborhoods     17210\n",
       "Downtown                12606\n",
       "Capitol Hill            12412\n",
       "Central Area             8442\n",
       "Ballard                  7118\n",
       "Queen Anne               6613\n",
       "Rainier Valley           4085\n",
       "West Seattle             3407\n",
       "Beacon Hill              3355\n",
       "Delridge                 2197\n",
       "Cascade                  1420\n",
       "Northgate                1389\n",
       "University District      1316\n",
       "Seward Park              1195\n",
       "Lake City                1028\n",
       "Magnolia                  933\n",
       "Interbay                  123"
      ]
     },
     "execution_count": 29,
     "metadata": {},
     "output_type": "execute_result"
    }
   ],
   "source": [
    "bookings_counts = pd.DataFrame(reviews_listings['neighbourhood_group_cleansed'].value_counts())\n",
    "bookings_counts = bookings_counts.rename(columns = {'neighbourhood_group_cleansed': 'bookings'})\n",
    "bookings_counts"
   ]
  },
  {
   "cell_type": "markdown",
   "metadata": {},
   "source": [
    "Putting both together for comparison"
   ]
  },
  {
   "cell_type": "code",
   "execution_count": 30,
   "metadata": {},
   "outputs": [],
   "source": [
    "# Merge to compare\n",
    "listings_bookings = pd.concat([listings_counts, bookings_counts], names=['neighbourhood', 'listings', 'bookings'], axis=1, sort=False)"
   ]
  },
  {
   "cell_type": "code",
   "execution_count": 31,
   "metadata": {},
   "outputs": [
    {
     "data": {
      "text/html": [
       "<div>\n",
       "<style scoped>\n",
       "    .dataframe tbody tr th:only-of-type {\n",
       "        vertical-align: middle;\n",
       "    }\n",
       "\n",
       "    .dataframe tbody tr th {\n",
       "        vertical-align: top;\n",
       "    }\n",
       "\n",
       "    .dataframe thead th {\n",
       "        text-align: right;\n",
       "    }\n",
       "</style>\n",
       "<table border=\"1\" class=\"dataframe\">\n",
       "  <thead>\n",
       "    <tr style=\"text-align: right;\">\n",
       "      <th></th>\n",
       "      <th>listings</th>\n",
       "      <th>bookings</th>\n",
       "    </tr>\n",
       "  </thead>\n",
       "  <tbody>\n",
       "    <tr>\n",
       "      <td>Other neighborhoods</td>\n",
       "      <td>194661</td>\n",
       "      <td>17210</td>\n",
       "    </tr>\n",
       "    <tr>\n",
       "      <td>Capitol Hill</td>\n",
       "      <td>132668</td>\n",
       "      <td>12412</td>\n",
       "    </tr>\n",
       "    <tr>\n",
       "      <td>Downtown</td>\n",
       "      <td>125725</td>\n",
       "      <td>12606</td>\n",
       "    </tr>\n",
       "    <tr>\n",
       "      <td>Central Area</td>\n",
       "      <td>90556</td>\n",
       "      <td>8442</td>\n",
       "    </tr>\n",
       "    <tr>\n",
       "      <td>Queen Anne</td>\n",
       "      <td>66804</td>\n",
       "      <td>6613</td>\n",
       "    </tr>\n",
       "    <tr>\n",
       "      <td>Ballard</td>\n",
       "      <td>58115</td>\n",
       "      <td>7118</td>\n",
       "    </tr>\n",
       "    <tr>\n",
       "      <td>West Seattle</td>\n",
       "      <td>51950</td>\n",
       "      <td>3407</td>\n",
       "    </tr>\n",
       "    <tr>\n",
       "      <td>Rainier Valley</td>\n",
       "      <td>38914</td>\n",
       "      <td>4085</td>\n",
       "    </tr>\n",
       "    <tr>\n",
       "      <td>University District</td>\n",
       "      <td>33148</td>\n",
       "      <td>1316</td>\n",
       "    </tr>\n",
       "    <tr>\n",
       "      <td>Beacon Hill</td>\n",
       "      <td>30270</td>\n",
       "      <td>3355</td>\n",
       "    </tr>\n",
       "    <tr>\n",
       "      <td>Delridge</td>\n",
       "      <td>21545</td>\n",
       "      <td>2197</td>\n",
       "    </tr>\n",
       "    <tr>\n",
       "      <td>Northgate</td>\n",
       "      <td>21105</td>\n",
       "      <td>1389</td>\n",
       "    </tr>\n",
       "    <tr>\n",
       "      <td>Lake City</td>\n",
       "      <td>18801</td>\n",
       "      <td>1028</td>\n",
       "    </tr>\n",
       "    <tr>\n",
       "      <td>Cascade</td>\n",
       "      <td>18717</td>\n",
       "      <td>1420</td>\n",
       "    </tr>\n",
       "    <tr>\n",
       "      <td>Magnolia</td>\n",
       "      <td>17248</td>\n",
       "      <td>933</td>\n",
       "    </tr>\n",
       "    <tr>\n",
       "      <td>Seward Park</td>\n",
       "      <td>10921</td>\n",
       "      <td>1195</td>\n",
       "    </tr>\n",
       "    <tr>\n",
       "      <td>Interbay</td>\n",
       "      <td>3394</td>\n",
       "      <td>123</td>\n",
       "    </tr>\n",
       "  </tbody>\n",
       "</table>\n",
       "</div>"
      ],
      "text/plain": [
       "                     listings  bookings\n",
       "Other neighborhoods    194661     17210\n",
       "Capitol Hill           132668     12412\n",
       "Downtown               125725     12606\n",
       "Central Area            90556      8442\n",
       "Queen Anne              66804      6613\n",
       "Ballard                 58115      7118\n",
       "West Seattle            51950      3407\n",
       "Rainier Valley          38914      4085\n",
       "University District     33148      1316\n",
       "Beacon Hill             30270      3355\n",
       "Delridge                21545      2197\n",
       "Northgate               21105      1389\n",
       "Lake City               18801      1028\n",
       "Cascade                 18717      1420\n",
       "Magnolia                17248       933\n",
       "Seward Park             10921      1195\n",
       "Interbay                 3394       123"
      ]
     },
     "execution_count": 31,
     "metadata": {},
     "output_type": "execute_result"
    }
   ],
   "source": [
    "listings_bookings"
   ]
  },
  {
   "cell_type": "code",
   "execution_count": 32,
   "metadata": {},
   "outputs": [
    {
     "data": {
      "text/plain": [
       "Text(0.5, 1.0, 'Listings vs Bookings Comparison by Neighbourhood')"
      ]
     },
     "execution_count": 32,
     "metadata": {},
     "output_type": "execute_result"
    },
    {
     "data": {
      "image/png": "[encoded data removed]",
      "text/plain": [
       "<Figure size 1080x1080 with 1 Axes>"
      ]
     },
     "metadata": {
      "needs_background": "light"
     },
     "output_type": "display_data"
    }
   ],
   "source": [
    "plt.rcParams.update({'font.size': 15})\n",
    "listings_bookings_chart = listings_bookings.plot(kind = 'barh', figsize = (15,15))\n",
    "listings_bookings_chart.legend = ([\"Listings\", \"Bookings\"]);\n",
    "listings_bookings_chart.set_xlabel(\"Count\")\n",
    "listings_bookings_chart.set_ylabel(\"Neighbourhoods\")\n",
    "listings_bookings_chart.set_title(\"Listings vs Bookings Comparison by Neighbourhood\")"
   ]
  },
  {
   "cell_type": "markdown",
   "metadata": {},
   "source": [
    "**Summary:**\n",
    "> **Magnolia** has the highest average price<br />\n",
    "> **Capitol Hill** has the highest number of listings<br /> \n",
    "> **Downtown** has the highest number of bookings<br /><br />\n",
    "> The analysis gives a good idea of the where the demand is for Airbnb in Seattle. Also, it shows that the neighbourhood with the highest average listing price does not mean it is where most people are going. This shows that location is a factor when it comes to pricing"
   ]
  },
  {
   "cell_type": "markdown",
   "metadata": {},
   "source": [
    "### 2. Timing: Which months have the highest average prices and highest listings?**"
   ]
  },
  {
   "cell_type": "markdown",
   "metadata": {},
   "source": [
    "To see highest average prices by months, we will group the month data by average prices"
   ]
  },
  {
   "cell_type": "code",
   "execution_count": 33,
   "metadata": {},
   "outputs": [
    {
     "data": {
      "text/plain": [
       "month\n",
       "January      122.912176\n",
       "February     124.293927\n",
       "March        128.644488\n",
       "April        135.097005\n",
       "May          139.538183\n",
       "June         147.473137\n",
       "July         152.094150\n",
       "August       150.656594\n",
       "September    143.255949\n",
       "October      137.031939\n",
       "November     135.688738\n",
       "December     137.251835\n",
       "Name: price, dtype: float64"
      ]
     },
     "execution_count": 33,
     "metadata": {},
     "output_type": "execute_result"
    }
   ],
   "source": [
    "month_price_mean = calendar_listings.groupby(calendar_listings['month'],\n",
    "                                 sort=False)['price'].mean()\n",
    "month_price_mean"
   ]
  },
  {
   "cell_type": "markdown",
   "metadata": {},
   "source": [
    "To get a simple and easy visualation, a line chart can help"
   ]
  },
  {
   "cell_type": "code",
   "execution_count": 34,
   "metadata": {},
   "outputs": [
    {
     "data": {
      "text/plain": [
       "Text(0.5, 1, 'Average Monthly Airbnb Prices in Seattle')"
      ]
     },
     "execution_count": 34,
     "metadata": {},
     "output_type": "execute_result"
    },
    {
     "data": {
      "image/png": "[encoded data removed]",
      "text/plain": [
       "<Figure size 907.2x432 with 1 Axes>"
      ]
     },
     "metadata": {},
     "output_type": "display_data"
    }
   ],
   "source": [
    "plt.rcParams.update({'font.size': 10})\n",
    "sb.set_style(\"darkgrid\")\n",
    "sb.set_context(\"talk\")\n",
    "plt_price_month = sb.catplot(x='month', y='price', data=calendar_listings, kind=\"point\", height=6, aspect=2.1)\n",
    "plt_price_month = plt_price_month.set_axis_labels(\"Month\", \"Price ($)\")\n",
    "plt_price_month.set_xticklabels(rotation=90)\n",
    "plt_price_month.ax.set_title(\"Average Monthly Airbnb Prices in Seattle\")"
   ]
  },
  {
   "cell_type": "markdown",
   "metadata": {},
   "source": [
    "To see the number of listings per month, we create a new dataframe with a subset of the columns. We will then use a combination of GroupBy() to get the counts."
   ]
  },
  {
   "cell_type": "code",
   "execution_count": 35,
   "metadata": {},
   "outputs": [
    {
     "data": {
      "text/plain": [
       "December     87061\n",
       "March        83938\n",
       "October      82438\n",
       "November     81780\n",
       "May          79971\n",
       "September    77246\n",
       "June         77244\n",
       "August       76347\n",
       "April        76037\n",
       "July         74222\n",
       "February     73321\n",
       "January      64937\n",
       "Name: month, dtype: int64"
      ]
     },
     "execution_count": 35,
     "metadata": {},
     "output_type": "execute_result"
    }
   ],
   "source": [
    "# Getting an idea first of monthly counts\n",
    "calendar_listings['month'].value_counts()"
   ]
  },
  {
   "cell_type": "code",
   "execution_count": 36,
   "metadata": {},
   "outputs": [
    {
     "data": {
      "text/plain": [
       "count       934542\n",
       "unique          12\n",
       "top       December\n",
       "freq         87061\n",
       "Name: month, dtype: object"
      ]
     },
     "execution_count": 36,
     "metadata": {},
     "output_type": "execute_result"
    }
   ],
   "source": [
    "calendar_listings['month'].describe()"
   ]
  },
  {
   "cell_type": "code",
   "execution_count": 37,
   "metadata": {},
   "outputs": [],
   "source": [
    "locations_month = calendar_listings.loc[:,('listing_id',\n",
    "                                    'date', \n",
    "                                    'year', \n",
    "                                    'month', \n",
    "                                    'neighbourhood_group_cleansed')]"
   ]
  },
  {
   "cell_type": "code",
   "execution_count": 38,
   "metadata": {},
   "outputs": [],
   "source": [
    "locations_month = locations_month.groupby('neighbourhood_group_cleansed')['month'].value_counts().unstack().fillna(0)"
   ]
  },
  {
   "cell_type": "markdown",
   "metadata": {},
   "source": [
    "Set the order appropriately so the data is easier to view"
   ]
  },
  {
   "cell_type": "code",
   "execution_count": 39,
   "metadata": {},
   "outputs": [
    {
     "data": {
      "text/html": [
       "<div>\n",
       "<style scoped>\n",
       "    .dataframe tbody tr th:only-of-type {\n",
       "        vertical-align: middle;\n",
       "    }\n",
       "\n",
       "    .dataframe tbody tr th {\n",
       "        vertical-align: top;\n",
       "    }\n",
       "\n",
       "    .dataframe thead th {\n",
       "        text-align: right;\n",
       "    }\n",
       "</style>\n",
       "<table border=\"1\" class=\"dataframe\">\n",
       "  <thead>\n",
       "    <tr style=\"text-align: right;\">\n",
       "      <th>month</th>\n",
       "      <th>January</th>\n",
       "      <th>February</th>\n",
       "      <th>March</th>\n",
       "      <th>April</th>\n",
       "      <th>May</th>\n",
       "      <th>June</th>\n",
       "      <th>July</th>\n",
       "      <th>August</th>\n",
       "      <th>September</th>\n",
       "      <th>October</th>\n",
       "      <th>November</th>\n",
       "      <th>December</th>\n",
       "    </tr>\n",
       "    <tr>\n",
       "      <th>neighbourhood_group_cleansed</th>\n",
       "      <th></th>\n",
       "      <th></th>\n",
       "      <th></th>\n",
       "      <th></th>\n",
       "      <th></th>\n",
       "      <th></th>\n",
       "      <th></th>\n",
       "      <th></th>\n",
       "      <th></th>\n",
       "      <th></th>\n",
       "      <th></th>\n",
       "      <th></th>\n",
       "    </tr>\n",
       "  </thead>\n",
       "  <tbody>\n",
       "    <tr>\n",
       "      <td>Ballard</td>\n",
       "      <td>3678</td>\n",
       "      <td>4093</td>\n",
       "      <td>4869</td>\n",
       "      <td>4613</td>\n",
       "      <td>5005</td>\n",
       "      <td>5047</td>\n",
       "      <td>4750</td>\n",
       "      <td>4991</td>\n",
       "      <td>4978</td>\n",
       "      <td>5284</td>\n",
       "      <td>5252</td>\n",
       "      <td>5555</td>\n",
       "    </tr>\n",
       "    <tr>\n",
       "      <td>Beacon Hill</td>\n",
       "      <td>2110</td>\n",
       "      <td>2371</td>\n",
       "      <td>2740</td>\n",
       "      <td>2551</td>\n",
       "      <td>2696</td>\n",
       "      <td>2562</td>\n",
       "      <td>2378</td>\n",
       "      <td>2548</td>\n",
       "      <td>2481</td>\n",
       "      <td>2582</td>\n",
       "      <td>2535</td>\n",
       "      <td>2716</td>\n",
       "    </tr>\n",
       "    <tr>\n",
       "      <td>Capitol Hill</td>\n",
       "      <td>9265</td>\n",
       "      <td>10348</td>\n",
       "      <td>11634</td>\n",
       "      <td>10439</td>\n",
       "      <td>11018</td>\n",
       "      <td>10905</td>\n",
       "      <td>10575</td>\n",
       "      <td>10806</td>\n",
       "      <td>11113</td>\n",
       "      <td>11966</td>\n",
       "      <td>11872</td>\n",
       "      <td>12727</td>\n",
       "    </tr>\n",
       "    <tr>\n",
       "      <td>Cascade</td>\n",
       "      <td>1222</td>\n",
       "      <td>1438</td>\n",
       "      <td>1754</td>\n",
       "      <td>1534</td>\n",
       "      <td>1636</td>\n",
       "      <td>1501</td>\n",
       "      <td>1358</td>\n",
       "      <td>1413</td>\n",
       "      <td>1560</td>\n",
       "      <td>1702</td>\n",
       "      <td>1721</td>\n",
       "      <td>1878</td>\n",
       "    </tr>\n",
       "    <tr>\n",
       "      <td>Central Area</td>\n",
       "      <td>5892</td>\n",
       "      <td>7014</td>\n",
       "      <td>7899</td>\n",
       "      <td>7100</td>\n",
       "      <td>7608</td>\n",
       "      <td>7550</td>\n",
       "      <td>7392</td>\n",
       "      <td>7580</td>\n",
       "      <td>7657</td>\n",
       "      <td>8090</td>\n",
       "      <td>8094</td>\n",
       "      <td>8680</td>\n",
       "    </tr>\n",
       "    <tr>\n",
       "      <td>Delridge</td>\n",
       "      <td>1450</td>\n",
       "      <td>1724</td>\n",
       "      <td>1888</td>\n",
       "      <td>1799</td>\n",
       "      <td>1872</td>\n",
       "      <td>1830</td>\n",
       "      <td>1750</td>\n",
       "      <td>1748</td>\n",
       "      <td>1789</td>\n",
       "      <td>1883</td>\n",
       "      <td>1856</td>\n",
       "      <td>1956</td>\n",
       "    </tr>\n",
       "    <tr>\n",
       "      <td>Downtown</td>\n",
       "      <td>9507</td>\n",
       "      <td>10869</td>\n",
       "      <td>12297</td>\n",
       "      <td>11014</td>\n",
       "      <td>11203</td>\n",
       "      <td>10254</td>\n",
       "      <td>9532</td>\n",
       "      <td>9757</td>\n",
       "      <td>9700</td>\n",
       "      <td>10369</td>\n",
       "      <td>10244</td>\n",
       "      <td>10979</td>\n",
       "    </tr>\n",
       "    <tr>\n",
       "      <td>Interbay</td>\n",
       "      <td>275</td>\n",
       "      <td>286</td>\n",
       "      <td>310</td>\n",
       "      <td>271</td>\n",
       "      <td>277</td>\n",
       "      <td>270</td>\n",
       "      <td>276</td>\n",
       "      <td>275</td>\n",
       "      <td>270</td>\n",
       "      <td>279</td>\n",
       "      <td>295</td>\n",
       "      <td>310</td>\n",
       "    </tr>\n",
       "    <tr>\n",
       "      <td>Lake City</td>\n",
       "      <td>1361</td>\n",
       "      <td>1416</td>\n",
       "      <td>1665</td>\n",
       "      <td>1582</td>\n",
       "      <td>1651</td>\n",
       "      <td>1584</td>\n",
       "      <td>1444</td>\n",
       "      <td>1495</td>\n",
       "      <td>1545</td>\n",
       "      <td>1703</td>\n",
       "      <td>1650</td>\n",
       "      <td>1705</td>\n",
       "    </tr>\n",
       "    <tr>\n",
       "      <td>Magnolia</td>\n",
       "      <td>1362</td>\n",
       "      <td>1438</td>\n",
       "      <td>1529</td>\n",
       "      <td>1366</td>\n",
       "      <td>1446</td>\n",
       "      <td>1360</td>\n",
       "      <td>1419</td>\n",
       "      <td>1409</td>\n",
       "      <td>1420</td>\n",
       "      <td>1506</td>\n",
       "      <td>1465</td>\n",
       "      <td>1528</td>\n",
       "    </tr>\n",
       "    <tr>\n",
       "      <td>Northgate</td>\n",
       "      <td>1308</td>\n",
       "      <td>1557</td>\n",
       "      <td>1930</td>\n",
       "      <td>1777</td>\n",
       "      <td>1936</td>\n",
       "      <td>1827</td>\n",
       "      <td>1751</td>\n",
       "      <td>1762</td>\n",
       "      <td>1746</td>\n",
       "      <td>1843</td>\n",
       "      <td>1804</td>\n",
       "      <td>1864</td>\n",
       "    </tr>\n",
       "    <tr>\n",
       "      <td>Other neighborhoods</td>\n",
       "      <td>13262</td>\n",
       "      <td>14622</td>\n",
       "      <td>17047</td>\n",
       "      <td>15811</td>\n",
       "      <td>16814</td>\n",
       "      <td>16145</td>\n",
       "      <td>15659</td>\n",
       "      <td>16212</td>\n",
       "      <td>16409</td>\n",
       "      <td>17374</td>\n",
       "      <td>17154</td>\n",
       "      <td>18152</td>\n",
       "    </tr>\n",
       "    <tr>\n",
       "      <td>Queen Anne</td>\n",
       "      <td>4498</td>\n",
       "      <td>5152</td>\n",
       "      <td>5783</td>\n",
       "      <td>5144</td>\n",
       "      <td>5341</td>\n",
       "      <td>5130</td>\n",
       "      <td>5106</td>\n",
       "      <td>5382</td>\n",
       "      <td>5642</td>\n",
       "      <td>6271</td>\n",
       "      <td>6459</td>\n",
       "      <td>6896</td>\n",
       "    </tr>\n",
       "    <tr>\n",
       "      <td>Rainier Valley</td>\n",
       "      <td>2721</td>\n",
       "      <td>3185</td>\n",
       "      <td>3754</td>\n",
       "      <td>3218</td>\n",
       "      <td>3266</td>\n",
       "      <td>3207</td>\n",
       "      <td>3064</td>\n",
       "      <td>3100</td>\n",
       "      <td>3113</td>\n",
       "      <td>3346</td>\n",
       "      <td>3333</td>\n",
       "      <td>3607</td>\n",
       "    </tr>\n",
       "    <tr>\n",
       "      <td>Seward Park</td>\n",
       "      <td>849</td>\n",
       "      <td>978</td>\n",
       "      <td>1138</td>\n",
       "      <td>906</td>\n",
       "      <td>940</td>\n",
       "      <td>876</td>\n",
       "      <td>819</td>\n",
       "      <td>828</td>\n",
       "      <td>816</td>\n",
       "      <td>926</td>\n",
       "      <td>900</td>\n",
       "      <td>945</td>\n",
       "    </tr>\n",
       "    <tr>\n",
       "      <td>University District</td>\n",
       "      <td>2544</td>\n",
       "      <td>2719</td>\n",
       "      <td>2989</td>\n",
       "      <td>2636</td>\n",
       "      <td>2818</td>\n",
       "      <td>2784</td>\n",
       "      <td>2741</td>\n",
       "      <td>2794</td>\n",
       "      <td>2713</td>\n",
       "      <td>2817</td>\n",
       "      <td>2726</td>\n",
       "      <td>2867</td>\n",
       "    </tr>\n",
       "    <tr>\n",
       "      <td>West Seattle</td>\n",
       "      <td>3633</td>\n",
       "      <td>4111</td>\n",
       "      <td>4712</td>\n",
       "      <td>4276</td>\n",
       "      <td>4444</td>\n",
       "      <td>4412</td>\n",
       "      <td>4208</td>\n",
       "      <td>4247</td>\n",
       "      <td>4294</td>\n",
       "      <td>4497</td>\n",
       "      <td>4420</td>\n",
       "      <td>4696</td>\n",
       "    </tr>\n",
       "  </tbody>\n",
       "</table>\n",
       "</div>"
      ],
      "text/plain": [
       "month                         January  February  March  April    May   June  \\\n",
       "neighbourhood_group_cleansed                                                  \n",
       "Ballard                          3678      4093   4869   4613   5005   5047   \n",
       "Beacon Hill                      2110      2371   2740   2551   2696   2562   \n",
       "Capitol Hill                     9265     10348  11634  10439  11018  10905   \n",
       "Cascade                          1222      1438   1754   1534   1636   1501   \n",
       "Central Area                     5892      7014   7899   7100   7608   7550   \n",
       "Delridge                         1450      1724   1888   1799   1872   1830   \n",
       "Downtown                         9507     10869  12297  11014  11203  10254   \n",
       "Interbay                          275       286    310    271    277    270   \n",
       "Lake City                        1361      1416   1665   1582   1651   1584   \n",
       "Magnolia                         1362      1438   1529   1366   1446   1360   \n",
       "Northgate                        1308      1557   1930   1777   1936   1827   \n",
       "Other neighborhoods             13262     14622  17047  15811  16814  16145   \n",
       "Queen Anne                       4498      5152   5783   5144   5341   5130   \n",
       "Rainier Valley                   2721      3185   3754   3218   3266   3207   \n",
       "Seward Park                       849       978   1138    906    940    876   \n",
       "University District              2544      2719   2989   2636   2818   2784   \n",
       "West Seattle                     3633      4111   4712   4276   4444   4412   \n",
       "\n",
       "month                          July  August  September  October  November  \\\n",
       "neighbourhood_group_cleansed                                                \n",
       "Ballard                        4750    4991       4978     5284      5252   \n",
       "Beacon Hill                    2378    2548       2481     2582      2535   \n",
       "Capitol Hill                  10575   10806      11113    11966     11872   \n",
       "Cascade                        1358    1413       1560     1702      1721   \n",
       "Central Area                   7392    7580       7657     8090      8094   \n",
       "Delridge                       1750    1748       1789     1883      1856   \n",
       "Downtown                       9532    9757       9700    10369     10244   \n",
       "Interbay                        276     275        270      279       295   \n",
       "Lake City                      1444    1495       1545     1703      1650   \n",
       "Magnolia                       1419    1409       1420     1506      1465   \n",
       "Northgate                      1751    1762       1746     1843      1804   \n",
       "Other neighborhoods           15659   16212      16409    17374     17154   \n",
       "Queen Anne                     5106    5382       5642     6271      6459   \n",
       "Rainier Valley                 3064    3100       3113     3346      3333   \n",
       "Seward Park                     819     828        816      926       900   \n",
       "University District            2741    2794       2713     2817      2726   \n",
       "West Seattle                   4208    4247       4294     4497      4420   \n",
       "\n",
       "month                         December  \n",
       "neighbourhood_group_cleansed            \n",
       "Ballard                           5555  \n",
       "Beacon Hill                       2716  \n",
       "Capitol Hill                     12727  \n",
       "Cascade                           1878  \n",
       "Central Area                      8680  \n",
       "Delridge                          1956  \n",
       "Downtown                         10979  \n",
       "Interbay                           310  \n",
       "Lake City                         1705  \n",
       "Magnolia                          1528  \n",
       "Northgate                         1864  \n",
       "Other neighborhoods              18152  \n",
       "Queen Anne                        6896  \n",
       "Rainier Valley                    3607  \n",
       "Seward Park                        945  \n",
       "University District               2867  \n",
       "West Seattle                      4696  "
      ]
     },
     "execution_count": 39,
     "metadata": {},
     "output_type": "execute_result"
    }
   ],
   "source": [
    "# Reorder\n",
    "locations_month_reordered = locations_month[['January', 'February', 'March', 'April',\n",
    "                     'May', 'June', 'July', 'August',\n",
    "                     'September', 'October', 'November', 'December']]\n",
    "locations_month_reordered"
   ]
  },
  {
   "cell_type": "markdown",
   "metadata": {},
   "source": [
    "To get an idea of # of bookings by month"
   ]
  },
  {
   "cell_type": "code",
   "execution_count": 40,
   "metadata": {},
   "outputs": [
    {
     "data": {
      "text/plain": [
       "January       2867\n",
       "February      2643\n",
       "March         4158\n",
       "April         4233\n",
       "May           5854\n",
       "June          8544\n",
       "July         10503\n",
       "August       13018\n",
       "September    11677\n",
       "October       8955\n",
       "November      6665\n",
       "December      5732\n",
       "Name: month, dtype: int64"
      ]
     },
     "execution_count": 40,
     "metadata": {},
     "output_type": "execute_result"
    }
   ],
   "source": [
    "reviews_month = reviews_listings['month'].value_counts()\n",
    "reviews_month_reordered = reviews_month[['January', 'February', 'March', 'April',\n",
    "                     'May', 'June', 'July', 'August',\n",
    "                     'September', 'October', 'November', 'December']]\n",
    "reviews_month_reordered"
   ]
  },
  {
   "cell_type": "code",
   "execution_count": 41,
   "metadata": {},
   "outputs": [
    {
     "data": {
      "text/plain": [
       "<matplotlib.axes._subplots.AxesSubplot at 0x1e92bddef08>"
      ]
     },
     "execution_count": 41,
     "metadata": {},
     "output_type": "execute_result"
    },
    {
     "data": {
      "image/png": "[encoded data removed]",
      "text/plain": [
       "<Figure size 1080x1080 with 1 Axes>"
      ]
     },
     "metadata": {},
     "output_type": "display_data"
    }
   ],
   "source": [
    "plt.rcParams.update({'font.size': 10})\n",
    "reviews_month_chart = reviews_month_reordered.plot(kind = 'line', figsize = (15,15))\n",
    "reviews_month_chart.set_xlabel(\"Months\")\n",
    "reviews_month_chart.set_ylabel(\"Bookings Count\")\n",
    "reviews_month_chart.set_title(\"# of bookings through the year\")\n",
    "reviews_month_chart"
   ]
  },
  {
   "cell_type": "markdown",
   "metadata": {},
   "source": [
    "**Summary:**\n",
    "> **July** has the highest average price<br />\n",
    "> **December** has the highest number of listings<br /> \n",
    "> **August** has the highest number of listings<br /><br />\n",
    "> The analysis gives a good idea of the potentially profitable times to rent out an Airbnb in Seattle and for which neighbourhood. This shows that timing is a factor when it comes to pricing."
   ]
  },
  {
   "cell_type": "markdown",
   "metadata": {},
   "source": [
    "### 3. Features: Which features affect price?"
   ]
  },
  {
   "cell_type": "markdown",
   "metadata": {},
   "source": [
    "Prior to starting this analyis, online research was conducted to identify what features are sought after the most.\n",
    "\n",
    "To summarize the research, the following features were suggested the most:\n",
    "* The number of people the property accommodates (accommodates)\n",
    "* The number of bathrooms (bathrooms)\n",
    "* The number of bedrooms (bedrooms)\n",
    "* Property type (property_type)\n",
    "* Number of days available to book in the next 90 days (availability_90)\n",
    "* Total number of reviews (number_of_reviews)\n",
    "\n",
    "Location and Timing will be added to the list above as these two subjects were looked at prior to this analysis and were found to impact price. The selection of features in this part of the analysis was based on all the information stated."
   ]
  },
  {
   "cell_type": "markdown",
   "metadata": {},
   "source": [
    "**Initial Assessment of Data**<br />\n",
    "Before diving into this section of the analysis, starting with a heatmap visualization of the *calendar_listings dataset* to get an idea of correlations will help get us started and see if we're on the right track"
   ]
  },
  {
   "cell_type": "code",
   "execution_count": 42,
   "metadata": {},
   "outputs": [
    {
     "data": {
      "text/plain": [
       "<matplotlib.axes._subplots.AxesSubplot at 0x1e92c1b4548>"
      ]
     },
     "execution_count": 42,
     "metadata": {},
     "output_type": "execute_result"
    },
    {
     "data": {
      "image/png": "[encoded data removed]",
      "text/plain": [
       "<Figure size 432x288 with 2 Axes>"
      ]
     },
     "metadata": {},
     "output_type": "display_data"
    }
   ],
   "source": [
    "plt.rcParams.update({'font.size': 10})\n",
    "sb.heatmap(calendar_listings.corr(), annot=True, fmt='.2f')"
   ]
  },
  {
   "cell_type": "markdown",
   "metadata": {},
   "source": [
    "At a quick glance, the following features have the highest correlations to the price:\n",
    "* accommodates\n",
    "* bathrooms\n",
    "* bedrooms\n",
    "\n",
    "Based on this, we look to be on the right track."
   ]
  },
  {
   "cell_type": "markdown",
   "metadata": {},
   "source": [
    "**Data Preparation**<br />\n",
    "In this section, we will look to convert all data into numerical values. This is because the modelling techniques / tools (scikit learn) used in this section work better or only support numeric values. \n",
    "\n",
    "As a result, additional data prepation steps are required and we will create a new dataframe for this section to avoid impacting the dataframes used in the previous sections."
   ]
  },
  {
   "cell_type": "markdown",
   "metadata": {},
   "source": [
    "**feature_set - Data wrangling**"
   ]
  },
  {
   "cell_type": "code",
   "execution_count": 43,
   "metadata": {},
   "outputs": [],
   "source": [
    "# Drop columns not needed\n",
    "feature_set = calendar_listings.drop(['listing_id','date','available','id','year'], axis=1)"
   ]
  },
  {
   "cell_type": "code",
   "execution_count": 44,
   "metadata": {},
   "outputs": [],
   "source": [
    "# Create categorical columns\n",
    "feature_set_categorical = pd.get_dummies(feature_set, drop_first=False);"
   ]
  },
  {
   "cell_type": "code",
   "execution_count": 45,
   "metadata": {},
   "outputs": [],
   "source": [
    "# Drop 'price' columns from feature_set_categorical so that it does not impact modeling\n",
    "feature_set_categorical = feature_set_categorical.drop(['price'], axis=1)"
   ]
  },
  {
   "cell_type": "code",
   "execution_count": 46,
   "metadata": {},
   "outputs": [
    {
     "data": {
      "text/plain": [
       "0"
      ]
     },
     "execution_count": 46,
     "metadata": {},
     "output_type": "execute_result"
    }
   ],
   "source": [
    "# Check dataframe for null values\n",
    "feature_set_categorical.isnull().sum().sum()"
   ]
  },
  {
   "cell_type": "code",
   "execution_count": 47,
   "metadata": {},
   "outputs": [
    {
     "data": {
      "text/plain": [
       "(934542, 51)"
      ]
     },
     "execution_count": 47,
     "metadata": {},
     "output_type": "execute_result"
    }
   ],
   "source": [
    "# Check shape to ensure we have sufficient data for training and testing\n",
    "feature_set_categorical.shape"
   ]
  },
  {
   "cell_type": "markdown",
   "metadata": {},
   "source": [
    "**Modelling: 4 key steps -> Instantiate, Fit, Predict and Score**<br />\n",
    "We will compare Linear Regression vs Random Forest to see which be a better model for our data"
   ]
  },
  {
   "cell_type": "code",
   "execution_count": 48,
   "metadata": {},
   "outputs": [],
   "source": [
    "# Set X & y data for models\n",
    "X = feature_set_categorical\n",
    "y = feature_set['price']"
   ]
  },
  {
   "cell_type": "code",
   "execution_count": 49,
   "metadata": {},
   "outputs": [
    {
     "data": {
      "text/plain": [
       "934542"
      ]
     },
     "execution_count": 49,
     "metadata": {},
     "output_type": "execute_result"
    }
   ],
   "source": [
    "# Check that X & y shapes are the same\n",
    "X.shape[0]"
   ]
  },
  {
   "cell_type": "code",
   "execution_count": 50,
   "metadata": {},
   "outputs": [
    {
     "data": {
      "text/plain": [
       "934542"
      ]
     },
     "execution_count": 50,
     "metadata": {},
     "output_type": "execute_result"
    }
   ],
   "source": [
    "# Check that X & y shapes are the same\n",
    "y.shape[0]"
   ]
  },
  {
   "cell_type": "code",
   "execution_count": 51,
   "metadata": {},
   "outputs": [],
   "source": [
    "# Create Training and Testing data\n",
    "X_train, X_test, y_train, y_test = train_test_split(X, y, test_size = .30, random_state=42)"
   ]
  },
  {
   "cell_type": "markdown",
   "metadata": {},
   "source": [
    "**Linear Regression**"
   ]
  },
  {
   "cell_type": "code",
   "execution_count": 52,
   "metadata": {},
   "outputs": [
    {
     "name": "stdout",
     "output_type": "stream",
     "text": [
      "The rsquared on the training data was 0.5856150399227675.  The rsquared on the test data was 0.5878651190900441.\n"
     ]
    }
   ],
   "source": [
    "# Linear Regression\n",
    "lm_model = LinearRegression(normalize=True)\n",
    "lm_model.fit(X_train, y_train) \n",
    "y_test_preds = lm_model.predict(X_test)\n",
    "y_train_preds = lm_model.predict(X_train)\n",
    "test_score = r2_score(y_test, y_test_preds)\n",
    "train_score = r2_score(y_train, y_train_preds)\n",
    "print(\"The rsquared on the training data was {}.  The rsquared on the test data was {}.\".format(train_score, test_score))"
   ]
  },
  {
   "cell_type": "code",
   "execution_count": 53,
   "metadata": {},
   "outputs": [
    {
     "data": {
      "text/html": [
       "<div>\n",
       "<style scoped>\n",
       "    .dataframe tbody tr th:only-of-type {\n",
       "        vertical-align: middle;\n",
       "    }\n",
       "\n",
       "    .dataframe tbody tr th {\n",
       "        vertical-align: top;\n",
       "    }\n",
       "\n",
       "    .dataframe thead th {\n",
       "        text-align: right;\n",
       "    }\n",
       "</style>\n",
       "<table border=\"1\" class=\"dataframe\">\n",
       "  <thead>\n",
       "    <tr style=\"text-align: right;\">\n",
       "      <th></th>\n",
       "      <th>est_int</th>\n",
       "      <th>coefs</th>\n",
       "      <th>abs_coefs</th>\n",
       "    </tr>\n",
       "  </thead>\n",
       "  <tbody>\n",
       "    <tr>\n",
       "      <td>8</td>\n",
       "      <td>property_type_Boat</td>\n",
       "      <td>1.315066e+14</td>\n",
       "      <td>1.315066e+14</td>\n",
       "    </tr>\n",
       "    <tr>\n",
       "      <td>11</td>\n",
       "      <td>property_type_Camper/RV</td>\n",
       "      <td>1.315066e+14</td>\n",
       "      <td>1.315066e+14</td>\n",
       "    </tr>\n",
       "    <tr>\n",
       "      <td>21</td>\n",
       "      <td>property_type_Yurt</td>\n",
       "      <td>1.315066e+14</td>\n",
       "      <td>1.315066e+14</td>\n",
       "    </tr>\n",
       "    <tr>\n",
       "      <td>10</td>\n",
       "      <td>property_type_Cabin</td>\n",
       "      <td>1.315066e+14</td>\n",
       "      <td>1.315066e+14</td>\n",
       "    </tr>\n",
       "    <tr>\n",
       "      <td>16</td>\n",
       "      <td>property_type_Loft</td>\n",
       "      <td>1.315066e+14</td>\n",
       "      <td>1.315066e+14</td>\n",
       "    </tr>\n",
       "    <tr>\n",
       "      <td>9</td>\n",
       "      <td>property_type_Bungalow</td>\n",
       "      <td>1.315066e+14</td>\n",
       "      <td>1.315066e+14</td>\n",
       "    </tr>\n",
       "    <tr>\n",
       "      <td>13</td>\n",
       "      <td>property_type_Condominium</td>\n",
       "      <td>1.315066e+14</td>\n",
       "      <td>1.315066e+14</td>\n",
       "    </tr>\n",
       "    <tr>\n",
       "      <td>6</td>\n",
       "      <td>property_type_Apartment</td>\n",
       "      <td>1.315066e+14</td>\n",
       "      <td>1.315066e+14</td>\n",
       "    </tr>\n",
       "    <tr>\n",
       "      <td>7</td>\n",
       "      <td>property_type_Bed &amp; Breakfast</td>\n",
       "      <td>1.315066e+14</td>\n",
       "      <td>1.315066e+14</td>\n",
       "    </tr>\n",
       "    <tr>\n",
       "      <td>20</td>\n",
       "      <td>property_type_Treehouse</td>\n",
       "      <td>1.315066e+14</td>\n",
       "      <td>1.315066e+14</td>\n",
       "    </tr>\n",
       "    <tr>\n",
       "      <td>12</td>\n",
       "      <td>property_type_Chalet</td>\n",
       "      <td>1.315066e+14</td>\n",
       "      <td>1.315066e+14</td>\n",
       "    </tr>\n",
       "    <tr>\n",
       "      <td>15</td>\n",
       "      <td>property_type_House</td>\n",
       "      <td>1.315066e+14</td>\n",
       "      <td>1.315066e+14</td>\n",
       "    </tr>\n",
       "    <tr>\n",
       "      <td>17</td>\n",
       "      <td>property_type_Other</td>\n",
       "      <td>1.315066e+14</td>\n",
       "      <td>1.315066e+14</td>\n",
       "    </tr>\n",
       "    <tr>\n",
       "      <td>18</td>\n",
       "      <td>property_type_Tent</td>\n",
       "      <td>1.315066e+14</td>\n",
       "      <td>1.315066e+14</td>\n",
       "    </tr>\n",
       "    <tr>\n",
       "      <td>19</td>\n",
       "      <td>property_type_Townhouse</td>\n",
       "      <td>1.315066e+14</td>\n",
       "      <td>1.315066e+14</td>\n",
       "    </tr>\n",
       "    <tr>\n",
       "      <td>14</td>\n",
       "      <td>property_type_Dorm</td>\n",
       "      <td>1.315066e+14</td>\n",
       "      <td>1.315066e+14</td>\n",
       "    </tr>\n",
       "    <tr>\n",
       "      <td>44</td>\n",
       "      <td>month_July</td>\n",
       "      <td>3.714613e+13</td>\n",
       "      <td>3.714613e+13</td>\n",
       "    </tr>\n",
       "    <tr>\n",
       "      <td>40</td>\n",
       "      <td>month_August</td>\n",
       "      <td>3.714613e+13</td>\n",
       "      <td>3.714613e+13</td>\n",
       "    </tr>\n",
       "    <tr>\n",
       "      <td>45</td>\n",
       "      <td>month_June</td>\n",
       "      <td>3.714613e+13</td>\n",
       "      <td>3.714613e+13</td>\n",
       "    </tr>\n",
       "    <tr>\n",
       "      <td>50</td>\n",
       "      <td>month_September</td>\n",
       "      <td>3.714613e+13</td>\n",
       "      <td>3.714613e+13</td>\n",
       "    </tr>\n",
       "  </tbody>\n",
       "</table>\n",
       "</div>"
      ],
      "text/plain": [
       "                          est_int         coefs     abs_coefs\n",
       "8              property_type_Boat  1.315066e+14  1.315066e+14\n",
       "11        property_type_Camper/RV  1.315066e+14  1.315066e+14\n",
       "21             property_type_Yurt  1.315066e+14  1.315066e+14\n",
       "10            property_type_Cabin  1.315066e+14  1.315066e+14\n",
       "16             property_type_Loft  1.315066e+14  1.315066e+14\n",
       "9          property_type_Bungalow  1.315066e+14  1.315066e+14\n",
       "13      property_type_Condominium  1.315066e+14  1.315066e+14\n",
       "6         property_type_Apartment  1.315066e+14  1.315066e+14\n",
       "7   property_type_Bed & Breakfast  1.315066e+14  1.315066e+14\n",
       "20        property_type_Treehouse  1.315066e+14  1.315066e+14\n",
       "12           property_type_Chalet  1.315066e+14  1.315066e+14\n",
       "15            property_type_House  1.315066e+14  1.315066e+14\n",
       "17            property_type_Other  1.315066e+14  1.315066e+14\n",
       "18             property_type_Tent  1.315066e+14  1.315066e+14\n",
       "19        property_type_Townhouse  1.315066e+14  1.315066e+14\n",
       "14             property_type_Dorm  1.315066e+14  1.315066e+14\n",
       "44                     month_July  3.714613e+13  3.714613e+13\n",
       "40                   month_August  3.714613e+13  3.714613e+13\n",
       "45                     month_June  3.714613e+13  3.714613e+13\n",
       "50                month_September  3.714613e+13  3.714613e+13"
      ]
     },
     "execution_count": 53,
     "metadata": {},
     "output_type": "execute_result"
    }
   ],
   "source": [
    "def coef_weights(coefficients, X_train):\n",
    "    coefs_df = pd.DataFrame()\n",
    "    coefs_df['est_int'] = X_train.columns\n",
    "    coefs_df['coefs'] = lm_model.coef_\n",
    "    coefs_df['abs_coefs'] = np.abs(lm_model.coef_)\n",
    "    coefs_df = coefs_df.sort_values('abs_coefs', ascending=False)\n",
    "    return coefs_df\n",
    "\n",
    "#Use the function\n",
    "coef_df = coef_weights(lm_model.coef_, X_train)\n",
    "\n",
    "#A quick look at the top results\n",
    "coef_df.head(20)"
   ]
  },
  {
   "cell_type": "markdown",
   "metadata": {},
   "source": [
    "**Random Forest**"
   ]
  },
  {
   "cell_type": "code",
   "execution_count": 54,
   "metadata": {},
   "outputs": [
    {
     "name": "stdout",
     "output_type": "stream",
     "text": [
      "0.9737435386032586\n",
      "285.53216455092087\n",
      "0.0\n"
     ]
    }
   ],
   "source": [
    "# RandomForestRegressor\n",
    "ForestRegressor = RandomForestRegressor(n_estimators=50)\n",
    "ForestRegressor.fit(X_train, y_train)\n",
    "y_test_preds = ForestRegressor.predict(X_test)\n",
    "y_train_preds = ForestRegressor.predict(X_train)\n",
    "\n",
    "print(r2_score(y_test, y_test_preds))\n",
    "print(mean_squared_error(y_test, y_test_preds))\n",
    "print(median_absolute_error(y_test, y_test_preds))"
   ]
  },
  {
   "cell_type": "code",
   "execution_count": 55,
   "metadata": {},
   "outputs": [],
   "source": [
    "test_score_random_forest = r2_score(y_test, y_test_preds)\n",
    "train_score_random_forest = r2_score(y_train, y_train_preds)"
   ]
  },
  {
   "cell_type": "code",
   "execution_count": 56,
   "metadata": {},
   "outputs": [
    {
     "name": "stdout",
     "output_type": "stream",
     "text": [
      "For Random Forest Regressor, the rsquared on the training data was 0.9764296767061376.  The rsquared on the test data was 0.9737435386032586.\n"
     ]
    }
   ],
   "source": [
    "print(\"For Random Forest Regressor, the rsquared on the training data was {}.  The rsquared on the test data was {}.\".format(train_score_random_forest, test_score_random_forest))"
   ]
  },
  {
   "cell_type": "code",
   "execution_count": 57,
   "metadata": {},
   "outputs": [
    {
     "data": {
      "text/html": [
       "<div>\n",
       "<style scoped>\n",
       "    .dataframe tbody tr th:only-of-type {\n",
       "        vertical-align: middle;\n",
       "    }\n",
       "\n",
       "    .dataframe tbody tr th {\n",
       "        vertical-align: top;\n",
       "    }\n",
       "\n",
       "    .dataframe thead th {\n",
       "        text-align: right;\n",
       "    }\n",
       "</style>\n",
       "<table border=\"1\" class=\"dataframe\">\n",
       "  <thead>\n",
       "    <tr style=\"text-align: right;\">\n",
       "      <th></th>\n",
       "      <th>est_int</th>\n",
       "      <th>coeff</th>\n",
       "    </tr>\n",
       "  </thead>\n",
       "  <tbody>\n",
       "    <tr>\n",
       "      <td>3</td>\n",
       "      <td>bedrooms</td>\n",
       "      <td>0.386828</td>\n",
       "    </tr>\n",
       "    <tr>\n",
       "      <td>2</td>\n",
       "      <td>bathrooms</td>\n",
       "      <td>0.167696</td>\n",
       "    </tr>\n",
       "    <tr>\n",
       "      <td>4</td>\n",
       "      <td>availability_90</td>\n",
       "      <td>0.079307</td>\n",
       "    </tr>\n",
       "    <tr>\n",
       "      <td>1</td>\n",
       "      <td>accommodates</td>\n",
       "      <td>0.073254</td>\n",
       "    </tr>\n",
       "    <tr>\n",
       "      <td>5</td>\n",
       "      <td>number_of_reviews</td>\n",
       "      <td>0.065557</td>\n",
       "    </tr>\n",
       "    <tr>\n",
       "      <td>0</td>\n",
       "      <td>review_scores_rating</td>\n",
       "      <td>0.047166</td>\n",
       "    </tr>\n",
       "    <tr>\n",
       "      <td>28</td>\n",
       "      <td>neighbourhood_group_cleansed_Downtown</td>\n",
       "      <td>0.042912</td>\n",
       "    </tr>\n",
       "    <tr>\n",
       "      <td>34</td>\n",
       "      <td>neighbourhood_group_cleansed_Queen Anne</td>\n",
       "      <td>0.014042</td>\n",
       "    </tr>\n",
       "    <tr>\n",
       "      <td>8</td>\n",
       "      <td>property_type_Boat</td>\n",
       "      <td>0.009981</td>\n",
       "    </tr>\n",
       "    <tr>\n",
       "      <td>24</td>\n",
       "      <td>neighbourhood_group_cleansed_Capitol Hill</td>\n",
       "      <td>0.009761</td>\n",
       "    </tr>\n",
       "    <tr>\n",
       "      <td>15</td>\n",
       "      <td>property_type_House</td>\n",
       "      <td>0.009139</td>\n",
       "    </tr>\n",
       "    <tr>\n",
       "      <td>6</td>\n",
       "      <td>property_type_Apartment</td>\n",
       "      <td>0.007996</td>\n",
       "    </tr>\n",
       "    <tr>\n",
       "      <td>44</td>\n",
       "      <td>month_July</td>\n",
       "      <td>0.007008</td>\n",
       "    </tr>\n",
       "    <tr>\n",
       "      <td>40</td>\n",
       "      <td>month_August</td>\n",
       "      <td>0.006877</td>\n",
       "    </tr>\n",
       "    <tr>\n",
       "      <td>25</td>\n",
       "      <td>neighbourhood_group_cleansed_Cascade</td>\n",
       "      <td>0.006680</td>\n",
       "    </tr>\n",
       "    <tr>\n",
       "      <td>45</td>\n",
       "      <td>month_June</td>\n",
       "      <td>0.006290</td>\n",
       "    </tr>\n",
       "    <tr>\n",
       "      <td>33</td>\n",
       "      <td>neighbourhood_group_cleansed_Other neighborhoods</td>\n",
       "      <td>0.005612</td>\n",
       "    </tr>\n",
       "    <tr>\n",
       "      <td>43</td>\n",
       "      <td>month_January</td>\n",
       "      <td>0.005406</td>\n",
       "    </tr>\n",
       "    <tr>\n",
       "      <td>26</td>\n",
       "      <td>neighbourhood_group_cleansed_Central Area</td>\n",
       "      <td>0.004984</td>\n",
       "    </tr>\n",
       "    <tr>\n",
       "      <td>31</td>\n",
       "      <td>neighbourhood_group_cleansed_Magnolia</td>\n",
       "      <td>0.004101</td>\n",
       "    </tr>\n",
       "  </tbody>\n",
       "</table>\n",
       "</div>"
      ],
      "text/plain": [
       "                                             est_int     coeff\n",
       "3                                           bedrooms  0.386828\n",
       "2                                          bathrooms  0.167696\n",
       "4                                    availability_90  0.079307\n",
       "1                                       accommodates  0.073254\n",
       "5                                  number_of_reviews  0.065557\n",
       "0                               review_scores_rating  0.047166\n",
       "28             neighbourhood_group_cleansed_Downtown  0.042912\n",
       "34           neighbourhood_group_cleansed_Queen Anne  0.014042\n",
       "8                                 property_type_Boat  0.009981\n",
       "24         neighbourhood_group_cleansed_Capitol Hill  0.009761\n",
       "15                               property_type_House  0.009139\n",
       "6                            property_type_Apartment  0.007996\n",
       "44                                        month_July  0.007008\n",
       "40                                      month_August  0.006877\n",
       "25              neighbourhood_group_cleansed_Cascade  0.006680\n",
       "45                                        month_June  0.006290\n",
       "33  neighbourhood_group_cleansed_Other neighborhoods  0.005612\n",
       "43                                     month_January  0.005406\n",
       "26         neighbourhood_group_cleansed_Central Area  0.004984\n",
       "31             neighbourhood_group_cleansed_Magnolia  0.004101"
      ]
     },
     "execution_count": 57,
     "metadata": {},
     "output_type": "execute_result"
    }
   ],
   "source": [
    "coeff_dataframe = pd.DataFrame()\n",
    "\n",
    "coeff_dataframe['est_int'] = X_train.columns\n",
    "coeff_dataframe['coeff'] = ForestRegressor.feature_importances_\n",
    "coeff_dataframe.sort_values('coeff', ascending=False).head(20)"
   ]
  },
  {
   "cell_type": "code",
   "execution_count": 58,
   "metadata": {},
   "outputs": [],
   "source": [
    "coeff_dataframe.index = coeff_dataframe.est_int"
   ]
  },
  {
   "cell_type": "code",
   "execution_count": 59,
   "metadata": {},
   "outputs": [
    {
     "data": {
      "image/png": "[encoded data removed]",
      "text/plain": [
       "<Figure size 1440x720 with 1 Axes>"
      ]
     },
     "metadata": {},
     "output_type": "display_data"
    }
   ],
   "source": [
    "plt.rcParams.update({'font.size': 15})\n",
    "coeff_dataframe.sort_values('coeff', ascending=False).head(8).plot(kind = 'barh',figsize = (20,10), facecolor='red');"
   ]
  },
  {
   "cell_type": "markdown",
   "metadata": {},
   "source": [
    "**Summary:**\n",
    "> In terms of **correlations** with price, the **highest are accommodates, bathrooms and bedrooms**<br />\n",
    "> **Random Forest** produces a better model for predicting prices. It is quite closely aligned with the correlations heatmap (i.e. bedrooms, bathrooms and accommodates)<br /><br />\n",
    "> The analysis shows which features (i.e. bedrooms, bathrooms and accommodates) impact price the most and than Random Forest would make a better model than Linear Regression."
   ]
  }
 ],
 "metadata": {
  "kernelspec": {
   "display_name": "Python 3",
   "language": "python",
   "name": "python3"
  },
  "language_info": {
   "codemirror_mode": {
    "name": "ipython",
    "version": 3
   },
   "file_extension": ".py",
   "mimetype": "text/x-python",
   "name": "python",
   "nbconvert_exporter": "python",
   "pygments_lexer": "ipython3",
   "version": "3.7.4"
  }
 },
 "nbformat": 4,
 "nbformat_minor": 2
}
