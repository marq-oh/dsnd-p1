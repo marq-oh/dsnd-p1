{
 "cells": [
  {
   "cell_type": "markdown",
   "metadata": {},
   "source": [
    "### Imports"
   ]
  },
  {
   "cell_type": "code",
   "execution_count": 160,
   "metadata": {},
   "outputs": [],
   "source": [
    "# Note to self -> Use numpy somewhere\n",
    "import numpy as np\n",
    "import pandas as pd\n",
    "import matplotlib as plt\n",
    "import seaborn as sb\n",
    "from sklearn.feature_extraction.text import CountVectorizer\n",
    "from sklearn.model_selection import train_test_split\n",
    "from sklearn.metrics import r2_score, mean_squared_error, median_absolute_error\n",
    "from sklearn.ensemble import RandomForestRegressor\n",
    "from sklearn.linear_model import LinearRegression"
   ]
  },
  {
   "cell_type": "code",
   "execution_count": 161,
   "metadata": {},
   "outputs": [],
   "source": [
    "# Importing data into pandas dataframes\n",
    "listings = pd.read_csv('./listings_sea.csv')\n",
    "calendar = pd.read_csv('./calendar_sea.csv')\n",
    "reviews = pd.read_csv('./reviews_sea.csv')"
   ]
  },
  {
   "cell_type": "markdown",
   "metadata": {},
   "source": [
    "**Data Preparation**"
   ]
  },
  {
   "cell_type": "code",
   "execution_count": 191,
   "metadata": {},
   "outputs": [
    {
     "data": {
      "text/plain": [
       "(1393570, 4)"
      ]
     },
     "execution_count": 191,
     "metadata": {},
     "output_type": "execute_result"
    }
   ],
   "source": [
    "calendar.shape"
   ]
  },
  {
   "cell_type": "code",
   "execution_count": 163,
   "metadata": {},
   "outputs": [],
   "source": [
    "# Select the columns that are needed - Listings\n",
    "listings_data = listings.loc[:,('id',\n",
    "                                'review_scores_rating',\n",
    "                                'square_feet',\n",
    "                                'bathrooms',\n",
    "                                'bedrooms',\n",
    "                                'price',\n",
    "                                'property_type',\n",
    "                                'neighbourhood_group_cleansed')]"
   ]
  },
  {
   "cell_type": "code",
   "execution_count": null,
   "metadata": {},
   "outputs": [],
   "source": [
    "# Merge with calendar dataset because there's more data in it???"
   ]
  },
  {
   "cell_type": "code",
   "execution_count": 164,
   "metadata": {},
   "outputs": [],
   "source": [
    "# Impute for null values\n",
    "listings_data.at[listings_data['property_type'].isnull(), 'property_type'] = 'Other'\n",
    "listings_data.at[listings_data['review_scores_rating'].isnull(), 'review_scores_rating'] = 0"
   ]
  },
  {
   "cell_type": "code",
   "execution_count": 165,
   "metadata": {},
   "outputs": [],
   "source": [
    "# Fix Data Types\n",
    "listings_data['price'] = listings_data['price'].str.replace(\"[$, ]\", \"\").astype(\"float\")"
   ]
  },
  {
   "cell_type": "code",
   "execution_count": 166,
   "metadata": {},
   "outputs": [
    {
     "data": {
      "text/plain": [
       "id                                int64\n",
       "review_scores_rating            float64\n",
       "square_feet                     float64\n",
       "bathrooms                       float64\n",
       "bedrooms                        float64\n",
       "price                           float64\n",
       "property_type                    object\n",
       "neighbourhood_group_cleansed     object\n",
       "dtype: object"
      ]
     },
     "execution_count": 166,
     "metadata": {},
     "output_type": "execute_result"
    }
   ],
   "source": [
    "# Check dtypes\n",
    "listings_data.dtypes"
   ]
  },
  {
   "cell_type": "code",
   "execution_count": 167,
   "metadata": {},
   "outputs": [],
   "source": [
    "listings_data_categorical = pd.get_dummies(listings_data, drop_first=True);"
   ]
  },
  {
   "cell_type": "code",
   "execution_count": 168,
   "metadata": {},
   "outputs": [
    {
     "data": {
      "text/plain": [
       "id                                                    int64\n",
       "review_scores_rating                                float64\n",
       "square_feet                                         float64\n",
       "bathrooms                                           float64\n",
       "bedrooms                                            float64\n",
       "price                                               float64\n",
       "property_type_Bed & Breakfast                         uint8\n",
       "property_type_Boat                                    uint8\n",
       "property_type_Bungalow                                uint8\n",
       "property_type_Cabin                                   uint8\n",
       "property_type_Camper/RV                               uint8\n",
       "property_type_Chalet                                  uint8\n",
       "property_type_Condominium                             uint8\n",
       "property_type_Dorm                                    uint8\n",
       "property_type_House                                   uint8\n",
       "property_type_Loft                                    uint8\n",
       "property_type_Other                                   uint8\n",
       "property_type_Tent                                    uint8\n",
       "property_type_Townhouse                               uint8\n",
       "property_type_Treehouse                               uint8\n",
       "property_type_Yurt                                    uint8\n",
       "neighbourhood_group_cleansed_Beacon Hill              uint8\n",
       "neighbourhood_group_cleansed_Capitol Hill             uint8\n",
       "neighbourhood_group_cleansed_Cascade                  uint8\n",
       "neighbourhood_group_cleansed_Central Area             uint8\n",
       "neighbourhood_group_cleansed_Delridge                 uint8\n",
       "neighbourhood_group_cleansed_Downtown                 uint8\n",
       "neighbourhood_group_cleansed_Interbay                 uint8\n",
       "neighbourhood_group_cleansed_Lake City                uint8\n",
       "neighbourhood_group_cleansed_Magnolia                 uint8\n",
       "neighbourhood_group_cleansed_Northgate                uint8\n",
       "neighbourhood_group_cleansed_Other neighborhoods      uint8\n",
       "neighbourhood_group_cleansed_Queen Anne               uint8\n",
       "neighbourhood_group_cleansed_Rainier Valley           uint8\n",
       "neighbourhood_group_cleansed_Seward Park              uint8\n",
       "neighbourhood_group_cleansed_University District      uint8\n",
       "neighbourhood_group_cleansed_West Seattle             uint8\n",
       "dtype: object"
      ]
     },
     "execution_count": 168,
     "metadata": {},
     "output_type": "execute_result"
    }
   ],
   "source": [
    "# Check dtypes\n",
    "listings_data_categorical.dtypes"
   ]
  },
  {
   "cell_type": "code",
   "execution_count": 177,
   "metadata": {},
   "outputs": [
    {
     "data": {
      "text/plain": [
       "id                                                     0\n",
       "review_scores_rating                                   0\n",
       "square_feet                                         3721\n",
       "bathrooms                                             16\n",
       "bedrooms                                               6\n",
       "price                                                  0\n",
       "property_type_Bed & Breakfast                          0\n",
       "property_type_Boat                                     0\n",
       "property_type_Bungalow                                 0\n",
       "property_type_Cabin                                    0\n",
       "property_type_Camper/RV                                0\n",
       "property_type_Chalet                                   0\n",
       "property_type_Condominium                              0\n",
       "property_type_Dorm                                     0\n",
       "property_type_House                                    0\n",
       "property_type_Loft                                     0\n",
       "property_type_Other                                    0\n",
       "property_type_Tent                                     0\n",
       "property_type_Townhouse                                0\n",
       "property_type_Treehouse                                0\n",
       "property_type_Yurt                                     0\n",
       "neighbourhood_group_cleansed_Beacon Hill               0\n",
       "neighbourhood_group_cleansed_Capitol Hill              0\n",
       "neighbourhood_group_cleansed_Cascade                   0\n",
       "neighbourhood_group_cleansed_Central Area              0\n",
       "neighbourhood_group_cleansed_Delridge                  0\n",
       "neighbourhood_group_cleansed_Downtown                  0\n",
       "neighbourhood_group_cleansed_Interbay                  0\n",
       "neighbourhood_group_cleansed_Lake City                 0\n",
       "neighbourhood_group_cleansed_Magnolia                  0\n",
       "neighbourhood_group_cleansed_Northgate                 0\n",
       "neighbourhood_group_cleansed_Other neighborhoods       0\n",
       "neighbourhood_group_cleansed_Queen Anne                0\n",
       "neighbourhood_group_cleansed_Rainier Valley            0\n",
       "neighbourhood_group_cleansed_Seward Park               0\n",
       "neighbourhood_group_cleansed_University District       0\n",
       "neighbourhood_group_cleansed_West Seattle              0\n",
       "dtype: int64"
      ]
     },
     "execution_count": 177,
     "metadata": {},
     "output_type": "execute_result"
    }
   ],
   "source": [
    "# Check dataframe for null values\n",
    "listings_data_categorical.isnull().sum()"
   ]
  },
  {
   "cell_type": "code",
   "execution_count": 178,
   "metadata": {},
   "outputs": [],
   "source": [
    "listings_data_categorical_clean = listings_data_categorical.dropna(axis = 0)"
   ]
  },
  {
   "cell_type": "markdown",
   "metadata": {},
   "source": [
    "**Start Model**"
   ]
  },
  {
   "cell_type": "code",
   "execution_count": 179,
   "metadata": {},
   "outputs": [],
   "source": [
    "# Consider only numerical variables\n",
    "feature_set = listings_data_categorical_clean.drop(['id','price'], axis=1)\n",
    "\n",
    "X = feature_set\n",
    "y = listings_data_categorical_clean['price']"
   ]
  },
  {
   "cell_type": "code",
   "execution_count": 180,
   "metadata": {},
   "outputs": [
    {
     "data": {
      "text/plain": [
       "94"
      ]
     },
     "execution_count": 180,
     "metadata": {},
     "output_type": "execute_result"
    }
   ],
   "source": [
    "X.shape[0]"
   ]
  },
  {
   "cell_type": "code",
   "execution_count": 181,
   "metadata": {},
   "outputs": [
    {
     "data": {
      "text/plain": [
       "94"
      ]
     },
     "execution_count": 181,
     "metadata": {},
     "output_type": "execute_result"
    }
   ],
   "source": [
    "y.shape[0]"
   ]
  },
  {
   "cell_type": "code",
   "execution_count": 182,
   "metadata": {},
   "outputs": [],
   "source": [
    "X_train, X_test, y_train, y_test = train_test_split(X, y, test_size = .30, random_state=42)"
   ]
  },
  {
   "cell_type": "markdown",
   "metadata": {},
   "source": [
    "**Four steps:**"
   ]
  },
  {
   "cell_type": "code",
   "execution_count": 183,
   "metadata": {},
   "outputs": [],
   "source": [
    "#Instantiate\n",
    "lm_model = LinearRegression(normalize=True) "
   ]
  },
  {
   "cell_type": "code",
   "execution_count": 184,
   "metadata": {},
   "outputs": [
    {
     "data": {
      "text/plain": [
       "LinearRegression(copy_X=True, fit_intercept=True, n_jobs=None, normalize=True)"
      ]
     },
     "execution_count": 184,
     "metadata": {},
     "output_type": "execute_result"
    }
   ],
   "source": [
    "#Fit\n",
    "lm_model.fit(X_train, y_train) "
   ]
  },
  {
   "cell_type": "code",
   "execution_count": 185,
   "metadata": {},
   "outputs": [],
   "source": [
    "#Predict\n",
    "y_test_preds = lm_model.predict(X_test)\n",
    "y_train_preds = lm_model.predict(X_train)"
   ]
  },
  {
   "cell_type": "code",
   "execution_count": 186,
   "metadata": {},
   "outputs": [],
   "source": [
    "#Score\n",
    "test_score = r2_score(y_test, y_test_preds)\n",
    "train_score = r2_score(y_train, y_train_preds)\n",
    "\n",
    "# return test_score, train_score, lm_model, X_train, X_test, y_train, y_test"
   ]
  },
  {
   "cell_type": "code",
   "execution_count": 187,
   "metadata": {},
   "outputs": [
    {
     "name": "stdout",
     "output_type": "stream",
     "text": [
      "The rsquared on the training data was 0.8071694180391565.  The rsquared on the test data was -2.2341135972167197e+28.\n"
     ]
    }
   ],
   "source": [
    "#Print training and testing score\n",
    "print(\"The rsquared on the training data was {}.  The rsquared on the test data was {}.\".format(train_score, test_score))"
   ]
  },
  {
   "cell_type": "code",
   "execution_count": null,
   "metadata": {},
   "outputs": [],
   "source": [
    "# Try RandomForestRegressor -> Found here: http://localhost:8888/notebooks/Documents/py_proj/udacity-ds-blog-post-sample-3/Seattle_airbnb.ipynb"
   ]
  },
  {
   "cell_type": "code",
   "execution_count": null,
   "metadata": {},
   "outputs": [],
   "source": [
    "# Do that correlation coeffecient thing -> Found here: http://localhost:8888/notebooks/Documents/py_proj/udacity-ds-blog-post-sample-3/Seattle_airbnb.ipynb"
   ]
  }
 ],
 "metadata": {
  "kernelspec": {
   "display_name": "Python 3",
   "language": "python",
   "name": "python3"
  },
  "language_info": {
   "codemirror_mode": {
    "name": "ipython",
    "version": 3
   },
   "file_extension": ".py",
   "mimetype": "text/x-python",
   "name": "python",
   "nbconvert_exporter": "python",
   "pygments_lexer": "ipython3",
   "version": "3.7.4"
  }
 },
 "nbformat": 4,
 "nbformat_minor": 2
}
