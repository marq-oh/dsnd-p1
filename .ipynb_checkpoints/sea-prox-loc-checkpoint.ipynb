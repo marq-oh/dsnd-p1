{
 "cells": [
  {
   "cell_type": "markdown",
   "metadata": {},
   "source": [
    "# Proximity / Location\n",
    "**Questions:**\n",
    "* Which months do the best? (July has highest avg price, but Dec has highest listings)\n",
    "* Where is the demand? (Capitol Hill, Downtown, Central Area)\n",
    "* Do amenities factor into prices?\n",
    "* Do reviews factor into prices?"
   ]
  },
  {
   "cell_type": "markdown",
   "metadata": {},
   "source": [
    "## Imports"
   ]
  },
  {
   "cell_type": "code",
   "execution_count": 1,
   "metadata": {},
   "outputs": [],
   "source": [
    "# Note to self -> Use numpy somewhere\n",
    "import numpy as np\n",
    "\n",
    "import pandas as pd\n",
    "import matplotlib.pyplot as plt\n",
    "import seaborn as sb"
   ]
  },
  {
   "cell_type": "markdown",
   "metadata": {},
   "source": [
    "## Data Preparation\n",
    "Step to clean-up the data and prepare for processing"
   ]
  },
  {
   "cell_type": "markdown",
   "metadata": {},
   "source": [
    "### Creating dataframes"
   ]
  },
  {
   "cell_type": "code",
   "execution_count": 2,
   "metadata": {},
   "outputs": [],
   "source": [
    "# Importing data into pandas dataframes\n",
    "listings = pd.read_csv('./listings_sea.csv')\n",
    "calendar = pd.read_csv('./calendar_sea.csv')\n",
    "reviews = pd.read_csv('./reviews_sea.csv')"
   ]
  },
  {
   "cell_type": "code",
   "execution_count": 3,
   "metadata": {
    "scrolled": true
   },
   "outputs": [
    {
     "data": {
      "text/html": [
       "<div>\n",
       "<style scoped>\n",
       "    .dataframe tbody tr th:only-of-type {\n",
       "        vertical-align: middle;\n",
       "    }\n",
       "\n",
       "    .dataframe tbody tr th {\n",
       "        vertical-align: top;\n",
       "    }\n",
       "\n",
       "    .dataframe thead th {\n",
       "        text-align: right;\n",
       "    }\n",
       "</style>\n",
       "<table border=\"1\" class=\"dataframe\">\n",
       "  <thead>\n",
       "    <tr style=\"text-align: right;\">\n",
       "      <th></th>\n",
       "      <th>listing_id</th>\n",
       "      <th>date</th>\n",
       "      <th>available</th>\n",
       "      <th>price</th>\n",
       "    </tr>\n",
       "  </thead>\n",
       "  <tbody>\n",
       "    <tr>\n",
       "      <td>0</td>\n",
       "      <td>241032</td>\n",
       "      <td>2016-01-04</td>\n",
       "      <td>t</td>\n",
       "      <td>$85.00</td>\n",
       "    </tr>\n",
       "    <tr>\n",
       "      <td>1</td>\n",
       "      <td>241032</td>\n",
       "      <td>2016-01-05</td>\n",
       "      <td>t</td>\n",
       "      <td>$85.00</td>\n",
       "    </tr>\n",
       "    <tr>\n",
       "      <td>2</td>\n",
       "      <td>241032</td>\n",
       "      <td>2016-01-06</td>\n",
       "      <td>f</td>\n",
       "      <td>NaN</td>\n",
       "    </tr>\n",
       "  </tbody>\n",
       "</table>\n",
       "</div>"
      ],
      "text/plain": [
       "   listing_id        date available   price\n",
       "0      241032  2016-01-04         t  $85.00\n",
       "1      241032  2016-01-05         t  $85.00\n",
       "2      241032  2016-01-06         f     NaN"
      ]
     },
     "execution_count": 3,
     "metadata": {},
     "output_type": "execute_result"
    }
   ],
   "source": [
    "# View a snippet of the data\n",
    "calendar.head(3)"
   ]
  },
  {
   "cell_type": "markdown",
   "metadata": {},
   "source": [
    "### Dealing with NaN"
   ]
  },
  {
   "cell_type": "code",
   "execution_count": 4,
   "metadata": {},
   "outputs": [
    {
     "data": {
      "text/plain": [
       "listing_id         0\n",
       "date               0\n",
       "available          0\n",
       "price         459028\n",
       "dtype: int64"
      ]
     },
     "execution_count": 4,
     "metadata": {},
     "output_type": "execute_result"
    }
   ],
   "source": [
    "# Find null data\n",
    "calendar.isnull().sum()"
   ]
  },
  {
   "cell_type": "code",
   "execution_count": 5,
   "metadata": {},
   "outputs": [
    {
     "data": {
      "text/plain": [
       "(1393570, 4)"
      ]
     },
     "execution_count": 5,
     "metadata": {},
     "output_type": "execute_result"
    }
   ],
   "source": [
    "# Initial shape\n",
    "calendar.shape"
   ]
  },
  {
   "cell_type": "code",
   "execution_count": 6,
   "metadata": {},
   "outputs": [],
   "source": [
    "# Remove rows not needed (nan rows)\n",
    "revised_calendar = calendar.dropna(axis = 0)"
   ]
  },
  {
   "cell_type": "code",
   "execution_count": 7,
   "metadata": {},
   "outputs": [
    {
     "data": {
      "text/plain": [
       "(934542, 4)"
      ]
     },
     "execution_count": 7,
     "metadata": {},
     "output_type": "execute_result"
    }
   ],
   "source": [
    "# Revised shape\n",
    "revised_calendar.shape"
   ]
  },
  {
   "cell_type": "code",
   "execution_count": 8,
   "metadata": {
    "scrolled": true
   },
   "outputs": [
    {
     "data": {
      "text/plain": [
       "listing_id    0\n",
       "date          0\n",
       "available     0\n",
       "price         0\n",
       "dtype: int64"
      ]
     },
     "execution_count": 8,
     "metadata": {},
     "output_type": "execute_result"
    }
   ],
   "source": [
    "revised_calendar.isnull().sum()"
   ]
  },
  {
   "cell_type": "markdown",
   "metadata": {},
   "source": [
    "### Fix dtypes"
   ]
  },
  {
   "cell_type": "code",
   "execution_count": 9,
   "metadata": {
    "scrolled": true
   },
   "outputs": [
    {
     "name": "stderr",
     "output_type": "stream",
     "text": [
      "C:\\Users\\marco\\Anaconda3\\lib\\site-packages\\pandas\\core\\indexing.py:494: SettingWithCopyWarning: \n",
      "A value is trying to be set on a copy of a slice from a DataFrame.\n",
      "Try using .loc[row_indexer,col_indexer] = value instead\n",
      "\n",
      "See the caveats in the documentation: http://pandas.pydata.org/pandas-docs/stable/user_guide/indexing.html#returning-a-view-versus-a-copy\n",
      "  self.obj[item] = s\n",
      "C:\\Users\\marco\\Anaconda3\\lib\\site-packages\\pandas\\core\\indexing.py:376: SettingWithCopyWarning: \n",
      "A value is trying to be set on a copy of a slice from a DataFrame.\n",
      "Try using .loc[row_indexer,col_indexer] = value instead\n",
      "\n",
      "See the caveats in the documentation: http://pandas.pydata.org/pandas-docs/stable/user_guide/indexing.html#returning-a-view-versus-a-copy\n",
      "  self.obj[key] = _infer_fill_value(value)\n"
     ]
    }
   ],
   "source": [
    "# Note to self -> Figure out how to do Year + Month as one column\n",
    "\n",
    "revised_calendar.loc[:,('date')] = pd.to_datetime(revised_calendar.loc[:,('date')])\n",
    "revised_calendar.loc[:,('year')] = pd.DatetimeIndex(revised_calendar.loc[:,('date')]).year\n",
    "revised_calendar.loc[:,('month')] = pd.to_datetime(revised_calendar.loc[:,('date')]).dt.month_name(locale = 'English')"
   ]
  },
  {
   "cell_type": "code",
   "execution_count": 10,
   "metadata": {},
   "outputs": [],
   "source": [
    "def convert_currency(val):\n",
    "    \"\"\"\n",
    "    Convert the string number value to a float\n",
    "     - Remove $\n",
    "     - Remove commas\n",
    "     - Convert to float type\n",
    "    \"\"\"\n",
    "    new_val = val.replace(',','').replace('$', '')\n",
    "    return float(new_val)"
   ]
  },
  {
   "cell_type": "code",
   "execution_count": 11,
   "metadata": {},
   "outputs": [],
   "source": [
    "revised_calendar.loc[:,('price')] = revised_calendar.loc[:,('price')].apply(convert_currency)"
   ]
  },
  {
   "cell_type": "code",
   "execution_count": 12,
   "metadata": {},
   "outputs": [
    {
     "data": {
      "text/plain": [
       "listing_id             int64\n",
       "date          datetime64[ns]\n",
       "available             object\n",
       "price                float64\n",
       "year                   int64\n",
       "month                 object\n",
       "dtype: object"
      ]
     },
     "execution_count": 12,
     "metadata": {},
     "output_type": "execute_result"
    }
   ],
   "source": [
    "revised_calendar.dtypes"
   ]
  },
  {
   "cell_type": "markdown",
   "metadata": {},
   "source": [
    "## Which months do the best?"
   ]
  },
  {
   "cell_type": "markdown",
   "metadata": {},
   "source": [
    "### Highest mean price p/month"
   ]
  },
  {
   "cell_type": "code",
   "execution_count": 13,
   "metadata": {},
   "outputs": [
    {
     "data": {
      "text/html": [
       "<div>\n",
       "<style scoped>\n",
       "    .dataframe tbody tr th:only-of-type {\n",
       "        vertical-align: middle;\n",
       "    }\n",
       "\n",
       "    .dataframe tbody tr th {\n",
       "        vertical-align: top;\n",
       "    }\n",
       "\n",
       "    .dataframe thead th {\n",
       "        text-align: right;\n",
       "    }\n",
       "</style>\n",
       "<table border=\"1\" class=\"dataframe\">\n",
       "  <thead>\n",
       "    <tr style=\"text-align: right;\">\n",
       "      <th></th>\n",
       "      <th>listing_id</th>\n",
       "      <th>date</th>\n",
       "      <th>available</th>\n",
       "      <th>price</th>\n",
       "      <th>year</th>\n",
       "      <th>month</th>\n",
       "    </tr>\n",
       "  </thead>\n",
       "  <tbody>\n",
       "    <tr>\n",
       "      <td>0</td>\n",
       "      <td>241032</td>\n",
       "      <td>2016-01-04</td>\n",
       "      <td>t</td>\n",
       "      <td>85.0</td>\n",
       "      <td>2016</td>\n",
       "      <td>January</td>\n",
       "    </tr>\n",
       "    <tr>\n",
       "      <td>1</td>\n",
       "      <td>241032</td>\n",
       "      <td>2016-01-05</td>\n",
       "      <td>t</td>\n",
       "      <td>85.0</td>\n",
       "      <td>2016</td>\n",
       "      <td>January</td>\n",
       "    </tr>\n",
       "    <tr>\n",
       "      <td>9</td>\n",
       "      <td>241032</td>\n",
       "      <td>2016-01-13</td>\n",
       "      <td>t</td>\n",
       "      <td>85.0</td>\n",
       "      <td>2016</td>\n",
       "      <td>January</td>\n",
       "    </tr>\n",
       "  </tbody>\n",
       "</table>\n",
       "</div>"
      ],
      "text/plain": [
       "   listing_id       date available  price  year    month\n",
       "0      241032 2016-01-04         t   85.0  2016  January\n",
       "1      241032 2016-01-05         t   85.0  2016  January\n",
       "9      241032 2016-01-13         t   85.0  2016  January"
      ]
     },
     "execution_count": 13,
     "metadata": {},
     "output_type": "execute_result"
    }
   ],
   "source": [
    "revised_calendar.head(3)"
   ]
  },
  {
   "cell_type": "code",
   "execution_count": 14,
   "metadata": {},
   "outputs": [
    {
     "data": {
      "text/plain": [
       "month\n",
       "January      122.912176\n",
       "February     124.293927\n",
       "March        128.644488\n",
       "April        135.097005\n",
       "May          139.538183\n",
       "June         147.473137\n",
       "July         152.094150\n",
       "August       150.656594\n",
       "September    143.255949\n",
       "October      137.031939\n",
       "November     135.688738\n",
       "December     137.251835\n",
       "Name: price, dtype: float64"
      ]
     },
     "execution_count": 14,
     "metadata": {},
     "output_type": "execute_result"
    }
   ],
   "source": [
    "month_price_mean = revised_calendar.groupby(revised_calendar['month'],\n",
    "                                 sort=False)['price'].mean()\n",
    "month_price_mean"
   ]
  },
  {
   "cell_type": "code",
   "execution_count": 15,
   "metadata": {
    "scrolled": true
   },
   "outputs": [
    {
     "data": {
      "text/plain": [
       "<seaborn.axisgrid.FacetGrid at 0x2341d3af588>"
      ]
     },
     "execution_count": 15,
     "metadata": {},
     "output_type": "execute_result"
    },
    {
     "data": {
      "text/plain": [
       "<Figure size 864x360 with 0 Axes>"
      ]
     },
     "metadata": {},
     "output_type": "display_data"
    },
    {
     "data": {
      "image/png": "[encoded data removed]",
      "text/plain": [
       "<Figure size 907.2x432 with 1 Axes>"
      ]
     },
     "metadata": {},
     "output_type": "display_data"
    }
   ],
   "source": [
    "plt.figure(figsize=(12,5))\n",
    "sb.set_style(\"darkgrid\")\n",
    "sb.set_context(\"talk\")\n",
    "plot_price_month = sb.catplot(x='month', y='price', data=revised_calendar, kind=\"point\", height=6, aspect=2.1)\n",
    "plot_price_month = plot_price_month.set_axis_labels(\"Month\", \"Price ($)\")\n",
    "plot_price_month.ax.set_title(\"Average monthly prices in Seattle\")\n",
    "plot_price_month.savefig(\"plot1.png\")\n",
    "plot_price_month.set_xticklabels(rotation=90)"
   ]
  },
  {
   "cell_type": "markdown",
   "metadata": {},
   "source": [
    "## Where is the demand?"
   ]
  },
  {
   "cell_type": "code",
   "execution_count": 16,
   "metadata": {},
   "outputs": [],
   "source": [
    "listings_location = listings.loc[:,('id',\n",
    "                                    'street', \n",
    "                                    'neighbourhood', \n",
    "                                    'neighbourhood_cleansed', \n",
    "                                    'neighbourhood_group_cleansed', \n",
    "                                    'city', \n",
    "                                    'state', \n",
    "                                    'zipcode', \n",
    "                                    'market', \n",
    "                                    'smart_location', \n",
    "                                    'country_code', \n",
    "                                    'country', \n",
    "                                    'latitude', \n",
    "                                    'longitude', \n",
    "                                    'is_location_exact')]"
   ]
  },
  {
   "cell_type": "code",
   "execution_count": 17,
   "metadata": {},
   "outputs": [],
   "source": [
    "calendar_listings = revised_calendar.merge(listings_location, \n",
    "                                   left_on = 'listing_id', \n",
    "                                   right_on = 'id')"
   ]
  },
  {
   "cell_type": "code",
   "execution_count": 18,
   "metadata": {},
   "outputs": [
    {
     "data": {
      "text/html": [
       "<div>\n",
       "<style scoped>\n",
       "    .dataframe tbody tr th:only-of-type {\n",
       "        vertical-align: middle;\n",
       "    }\n",
       "\n",
       "    .dataframe tbody tr th {\n",
       "        vertical-align: top;\n",
       "    }\n",
       "\n",
       "    .dataframe thead th {\n",
       "        text-align: right;\n",
       "    }\n",
       "</style>\n",
       "<table border=\"1\" class=\"dataframe\">\n",
       "  <thead>\n",
       "    <tr style=\"text-align: right;\">\n",
       "      <th></th>\n",
       "      <th>listing_id</th>\n",
       "      <th>date</th>\n",
       "      <th>available</th>\n",
       "      <th>price</th>\n",
       "      <th>year</th>\n",
       "      <th>month</th>\n",
       "      <th>id</th>\n",
       "      <th>street</th>\n",
       "      <th>neighbourhood</th>\n",
       "      <th>neighbourhood_cleansed</th>\n",
       "      <th>...</th>\n",
       "      <th>city</th>\n",
       "      <th>state</th>\n",
       "      <th>zipcode</th>\n",
       "      <th>market</th>\n",
       "      <th>smart_location</th>\n",
       "      <th>country_code</th>\n",
       "      <th>country</th>\n",
       "      <th>latitude</th>\n",
       "      <th>longitude</th>\n",
       "      <th>is_location_exact</th>\n",
       "    </tr>\n",
       "  </thead>\n",
       "  <tbody>\n",
       "    <tr>\n",
       "      <td>0</td>\n",
       "      <td>241032</td>\n",
       "      <td>2016-01-04</td>\n",
       "      <td>t</td>\n",
       "      <td>85.0</td>\n",
       "      <td>2016</td>\n",
       "      <td>January</td>\n",
       "      <td>241032</td>\n",
       "      <td>Gilman Dr W, Seattle, WA 98119, United States</td>\n",
       "      <td>Queen Anne</td>\n",
       "      <td>West Queen Anne</td>\n",
       "      <td>...</td>\n",
       "      <td>Seattle</td>\n",
       "      <td>WA</td>\n",
       "      <td>98119</td>\n",
       "      <td>Seattle</td>\n",
       "      <td>Seattle, WA</td>\n",
       "      <td>US</td>\n",
       "      <td>United States</td>\n",
       "      <td>47.636289</td>\n",
       "      <td>-122.371025</td>\n",
       "      <td>t</td>\n",
       "    </tr>\n",
       "    <tr>\n",
       "      <td>1</td>\n",
       "      <td>241032</td>\n",
       "      <td>2016-01-05</td>\n",
       "      <td>t</td>\n",
       "      <td>85.0</td>\n",
       "      <td>2016</td>\n",
       "      <td>January</td>\n",
       "      <td>241032</td>\n",
       "      <td>Gilman Dr W, Seattle, WA 98119, United States</td>\n",
       "      <td>Queen Anne</td>\n",
       "      <td>West Queen Anne</td>\n",
       "      <td>...</td>\n",
       "      <td>Seattle</td>\n",
       "      <td>WA</td>\n",
       "      <td>98119</td>\n",
       "      <td>Seattle</td>\n",
       "      <td>Seattle, WA</td>\n",
       "      <td>US</td>\n",
       "      <td>United States</td>\n",
       "      <td>47.636289</td>\n",
       "      <td>-122.371025</td>\n",
       "      <td>t</td>\n",
       "    </tr>\n",
       "    <tr>\n",
       "      <td>2</td>\n",
       "      <td>241032</td>\n",
       "      <td>2016-01-13</td>\n",
       "      <td>t</td>\n",
       "      <td>85.0</td>\n",
       "      <td>2016</td>\n",
       "      <td>January</td>\n",
       "      <td>241032</td>\n",
       "      <td>Gilman Dr W, Seattle, WA 98119, United States</td>\n",
       "      <td>Queen Anne</td>\n",
       "      <td>West Queen Anne</td>\n",
       "      <td>...</td>\n",
       "      <td>Seattle</td>\n",
       "      <td>WA</td>\n",
       "      <td>98119</td>\n",
       "      <td>Seattle</td>\n",
       "      <td>Seattle, WA</td>\n",
       "      <td>US</td>\n",
       "      <td>United States</td>\n",
       "      <td>47.636289</td>\n",
       "      <td>-122.371025</td>\n",
       "      <td>t</td>\n",
       "    </tr>\n",
       "  </tbody>\n",
       "</table>\n",
       "<p>3 rows × 21 columns</p>\n",
       "</div>"
      ],
      "text/plain": [
       "   listing_id       date available  price  year    month      id  \\\n",
       "0      241032 2016-01-04         t   85.0  2016  January  241032   \n",
       "1      241032 2016-01-05         t   85.0  2016  January  241032   \n",
       "2      241032 2016-01-13         t   85.0  2016  January  241032   \n",
       "\n",
       "                                          street neighbourhood  \\\n",
       "0  Gilman Dr W, Seattle, WA 98119, United States    Queen Anne   \n",
       "1  Gilman Dr W, Seattle, WA 98119, United States    Queen Anne   \n",
       "2  Gilman Dr W, Seattle, WA 98119, United States    Queen Anne   \n",
       "\n",
       "  neighbourhood_cleansed  ...     city state zipcode   market smart_location  \\\n",
       "0        West Queen Anne  ...  Seattle    WA   98119  Seattle    Seattle, WA   \n",
       "1        West Queen Anne  ...  Seattle    WA   98119  Seattle    Seattle, WA   \n",
       "2        West Queen Anne  ...  Seattle    WA   98119  Seattle    Seattle, WA   \n",
       "\n",
       "  country_code        country   latitude   longitude  is_location_exact  \n",
       "0           US  United States  47.636289 -122.371025                  t  \n",
       "1           US  United States  47.636289 -122.371025                  t  \n",
       "2           US  United States  47.636289 -122.371025                  t  \n",
       "\n",
       "[3 rows x 21 columns]"
      ]
     },
     "execution_count": 18,
     "metadata": {},
     "output_type": "execute_result"
    }
   ],
   "source": [
    "calendar_listings.head(3)"
   ]
  },
  {
   "cell_type": "code",
   "execution_count": 20,
   "metadata": {},
   "outputs": [],
   "source": [
    "location_price_mean = calendar_listings.groupby(calendar_listings['neighbourhood_group_cleansed'],\n",
    "                                 sort=True)['price'].mean()"
   ]
  },
  {
   "cell_type": "code",
   "execution_count": 21,
   "metadata": {},
   "outputs": [
    {
     "data": {
      "text/plain": [
       "<matplotlib.axes._subplots.AxesSubplot at 0x2344553f0c8>"
      ]
     },
     "execution_count": 21,
     "metadata": {},
     "output_type": "execute_result"
    },
    {
     "data": {
      "image/png": "[encoded data removed]",
      "text/plain": [
       "<Figure size 864x360 with 1 Axes>"
      ]
     },
     "metadata": {},
     "output_type": "display_data"
    }
   ],
   "source": [
    "# Note to self -> Sort this in descending order\n",
    "\n",
    "plt.rcParams.update({'font.size': 30})\n",
    "location_price_mean.plot(kind = 'bar', figsize = (12,5))"
   ]
  },
  {
   "cell_type": "code",
   "execution_count": null,
   "metadata": {},
   "outputs": [],
   "source": [
    "calendar_listings.shape"
   ]
  },
  {
   "cell_type": "code",
   "execution_count": null,
   "metadata": {
    "scrolled": true
   },
   "outputs": [],
   "source": [
    "calendar_listings['neighbourhood_group_cleansed'].value_counts()"
   ]
  },
  {
   "cell_type": "code",
   "execution_count": null,
   "metadata": {},
   "outputs": [],
   "source": [
    "locations_month = calendar_listings.loc[:,('listing_id',\n",
    "                                    'date', \n",
    "                                    'year', \n",
    "                                    'month', \n",
    "                                    'neighbourhood_group_cleansed')]"
   ]
  },
  {
   "cell_type": "code",
   "execution_count": null,
   "metadata": {},
   "outputs": [],
   "source": [
    "# Using GroupBy technique with value_counts\n",
    "locations_month.groupby('neighbourhood_group_cleansed')['month'].value_counts()\n",
    "\n",
    "# Apply \"Unstack\" to switch the rows to columns to get the activity counts as features.\n",
    "locations_month = locations_month.groupby('neighbourhood_group_cleansed')['month'].value_counts().unstack().fillna(0)"
   ]
  },
  {
   "cell_type": "code",
   "execution_count": null,
   "metadata": {},
   "outputs": [],
   "source": [
    "# Reorder\n",
    "locations_month = locations_month[['January', 'February', 'March', 'April',\n",
    "                     'May', 'June', 'July', 'August',\n",
    "                     'September', 'October', 'November', 'December']]\n",
    "locations_month"
   ]
  },
  {
   "cell_type": "code",
   "execution_count": 35,
   "metadata": {},
   "outputs": [
    {
     "data": {
      "text/html": [
       "<div>\n",
       "<style scoped>\n",
       "    .dataframe tbody tr th:only-of-type {\n",
       "        vertical-align: middle;\n",
       "    }\n",
       "\n",
       "    .dataframe tbody tr th {\n",
       "        vertical-align: top;\n",
       "    }\n",
       "\n",
       "    .dataframe thead th {\n",
       "        text-align: right;\n",
       "    }\n",
       "</style>\n",
       "<table border=\"1\" class=\"dataframe\">\n",
       "  <thead>\n",
       "    <tr style=\"text-align: right;\">\n",
       "      <th>month</th>\n",
       "      <th>January</th>\n",
       "      <th>February</th>\n",
       "      <th>March</th>\n",
       "      <th>April</th>\n",
       "      <th>May</th>\n",
       "      <th>June</th>\n",
       "      <th>July</th>\n",
       "      <th>August</th>\n",
       "      <th>September</th>\n",
       "      <th>October</th>\n",
       "      <th>November</th>\n",
       "      <th>December</th>\n",
       "    </tr>\n",
       "  </thead>\n",
       "  <tbody>\n",
       "    <tr>\n",
       "      <td>count</td>\n",
       "      <td>17.000000</td>\n",
       "      <td>17.000000</td>\n",
       "      <td>17.000000</td>\n",
       "      <td>17.000000</td>\n",
       "      <td>17.000000</td>\n",
       "      <td>17.000000</td>\n",
       "      <td>17.000000</td>\n",
       "      <td>17.000000</td>\n",
       "      <td>17.000000</td>\n",
       "      <td>17.000000</td>\n",
       "      <td>17.000000</td>\n",
       "      <td>17.000000</td>\n",
       "    </tr>\n",
       "    <tr>\n",
       "      <td>mean</td>\n",
       "      <td>3819.823529</td>\n",
       "      <td>4313.000000</td>\n",
       "      <td>4937.529412</td>\n",
       "      <td>4472.764706</td>\n",
       "      <td>4704.176471</td>\n",
       "      <td>4543.764706</td>\n",
       "      <td>4366.000000</td>\n",
       "      <td>4491.000000</td>\n",
       "      <td>4543.882353</td>\n",
       "      <td>4849.294118</td>\n",
       "      <td>4810.588235</td>\n",
       "      <td>5121.235294</td>\n",
       "    </tr>\n",
       "    <tr>\n",
       "      <td>std</td>\n",
       "      <td>3656.059991</td>\n",
       "      <td>4092.006094</td>\n",
       "      <td>4689.541770</td>\n",
       "      <td>4289.737558</td>\n",
       "      <td>4515.292463</td>\n",
       "      <td>4335.474809</td>\n",
       "      <td>4184.776741</td>\n",
       "      <td>4318.127763</td>\n",
       "      <td>4377.209183</td>\n",
       "      <td>4659.995464</td>\n",
       "      <td>4619.781408</td>\n",
       "      <td>4922.035333</td>\n",
       "    </tr>\n",
       "    <tr>\n",
       "      <td>min</td>\n",
       "      <td>275.000000</td>\n",
       "      <td>286.000000</td>\n",
       "      <td>310.000000</td>\n",
       "      <td>271.000000</td>\n",
       "      <td>277.000000</td>\n",
       "      <td>270.000000</td>\n",
       "      <td>276.000000</td>\n",
       "      <td>275.000000</td>\n",
       "      <td>270.000000</td>\n",
       "      <td>279.000000</td>\n",
       "      <td>295.000000</td>\n",
       "      <td>310.000000</td>\n",
       "    </tr>\n",
       "    <tr>\n",
       "      <td>25%</td>\n",
       "      <td>1361.000000</td>\n",
       "      <td>1438.000000</td>\n",
       "      <td>1754.000000</td>\n",
       "      <td>1582.000000</td>\n",
       "      <td>1651.000000</td>\n",
       "      <td>1584.000000</td>\n",
       "      <td>1444.000000</td>\n",
       "      <td>1495.000000</td>\n",
       "      <td>1560.000000</td>\n",
       "      <td>1703.000000</td>\n",
       "      <td>1721.000000</td>\n",
       "      <td>1864.000000</td>\n",
       "    </tr>\n",
       "    <tr>\n",
       "      <td>50%</td>\n",
       "      <td>2544.000000</td>\n",
       "      <td>2719.000000</td>\n",
       "      <td>2989.000000</td>\n",
       "      <td>2636.000000</td>\n",
       "      <td>2818.000000</td>\n",
       "      <td>2784.000000</td>\n",
       "      <td>2741.000000</td>\n",
       "      <td>2794.000000</td>\n",
       "      <td>2713.000000</td>\n",
       "      <td>2817.000000</td>\n",
       "      <td>2726.000000</td>\n",
       "      <td>2867.000000</td>\n",
       "    </tr>\n",
       "    <tr>\n",
       "      <td>75%</td>\n",
       "      <td>4498.000000</td>\n",
       "      <td>5152.000000</td>\n",
       "      <td>5783.000000</td>\n",
       "      <td>5144.000000</td>\n",
       "      <td>5341.000000</td>\n",
       "      <td>5130.000000</td>\n",
       "      <td>5106.000000</td>\n",
       "      <td>5382.000000</td>\n",
       "      <td>5642.000000</td>\n",
       "      <td>6271.000000</td>\n",
       "      <td>6459.000000</td>\n",
       "      <td>6896.000000</td>\n",
       "    </tr>\n",
       "    <tr>\n",
       "      <td>max</td>\n",
       "      <td>13262.000000</td>\n",
       "      <td>14622.000000</td>\n",
       "      <td>17047.000000</td>\n",
       "      <td>15811.000000</td>\n",
       "      <td>16814.000000</td>\n",
       "      <td>16145.000000</td>\n",
       "      <td>15659.000000</td>\n",
       "      <td>16212.000000</td>\n",
       "      <td>16409.000000</td>\n",
       "      <td>17374.000000</td>\n",
       "      <td>17154.000000</td>\n",
       "      <td>18152.000000</td>\n",
       "    </tr>\n",
       "  </tbody>\n",
       "</table>\n",
       "</div>"
      ],
      "text/plain": [
       "month       January      February         March         April           May  \\\n",
       "count     17.000000     17.000000     17.000000     17.000000     17.000000   \n",
       "mean    3819.823529   4313.000000   4937.529412   4472.764706   4704.176471   \n",
       "std     3656.059991   4092.006094   4689.541770   4289.737558   4515.292463   \n",
       "min      275.000000    286.000000    310.000000    271.000000    277.000000   \n",
       "25%     1361.000000   1438.000000   1754.000000   1582.000000   1651.000000   \n",
       "50%     2544.000000   2719.000000   2989.000000   2636.000000   2818.000000   \n",
       "75%     4498.000000   5152.000000   5783.000000   5144.000000   5341.000000   \n",
       "max    13262.000000  14622.000000  17047.000000  15811.000000  16814.000000   \n",
       "\n",
       "month          June          July        August     September       October  \\\n",
       "count     17.000000     17.000000     17.000000     17.000000     17.000000   \n",
       "mean    4543.764706   4366.000000   4491.000000   4543.882353   4849.294118   \n",
       "std     4335.474809   4184.776741   4318.127763   4377.209183   4659.995464   \n",
       "min      270.000000    276.000000    275.000000    270.000000    279.000000   \n",
       "25%     1584.000000   1444.000000   1495.000000   1560.000000   1703.000000   \n",
       "50%     2784.000000   2741.000000   2794.000000   2713.000000   2817.000000   \n",
       "75%     5130.000000   5106.000000   5382.000000   5642.000000   6271.000000   \n",
       "max    16145.000000  15659.000000  16212.000000  16409.000000  17374.000000   \n",
       "\n",
       "month      November      December  \n",
       "count     17.000000     17.000000  \n",
       "mean    4810.588235   5121.235294  \n",
       "std     4619.781408   4922.035333  \n",
       "min      295.000000    310.000000  \n",
       "25%     1721.000000   1864.000000  \n",
       "50%     2726.000000   2867.000000  \n",
       "75%     6459.000000   6896.000000  \n",
       "max    17154.000000  18152.000000  "
      ]
     },
     "execution_count": 35,
     "metadata": {},
     "output_type": "execute_result"
    }
   ],
   "source": [
    "# December has the highest # of bookings; July has the highest avg price\n",
    "locations_month.describe()"
   ]
  },
  {
   "cell_type": "code",
   "execution_count": null,
   "metadata": {},
   "outputs": [],
   "source": []
  }
 ],
 "metadata": {
  "kernelspec": {
   "display_name": "Python 3",
   "language": "python",
   "name": "python3"
  },
  "language_info": {
   "codemirror_mode": {
    "name": "ipython",
    "version": 3
   },
   "file_extension": ".py",
   "mimetype": "text/x-python",
   "name": "python",
   "nbconvert_exporter": "python",
   "pygments_lexer": "ipython3",
   "version": "3.7.4"
  }
 },
 "nbformat": 4,
 "nbformat_minor": 2
}
