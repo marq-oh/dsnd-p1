{
 "cells": [
  {
   "cell_type": "markdown",
   "metadata": {},
   "source": [
    "# Proximity / Location\n",
    "**Questions:**\n",
    "* Which months do the best? \n",
    "* Where is the demand?  \n",
    "* Which areas rent all season round?\n",
    "\n",
    "Potential analysis:\n",
    "* Compare simliar properties (areas, size, etc) that have different review scores"
   ]
  },
  {
   "cell_type": "markdown",
   "metadata": {},
   "source": [
    "## Imports"
   ]
  },
  {
   "cell_type": "code",
   "execution_count": 1,
   "metadata": {},
   "outputs": [],
   "source": [
    "# Note to self -> Use numpy somewhere\n",
    "import numpy as np\n",
    "\n",
    "import pandas as pd\n",
    "import matplotlib.pyplot as plt\n",
    "import seaborn as sb"
   ]
  },
  {
   "cell_type": "markdown",
   "metadata": {},
   "source": [
    "## Data Preparation\n",
    "Step to clean-up the data and prepare for processing"
   ]
  },
  {
   "cell_type": "markdown",
   "metadata": {},
   "source": [
    "### Creating dataframes"
   ]
  },
  {
   "cell_type": "code",
   "execution_count": 2,
   "metadata": {},
   "outputs": [],
   "source": [
    "# Importing data into pandas dataframes\n",
    "listings = pd.read_csv('./listings_sea.csv')\n",
    "calendar = pd.read_csv('./calendar_sea.csv')\n",
    "reviews = pd.read_csv('./reviews_sea.csv')"
   ]
  },
  {
   "cell_type": "code",
   "execution_count": 3,
   "metadata": {
    "scrolled": true
   },
   "outputs": [
    {
     "data": {
      "text/html": [
       "<div>\n",
       "<style scoped>\n",
       "    .dataframe tbody tr th:only-of-type {\n",
       "        vertical-align: middle;\n",
       "    }\n",
       "\n",
       "    .dataframe tbody tr th {\n",
       "        vertical-align: top;\n",
       "    }\n",
       "\n",
       "    .dataframe thead th {\n",
       "        text-align: right;\n",
       "    }\n",
       "</style>\n",
       "<table border=\"1\" class=\"dataframe\">\n",
       "  <thead>\n",
       "    <tr style=\"text-align: right;\">\n",
       "      <th></th>\n",
       "      <th>listing_id</th>\n",
       "      <th>date</th>\n",
       "      <th>available</th>\n",
       "      <th>price</th>\n",
       "    </tr>\n",
       "  </thead>\n",
       "  <tbody>\n",
       "    <tr>\n",
       "      <td>0</td>\n",
       "      <td>241032</td>\n",
       "      <td>2016-01-04</td>\n",
       "      <td>t</td>\n",
       "      <td>$85.00</td>\n",
       "    </tr>\n",
       "    <tr>\n",
       "      <td>1</td>\n",
       "      <td>241032</td>\n",
       "      <td>2016-01-05</td>\n",
       "      <td>t</td>\n",
       "      <td>$85.00</td>\n",
       "    </tr>\n",
       "    <tr>\n",
       "      <td>2</td>\n",
       "      <td>241032</td>\n",
       "      <td>2016-01-06</td>\n",
       "      <td>f</td>\n",
       "      <td>NaN</td>\n",
       "    </tr>\n",
       "  </tbody>\n",
       "</table>\n",
       "</div>"
      ],
      "text/plain": [
       "   listing_id        date available   price\n",
       "0      241032  2016-01-04         t  $85.00\n",
       "1      241032  2016-01-05         t  $85.00\n",
       "2      241032  2016-01-06         f     NaN"
      ]
     },
     "execution_count": 3,
     "metadata": {},
     "output_type": "execute_result"
    }
   ],
   "source": [
    "# View a snippet of the data\n",
    "calendar.head(3)"
   ]
  },
  {
   "cell_type": "markdown",
   "metadata": {},
   "source": [
    "### Dealing with NaN"
   ]
  },
  {
   "cell_type": "code",
   "execution_count": 6,
   "metadata": {},
   "outputs": [
    {
     "data": {
      "text/plain": [
       "listing_id         0\n",
       "date               0\n",
       "available          0\n",
       "price         459028\n",
       "dtype: int64"
      ]
     },
     "execution_count": 6,
     "metadata": {},
     "output_type": "execute_result"
    }
   ],
   "source": [
    "# Find null data\n",
    "calendar.isnull().sum()"
   ]
  },
  {
   "cell_type": "code",
   "execution_count": 7,
   "metadata": {},
   "outputs": [
    {
     "data": {
      "text/plain": [
       "(1393570, 4)"
      ]
     },
     "execution_count": 7,
     "metadata": {},
     "output_type": "execute_result"
    }
   ],
   "source": [
    "# Initial shape\n",
    "calendar.shape"
   ]
  },
  {
   "cell_type": "code",
   "execution_count": 8,
   "metadata": {},
   "outputs": [],
   "source": [
    "# Remove rows not needed (nan rows)\n",
    "revised_calendar = calendar.dropna(axis = 0)"
   ]
  },
  {
   "cell_type": "code",
   "execution_count": 9,
   "metadata": {},
   "outputs": [
    {
     "data": {
      "text/plain": [
       "(934542, 4)"
      ]
     },
     "execution_count": 9,
     "metadata": {},
     "output_type": "execute_result"
    }
   ],
   "source": [
    "# Revised shape\n",
    "revised_calendar.shape"
   ]
  },
  {
   "cell_type": "code",
   "execution_count": 13,
   "metadata": {
    "scrolled": true
   },
   "outputs": [
    {
     "data": {
      "text/plain": [
       "listing_id    0\n",
       "date          0\n",
       "available     0\n",
       "price         0\n",
       "dtype: int64"
      ]
     },
     "execution_count": 13,
     "metadata": {},
     "output_type": "execute_result"
    }
   ],
   "source": [
    "revised_calendar.isnull().sum()"
   ]
  },
  {
   "cell_type": "markdown",
   "metadata": {},
   "source": [
    "### Fix dtypes"
   ]
  },
  {
   "cell_type": "code",
   "execution_count": 14,
   "metadata": {
    "scrolled": true
   },
   "outputs": [
    {
     "name": "stderr",
     "output_type": "stream",
     "text": [
      "C:\\Users\\marco\\Anaconda3\\lib\\site-packages\\pandas\\core\\indexing.py:494: SettingWithCopyWarning: \n",
      "A value is trying to be set on a copy of a slice from a DataFrame.\n",
      "Try using .loc[row_indexer,col_indexer] = value instead\n",
      "\n",
      "See the caveats in the documentation: http://pandas.pydata.org/pandas-docs/stable/user_guide/indexing.html#returning-a-view-versus-a-copy\n",
      "  self.obj[item] = s\n",
      "C:\\Users\\marco\\Anaconda3\\lib\\site-packages\\pandas\\core\\indexing.py:376: SettingWithCopyWarning: \n",
      "A value is trying to be set on a copy of a slice from a DataFrame.\n",
      "Try using .loc[row_indexer,col_indexer] = value instead\n",
      "\n",
      "See the caveats in the documentation: http://pandas.pydata.org/pandas-docs/stable/user_guide/indexing.html#returning-a-view-versus-a-copy\n",
      "  self.obj[key] = _infer_fill_value(value)\n"
     ]
    }
   ],
   "source": [
    "# Note to self -> Figure out how to do Year + Month as one column\n",
    "\n",
    "revised_calendar.loc[:,('date')] = pd.to_datetime(revised_calendar.loc[:,('date')])\n",
    "revised_calendar.loc[:,('year')] = pd.DatetimeIndex(revised_calendar.loc[:,('date')]).year\n",
    "revised_calendar.loc[:,('month')] = pd.to_datetime(revised_calendar.loc[:,('date')]).dt.month_name(locale = 'English')"
   ]
  },
  {
   "cell_type": "code",
   "execution_count": 15,
   "metadata": {},
   "outputs": [],
   "source": [
    "def convert_currency(val):\n",
    "    \"\"\"\n",
    "    Convert the string number value to a float\n",
    "     - Remove $\n",
    "     - Remove commas\n",
    "     - Convert to float type\n",
    "    \"\"\"\n",
    "    new_val = val.replace(',','').replace('$', '')\n",
    "    return float(new_val)"
   ]
  },
  {
   "cell_type": "code",
   "execution_count": 16,
   "metadata": {},
   "outputs": [],
   "source": [
    "revised_calendar.loc[:,('price')] = revised_calendar.loc[:,('price')].apply(convert_currency)"
   ]
  },
  {
   "cell_type": "code",
   "execution_count": 17,
   "metadata": {},
   "outputs": [
    {
     "data": {
      "text/plain": [
       "listing_id             int64\n",
       "date          datetime64[ns]\n",
       "available             object\n",
       "price                float64\n",
       "year                   int64\n",
       "month                 object\n",
       "dtype: object"
      ]
     },
     "execution_count": 17,
     "metadata": {},
     "output_type": "execute_result"
    }
   ],
   "source": [
    "revised_calendar.dtypes"
   ]
  },
  {
   "cell_type": "markdown",
   "metadata": {},
   "source": [
    "## Which months do the best?"
   ]
  },
  {
   "cell_type": "markdown",
   "metadata": {},
   "source": [
    "### Mean price p/month"
   ]
  },
  {
   "cell_type": "code",
   "execution_count": 22,
   "metadata": {},
   "outputs": [
    {
     "data": {
      "text/html": [
       "<div>\n",
       "<style scoped>\n",
       "    .dataframe tbody tr th:only-of-type {\n",
       "        vertical-align: middle;\n",
       "    }\n",
       "\n",
       "    .dataframe tbody tr th {\n",
       "        vertical-align: top;\n",
       "    }\n",
       "\n",
       "    .dataframe thead th {\n",
       "        text-align: right;\n",
       "    }\n",
       "</style>\n",
       "<table border=\"1\" class=\"dataframe\">\n",
       "  <thead>\n",
       "    <tr style=\"text-align: right;\">\n",
       "      <th></th>\n",
       "      <th>listing_id</th>\n",
       "      <th>date</th>\n",
       "      <th>available</th>\n",
       "      <th>price</th>\n",
       "      <th>year</th>\n",
       "      <th>month</th>\n",
       "    </tr>\n",
       "  </thead>\n",
       "  <tbody>\n",
       "    <tr>\n",
       "      <td>0</td>\n",
       "      <td>241032</td>\n",
       "      <td>2016-01-04</td>\n",
       "      <td>t</td>\n",
       "      <td>85.0</td>\n",
       "      <td>2016</td>\n",
       "      <td>January</td>\n",
       "    </tr>\n",
       "    <tr>\n",
       "      <td>1</td>\n",
       "      <td>241032</td>\n",
       "      <td>2016-01-05</td>\n",
       "      <td>t</td>\n",
       "      <td>85.0</td>\n",
       "      <td>2016</td>\n",
       "      <td>January</td>\n",
       "    </tr>\n",
       "    <tr>\n",
       "      <td>9</td>\n",
       "      <td>241032</td>\n",
       "      <td>2016-01-13</td>\n",
       "      <td>t</td>\n",
       "      <td>85.0</td>\n",
       "      <td>2016</td>\n",
       "      <td>January</td>\n",
       "    </tr>\n",
       "  </tbody>\n",
       "</table>\n",
       "</div>"
      ],
      "text/plain": [
       "   listing_id       date available  price  year    month\n",
       "0      241032 2016-01-04         t   85.0  2016  January\n",
       "1      241032 2016-01-05         t   85.0  2016  January\n",
       "9      241032 2016-01-13         t   85.0  2016  January"
      ]
     },
     "execution_count": 22,
     "metadata": {},
     "output_type": "execute_result"
    }
   ],
   "source": [
    "revised_calendar.head(3)"
   ]
  },
  {
   "cell_type": "code",
   "execution_count": 23,
   "metadata": {},
   "outputs": [],
   "source": [
    "month_price_mean = revised_calendar.groupby(revised_calendar['month'],\n",
    "                                 sort=False)['price'].mean()"
   ]
  },
  {
   "cell_type": "code",
   "execution_count": 24,
   "metadata": {
    "scrolled": true
   },
   "outputs": [
    {
     "data": {
      "text/plain": [
       "<matplotlib.axes._subplots.AxesSubplot at 0x1b7b9258388>"
      ]
     },
     "execution_count": 24,
     "metadata": {},
     "output_type": "execute_result"
    },
    {
     "data": {
      "image/png": "[encoded data removed]",
      "text/plain": [
       "<Figure size 2160x720 with 1 Axes>"
      ]
     },
     "metadata": {
      "needs_background": "light"
     },
     "output_type": "display_data"
    }
   ],
   "source": [
    "plt.rcParams.update({'font.size': 30})\n",
    "month_price_mean.plot(kind = 'bar', figsize = (30,10))"
   ]
  },
  {
   "cell_type": "markdown",
   "metadata": {},
   "source": [
    "### Count # of reviews p/month\n",
    "Note: May not use this, but keep analysis for now"
   ]
  },
  {
   "cell_type": "code",
   "execution_count": 25,
   "metadata": {},
   "outputs": [
    {
     "data": {
      "text/html": [
       "<div>\n",
       "<style scoped>\n",
       "    .dataframe tbody tr th:only-of-type {\n",
       "        vertical-align: middle;\n",
       "    }\n",
       "\n",
       "    .dataframe tbody tr th {\n",
       "        vertical-align: top;\n",
       "    }\n",
       "\n",
       "    .dataframe thead th {\n",
       "        text-align: right;\n",
       "    }\n",
       "</style>\n",
       "<table border=\"1\" class=\"dataframe\">\n",
       "  <thead>\n",
       "    <tr style=\"text-align: right;\">\n",
       "      <th></th>\n",
       "      <th>listing_id</th>\n",
       "      <th>id</th>\n",
       "      <th>date</th>\n",
       "      <th>reviewer_id</th>\n",
       "      <th>reviewer_name</th>\n",
       "      <th>comments</th>\n",
       "    </tr>\n",
       "  </thead>\n",
       "  <tbody>\n",
       "    <tr>\n",
       "      <td>0</td>\n",
       "      <td>7202016</td>\n",
       "      <td>38917982</td>\n",
       "      <td>2015-07-19</td>\n",
       "      <td>28943674</td>\n",
       "      <td>Bianca</td>\n",
       "      <td>Cute and cozy place. Perfect location to every...</td>\n",
       "    </tr>\n",
       "    <tr>\n",
       "      <td>1</td>\n",
       "      <td>7202016</td>\n",
       "      <td>39087409</td>\n",
       "      <td>2015-07-20</td>\n",
       "      <td>32440555</td>\n",
       "      <td>Frank</td>\n",
       "      <td>Kelly has a great room in a very central locat...</td>\n",
       "    </tr>\n",
       "    <tr>\n",
       "      <td>2</td>\n",
       "      <td>7202016</td>\n",
       "      <td>39820030</td>\n",
       "      <td>2015-07-26</td>\n",
       "      <td>37722850</td>\n",
       "      <td>Ian</td>\n",
       "      <td>Very spacious apartment, and in a great neighb...</td>\n",
       "    </tr>\n",
       "  </tbody>\n",
       "</table>\n",
       "</div>"
      ],
      "text/plain": [
       "   listing_id        id        date  reviewer_id reviewer_name  \\\n",
       "0     7202016  38917982  2015-07-19     28943674        Bianca   \n",
       "1     7202016  39087409  2015-07-20     32440555         Frank   \n",
       "2     7202016  39820030  2015-07-26     37722850           Ian   \n",
       "\n",
       "                                            comments  \n",
       "0  Cute and cozy place. Perfect location to every...  \n",
       "1  Kelly has a great room in a very central locat...  \n",
       "2  Very spacious apartment, and in a great neighb...  "
      ]
     },
     "execution_count": 25,
     "metadata": {},
     "output_type": "execute_result"
    }
   ],
   "source": [
    "reviews.head(3)"
   ]
  },
  {
   "cell_type": "code",
   "execution_count": 26,
   "metadata": {},
   "outputs": [
    {
     "data": {
      "text/plain": [
       "listing_id        0\n",
       "id                0\n",
       "date              0\n",
       "reviewer_id       0\n",
       "reviewer_name     0\n",
       "comments         18\n",
       "dtype: int64"
      ]
     },
     "execution_count": 26,
     "metadata": {},
     "output_type": "execute_result"
    }
   ],
   "source": [
    "# Note to self -> Figure out how to deal with null here\n",
    "\n",
    "reviews.isnull().sum()"
   ]
  },
  {
   "cell_type": "code",
   "execution_count": 27,
   "metadata": {},
   "outputs": [
    {
     "data": {
      "text/plain": [
       "(84849, 6)"
      ]
     },
     "execution_count": 27,
     "metadata": {},
     "output_type": "execute_result"
    }
   ],
   "source": [
    "reviews.shape"
   ]
  },
  {
   "cell_type": "code",
   "execution_count": 28,
   "metadata": {},
   "outputs": [],
   "source": [
    "reviews.loc[:,('date')] = pd.to_datetime(reviews.loc[:,('date')])\n",
    "reviews.loc[:,('year')] = pd.DatetimeIndex(reviews.loc[:,('date')]).year\n",
    "reviews.loc[:,('month')] = pd.to_datetime(reviews.loc[:,('date')]).dt.month_name(locale = 'English')"
   ]
  },
  {
   "cell_type": "code",
   "execution_count": 29,
   "metadata": {},
   "outputs": [
    {
     "data": {
      "text/plain": [
       "listing_id                int64\n",
       "id                        int64\n",
       "date             datetime64[ns]\n",
       "reviewer_id               int64\n",
       "reviewer_name            object\n",
       "comments                 object\n",
       "year                      int64\n",
       "month                    object\n",
       "dtype: object"
      ]
     },
     "execution_count": 29,
     "metadata": {},
     "output_type": "execute_result"
    }
   ],
   "source": [
    "reviews.dtypes"
   ]
  },
  {
   "cell_type": "code",
   "execution_count": 30,
   "metadata": {},
   "outputs": [
    {
     "data": {
      "text/plain": [
       "2015    52493\n",
       "2014    20365\n",
       "2013     7077\n",
       "2012     3251\n",
       "2011     1169\n",
       "2010      254\n",
       "2016      223\n",
       "2009       17\n",
       "Name: year, dtype: int64"
      ]
     },
     "execution_count": 30,
     "metadata": {},
     "output_type": "execute_result"
    }
   ],
   "source": [
    "reviews['year'].value_counts()"
   ]
  },
  {
   "cell_type": "markdown",
   "metadata": {},
   "source": [
    "## Where is the demand?"
   ]
  },
  {
   "cell_type": "code",
   "execution_count": 31,
   "metadata": {},
   "outputs": [],
   "source": [
    "listings_location = listings.loc[:,('id',\n",
    "                                    'street', \n",
    "                                    'neighbourhood', \n",
    "                                    'neighbourhood_cleansed', \n",
    "                                    'neighbourhood_group_cleansed', \n",
    "                                    'city', \n",
    "                                    'state', \n",
    "                                    'zipcode', \n",
    "                                    'market', \n",
    "                                    'smart_location', \n",
    "                                    'country_code', \n",
    "                                    'country', \n",
    "                                    'latitude', \n",
    "                                    'longitude', \n",
    "                                    'is_location_exact')]"
   ]
  },
  {
   "cell_type": "code",
   "execution_count": 32,
   "metadata": {},
   "outputs": [],
   "source": [
    "calendar_listings = revised_calendar.merge(listings_location, \n",
    "                                   left_on = 'listing_id', \n",
    "                                   right_on = 'id')"
   ]
  },
  {
   "cell_type": "code",
   "execution_count": 33,
   "metadata": {},
   "outputs": [
    {
     "data": {
      "text/html": [
       "<div>\n",
       "<style scoped>\n",
       "    .dataframe tbody tr th:only-of-type {\n",
       "        vertical-align: middle;\n",
       "    }\n",
       "\n",
       "    .dataframe tbody tr th {\n",
       "        vertical-align: top;\n",
       "    }\n",
       "\n",
       "    .dataframe thead th {\n",
       "        text-align: right;\n",
       "    }\n",
       "</style>\n",
       "<table border=\"1\" class=\"dataframe\">\n",
       "  <thead>\n",
       "    <tr style=\"text-align: right;\">\n",
       "      <th></th>\n",
       "      <th>listing_id</th>\n",
       "      <th>date</th>\n",
       "      <th>available</th>\n",
       "      <th>price</th>\n",
       "      <th>year</th>\n",
       "      <th>month</th>\n",
       "      <th>id</th>\n",
       "      <th>street</th>\n",
       "      <th>neighbourhood</th>\n",
       "      <th>neighbourhood_cleansed</th>\n",
       "      <th>...</th>\n",
       "      <th>city</th>\n",
       "      <th>state</th>\n",
       "      <th>zipcode</th>\n",
       "      <th>market</th>\n",
       "      <th>smart_location</th>\n",
       "      <th>country_code</th>\n",
       "      <th>country</th>\n",
       "      <th>latitude</th>\n",
       "      <th>longitude</th>\n",
       "      <th>is_location_exact</th>\n",
       "    </tr>\n",
       "  </thead>\n",
       "  <tbody>\n",
       "    <tr>\n",
       "      <td>0</td>\n",
       "      <td>241032</td>\n",
       "      <td>2016-01-04</td>\n",
       "      <td>t</td>\n",
       "      <td>85.0</td>\n",
       "      <td>2016</td>\n",
       "      <td>January</td>\n",
       "      <td>241032</td>\n",
       "      <td>Gilman Dr W, Seattle, WA 98119, United States</td>\n",
       "      <td>Queen Anne</td>\n",
       "      <td>West Queen Anne</td>\n",
       "      <td>...</td>\n",
       "      <td>Seattle</td>\n",
       "      <td>WA</td>\n",
       "      <td>98119</td>\n",
       "      <td>Seattle</td>\n",
       "      <td>Seattle, WA</td>\n",
       "      <td>US</td>\n",
       "      <td>United States</td>\n",
       "      <td>47.636289</td>\n",
       "      <td>-122.371025</td>\n",
       "      <td>t</td>\n",
       "    </tr>\n",
       "    <tr>\n",
       "      <td>1</td>\n",
       "      <td>241032</td>\n",
       "      <td>2016-01-05</td>\n",
       "      <td>t</td>\n",
       "      <td>85.0</td>\n",
       "      <td>2016</td>\n",
       "      <td>January</td>\n",
       "      <td>241032</td>\n",
       "      <td>Gilman Dr W, Seattle, WA 98119, United States</td>\n",
       "      <td>Queen Anne</td>\n",
       "      <td>West Queen Anne</td>\n",
       "      <td>...</td>\n",
       "      <td>Seattle</td>\n",
       "      <td>WA</td>\n",
       "      <td>98119</td>\n",
       "      <td>Seattle</td>\n",
       "      <td>Seattle, WA</td>\n",
       "      <td>US</td>\n",
       "      <td>United States</td>\n",
       "      <td>47.636289</td>\n",
       "      <td>-122.371025</td>\n",
       "      <td>t</td>\n",
       "    </tr>\n",
       "    <tr>\n",
       "      <td>2</td>\n",
       "      <td>241032</td>\n",
       "      <td>2016-01-13</td>\n",
       "      <td>t</td>\n",
       "      <td>85.0</td>\n",
       "      <td>2016</td>\n",
       "      <td>January</td>\n",
       "      <td>241032</td>\n",
       "      <td>Gilman Dr W, Seattle, WA 98119, United States</td>\n",
       "      <td>Queen Anne</td>\n",
       "      <td>West Queen Anne</td>\n",
       "      <td>...</td>\n",
       "      <td>Seattle</td>\n",
       "      <td>WA</td>\n",
       "      <td>98119</td>\n",
       "      <td>Seattle</td>\n",
       "      <td>Seattle, WA</td>\n",
       "      <td>US</td>\n",
       "      <td>United States</td>\n",
       "      <td>47.636289</td>\n",
       "      <td>-122.371025</td>\n",
       "      <td>t</td>\n",
       "    </tr>\n",
       "  </tbody>\n",
       "</table>\n",
       "<p>3 rows × 21 columns</p>\n",
       "</div>"
      ],
      "text/plain": [
       "   listing_id       date available  price  year    month      id  \\\n",
       "0      241032 2016-01-04         t   85.0  2016  January  241032   \n",
       "1      241032 2016-01-05         t   85.0  2016  January  241032   \n",
       "2      241032 2016-01-13         t   85.0  2016  January  241032   \n",
       "\n",
       "                                          street neighbourhood  \\\n",
       "0  Gilman Dr W, Seattle, WA 98119, United States    Queen Anne   \n",
       "1  Gilman Dr W, Seattle, WA 98119, United States    Queen Anne   \n",
       "2  Gilman Dr W, Seattle, WA 98119, United States    Queen Anne   \n",
       "\n",
       "  neighbourhood_cleansed  ...     city state zipcode   market smart_location  \\\n",
       "0        West Queen Anne  ...  Seattle    WA   98119  Seattle    Seattle, WA   \n",
       "1        West Queen Anne  ...  Seattle    WA   98119  Seattle    Seattle, WA   \n",
       "2        West Queen Anne  ...  Seattle    WA   98119  Seattle    Seattle, WA   \n",
       "\n",
       "  country_code        country   latitude   longitude  is_location_exact  \n",
       "0           US  United States  47.636289 -122.371025                  t  \n",
       "1           US  United States  47.636289 -122.371025                  t  \n",
       "2           US  United States  47.636289 -122.371025                  t  \n",
       "\n",
       "[3 rows x 21 columns]"
      ]
     },
     "execution_count": 33,
     "metadata": {},
     "output_type": "execute_result"
    }
   ],
   "source": [
    "calendar_listings.head(3)"
   ]
  },
  {
   "cell_type": "code",
   "execution_count": 38,
   "metadata": {},
   "outputs": [],
   "source": [
    "location_price_mean = calendar_listings.groupby(calendar_listings['neighbourhood_group_cleansed'],\n",
    "                                 sort=True)['price'].mean()"
   ]
  },
  {
   "cell_type": "code",
   "execution_count": 39,
   "metadata": {
    "scrolled": true
   },
   "outputs": [
    {
     "data": {
      "text/plain": [
       "<matplotlib.axes._subplots.AxesSubplot at 0x1b7c261a188>"
      ]
     },
     "execution_count": 39,
     "metadata": {},
     "output_type": "execute_result"
    },
    {
     "data": {
      "image/png": "[encoded data removed]",
      "text/plain": [
       "<Figure size 2160x720 with 1 Axes>"
      ]
     },
     "metadata": {
      "needs_background": "light"
     },
     "output_type": "display_data"
    }
   ],
   "source": [
    "# Note to self -> Sort this in descending order\n",
    "\n",
    "plt.rcParams.update({'font.size': 30})\n",
    "location_price_mean.plot(kind = 'bar', figsize = (30,10))"
   ]
  },
  {
   "cell_type": "code",
   "execution_count": 29,
   "metadata": {},
   "outputs": [
    {
     "data": {
      "text/plain": [
       "(934542, 21)"
      ]
     },
     "execution_count": 29,
     "metadata": {},
     "output_type": "execute_result"
    }
   ],
   "source": [
    "calendar_listings.shape"
   ]
  },
  {
   "cell_type": "code",
   "execution_count": 28,
   "metadata": {
    "scrolled": true
   },
   "outputs": [
    {
     "data": {
      "text/plain": [
       "Other neighborhoods    194661\n",
       "Capitol Hill           132668\n",
       "Downtown               125725\n",
       "Central Area            90556\n",
       "Queen Anne              66804\n",
       "Ballard                 58115\n",
       "West Seattle            51950\n",
       "Rainier Valley          38914\n",
       "University District     33148\n",
       "Beacon Hill             30270\n",
       "Delridge                21545\n",
       "Northgate               21105\n",
       "Lake City               18801\n",
       "Cascade                 18717\n",
       "Magnolia                17248\n",
       "Seward Park             10921\n",
       "Interbay                 3394\n",
       "Name: neighbourhood_group_cleansed, dtype: int64"
      ]
     },
     "execution_count": 28,
     "metadata": {},
     "output_type": "execute_result"
    }
   ],
   "source": [
    "calendar_listings['neighbourhood_group_cleansed'].value_counts()"
   ]
  },
  {
   "cell_type": "code",
   "execution_count": 41,
   "metadata": {},
   "outputs": [],
   "source": [
    "locations_month = calendar_listings.loc[:,('listing_id',\n",
    "                                    'date', \n",
    "                                    'year', \n",
    "                                    'month', \n",
    "                                    'neighbourhood_group_cleansed')]"
   ]
  },
  {
   "cell_type": "code",
   "execution_count": 42,
   "metadata": {},
   "outputs": [
    {
     "name": "stdout",
     "output_type": "stream",
     "text": [
      "Ballard\n",
      "        listing_id       date  year     month neighbourhood_group_cleansed\n",
      "16042      7077910 2016-01-04  2016   January                      Ballard\n",
      "16043      7077910 2016-01-05  2016   January                      Ballard\n",
      "16044      7077910 2016-01-06  2016   January                      Ballard\n",
      "16045      7077910 2016-01-07  2016   January                      Ballard\n",
      "16046      7077910 2016-01-08  2016   January                      Ballard\n",
      "...            ...        ...   ...       ...                          ...\n",
      "804789     7389248 2016-12-29  2016  December                      Ballard\n",
      "804790     7389248 2016-12-30  2016  December                      Ballard\n",
      "804791     7389248 2016-12-31  2016  December                      Ballard\n",
      "804792     7389248 2017-01-01  2017   January                      Ballard\n",
      "804793     7389248 2017-01-02  2017   January                      Ballard\n",
      "\n",
      "[58115 rows x 5 columns]\n",
      "Beacon Hill\n",
      "        listing_id       date  year     month neighbourhood_group_cleansed\n",
      "473135     6327506 2016-02-01  2016  February                  Beacon Hill\n",
      "473136     6327506 2016-02-02  2016  February                  Beacon Hill\n",
      "473137     6327506 2016-02-03  2016  February                  Beacon Hill\n",
      "473138     6327506 2016-02-04  2016  February                  Beacon Hill\n",
      "473139     6327506 2016-02-05  2016  February                  Beacon Hill\n",
      "...            ...        ...   ...       ...                          ...\n",
      "526962     9013441 2016-12-29  2016  December                  Beacon Hill\n",
      "526963     9013441 2016-12-30  2016  December                  Beacon Hill\n",
      "526964     9013441 2016-12-31  2016  December                  Beacon Hill\n",
      "526965     9013441 2017-01-01  2017   January                  Beacon Hill\n",
      "526966     9013441 2017-01-02  2017   January                  Beacon Hill\n",
      "\n",
      "[30270 rows x 5 columns]\n",
      "Capitol Hill\n",
      "        listing_id       date  year    month neighbourhood_group_cleansed\n",
      "618018     6214517 2016-01-04  2016  January                 Capitol Hill\n",
      "618019     6214517 2016-01-05  2016  January                 Capitol Hill\n",
      "618020     6214517 2016-01-06  2016  January                 Capitol Hill\n",
      "618021     6214517 2016-01-07  2016  January                 Capitol Hill\n",
      "618022     6214517 2016-01-08  2016  January                 Capitol Hill\n",
      "...            ...        ...   ...      ...                          ...\n",
      "934530     9604740 2016-06-26  2016     June                 Capitol Hill\n",
      "934531     9604740 2016-06-27  2016     June                 Capitol Hill\n",
      "934532     9604740 2016-06-28  2016     June                 Capitol Hill\n",
      "934533     9604740 2016-06-29  2016     June                 Capitol Hill\n",
      "934534     9604740 2016-06-30  2016     June                 Capitol Hill\n",
      "\n",
      "[132668 rows x 5 columns]\n",
      "Cascade\n",
      "        listing_id       date  year    month neighbourhood_group_cleansed\n",
      "135448      830948 2016-01-04  2016  January                      Cascade\n",
      "135449      830948 2016-01-05  2016  January                      Cascade\n",
      "135450      830948 2016-01-06  2016  January                      Cascade\n",
      "135451      830948 2016-01-07  2016  January                      Cascade\n",
      "135452      830948 2016-01-08  2016  January                      Cascade\n",
      "...            ...        ...   ...      ...                          ...\n",
      "284694     9151865 2016-03-05  2016    March                      Cascade\n",
      "284695     9151865 2016-03-06  2016    March                      Cascade\n",
      "284696     9151865 2016-03-07  2016    March                      Cascade\n",
      "284697     9151865 2016-03-08  2016    March                      Cascade\n",
      "284698     9151865 2016-03-09  2016    March                      Cascade\n",
      "\n",
      "[18717 rows x 5 columns]\n",
      "Central Area\n",
      "        listing_id       date  year     month neighbourhood_group_cleansed\n",
      "139240    10035644 2016-01-04  2016   January                 Central Area\n",
      "139241    10035644 2016-04-01  2016     April                 Central Area\n",
      "139242    10035644 2016-04-02  2016     April                 Central Area\n",
      "139243    10035644 2016-04-03  2016     April                 Central Area\n",
      "139244    10035644 2016-04-04  2016     April                 Central Area\n",
      "...            ...        ...   ...       ...                          ...\n",
      "262939     1246809 2016-12-29  2016  December                 Central Area\n",
      "262940     1246809 2016-12-30  2016  December                 Central Area\n",
      "262941     1246809 2016-12-31  2016  December                 Central Area\n",
      "262942     1246809 2017-01-01  2017   January                 Central Area\n",
      "262943     1246809 2017-01-02  2017   January                 Central Area\n",
      "\n",
      "[90556 rows x 5 columns]\n",
      "Delridge\n",
      "        listing_id       date  year     month neighbourhood_group_cleansed\n",
      "530218     3279728 2016-02-07  2016  February                     Delridge\n",
      "530219     3279728 2016-02-08  2016  February                     Delridge\n",
      "530220     3279728 2016-02-09  2016  February                     Delridge\n",
      "530221     3279728 2016-02-10  2016  February                     Delridge\n",
      "530222     3279728 2016-02-11  2016  February                     Delridge\n",
      "...            ...        ...   ...       ...                          ...\n",
      "855606     2508065 2016-12-29  2016  December                     Delridge\n",
      "855607     2508065 2016-12-30  2016  December                     Delridge\n",
      "855608     2508065 2016-12-31  2016  December                     Delridge\n",
      "855609     2508065 2017-01-01  2017   January                     Delridge\n",
      "855610     2508065 2017-01-02  2017   January                     Delridge\n",
      "\n",
      "[21545 rows x 5 columns]\n",
      "Downtown\n",
      "        listing_id       date  year     month neighbourhood_group_cleansed\n",
      "262944    10273158 2016-01-13  2016   January                     Downtown\n",
      "262945    10273158 2016-01-14  2016   January                     Downtown\n",
      "262946    10273158 2016-01-15  2016   January                     Downtown\n",
      "262947    10273158 2016-01-16  2016   January                     Downtown\n",
      "262948    10273158 2016-01-17  2016   January                     Downtown\n",
      "...            ...        ...   ...       ...                          ...\n",
      "415771     4574039 2016-12-29  2016  December                     Downtown\n",
      "415772     4574039 2016-12-30  2016  December                     Downtown\n",
      "415773     4574039 2016-12-31  2016  December                     Downtown\n",
      "415774     4574039 2017-01-01  2017   January                     Downtown\n",
      "415775     4574039 2017-01-02  2017   January                     Downtown\n",
      "\n",
      "[125725 rows x 5 columns]\n",
      "Interbay\n",
      "        listing_id       date  year    month neighbourhood_group_cleansed\n",
      "468225     6958603 2016-01-06  2016  January                     Interbay\n",
      "468226     6958603 2016-01-15  2016  January                     Interbay\n",
      "468227     6958603 2016-01-16  2016  January                     Interbay\n",
      "468228     6958603 2016-01-17  2016  January                     Interbay\n",
      "468229     6958603 2016-01-18  2016  January                     Interbay\n",
      "...            ...        ...   ...      ...                          ...\n",
      "471614     9490093 2016-03-28  2016    March                     Interbay\n",
      "471615     9490093 2016-03-29  2016    March                     Interbay\n",
      "471616     9490093 2016-03-30  2016    March                     Interbay\n",
      "471617     9490093 2016-03-31  2016    March                     Interbay\n",
      "471618     9490093 2016-04-01  2016    April                     Interbay\n",
      "\n",
      "[3394 rows x 5 columns]\n",
      "Lake City\n",
      "        listing_id       date  year     month neighbourhood_group_cleansed\n",
      "737401     9693971 2016-01-04  2016   January                    Lake City\n",
      "737402     9693971 2016-01-05  2016   January                    Lake City\n",
      "737403     9693971 2016-01-06  2016   January                    Lake City\n",
      "737404     9693971 2016-01-07  2016   January                    Lake City\n",
      "737405     9693971 2016-01-08  2016   January                    Lake City\n",
      "...            ...        ...   ...       ...                          ...\n",
      "796238      475361 2016-12-29  2016  December                    Lake City\n",
      "796239      475361 2016-12-30  2016  December                    Lake City\n",
      "796240      475361 2016-12-31  2016  December                    Lake City\n",
      "796241      475361 2017-01-01  2017   January                    Lake City\n",
      "796242      475361 2017-01-02  2017   January                    Lake City\n",
      "\n",
      "[18801 rows x 5 columns]\n",
      "Magnolia\n",
      "        listing_id       date  year     month neighbourhood_group_cleansed\n",
      "284699     7204672 2016-08-04  2016    August                     Magnolia\n",
      "284700     7204672 2016-08-05  2016    August                     Magnolia\n",
      "284701     7204672 2016-08-06  2016    August                     Magnolia\n",
      "284702     7204672 2016-08-07  2016    August                     Magnolia\n",
      "284703     7204672 2016-08-08  2016    August                     Magnolia\n",
      "...            ...        ...   ...       ...                          ...\n",
      "841277     7227464 2016-12-31  2016  December                     Magnolia\n",
      "841278     7227464 2017-01-01  2017   January                     Magnolia\n",
      "841279     7227464 2017-01-02  2017   January                     Magnolia\n",
      "841280     2958318 2017-01-01  2017   January                     Magnolia\n",
      "841281     2958318 2017-01-02  2017   January                     Magnolia\n",
      "\n",
      "[17248 rows x 5 columns]\n",
      "Northgate\n",
      "        listing_id       date  year     month neighbourhood_group_cleansed\n",
      "589072     3124383 2016-02-05  2016  February                    Northgate\n",
      "589073     3124383 2016-02-06  2016  February                    Northgate\n",
      "589074     3124383 2016-02-07  2016  February                    Northgate\n",
      "589075     3124383 2016-02-08  2016  February                    Northgate\n",
      "589076     3124383 2016-02-09  2016  February                    Northgate\n",
      "...            ...        ...   ...       ...                          ...\n",
      "813845     7441508 2016-12-29  2016  December                    Northgate\n",
      "813846     7441508 2016-12-30  2016  December                    Northgate\n",
      "813847     7441508 2016-12-31  2016  December                    Northgate\n",
      "813848     7441508 2017-01-01  2017   January                    Northgate\n",
      "813849     7441508 2017-01-02  2017   January                    Northgate\n",
      "\n",
      "[21105 rows x 5 columns]\n",
      "Other neighborhoods\n",
      "        listing_id       date  year     month neighbourhood_group_cleansed\n",
      "65721       314180 2016-02-01  2016  February          Other neighborhoods\n",
      "65722       314180 2016-02-02  2016  February          Other neighborhoods\n",
      "65723       314180 2016-02-03  2016  February          Other neighborhoods\n",
      "65724       314180 2016-02-04  2016  February          Other neighborhoods\n",
      "65725       314180 2016-02-05  2016  February          Other neighborhoods\n",
      "...            ...        ...   ...       ...                          ...\n",
      "933990     8101950 2016-02-25  2016  February          Other neighborhoods\n",
      "933991     8101950 2016-02-26  2016  February          Other neighborhoods\n",
      "933992     8101950 2016-02-27  2016  February          Other neighborhoods\n",
      "933993     8101950 2016-02-28  2016  February          Other neighborhoods\n",
      "933994     8101950 2016-02-29  2016  February          Other neighborhoods\n",
      "\n",
      "[194661 rows x 5 columns]\n",
      "Queen Anne\n",
      "        listing_id       date  year    month neighbourhood_group_cleansed\n",
      "0           241032 2016-01-04  2016  January                   Queen Anne\n",
      "1           241032 2016-01-05  2016  January                   Queen Anne\n",
      "2           241032 2016-01-13  2016  January                   Queen Anne\n",
      "3           241032 2016-01-14  2016  January                   Queen Anne\n",
      "4           241032 2016-01-18  2016  January                   Queen Anne\n",
      "...            ...        ...   ...      ...                          ...\n",
      "934537    10208623 2016-01-06  2016  January                   Queen Anne\n",
      "934538    10208623 2016-01-07  2016  January                   Queen Anne\n",
      "934539    10208623 2016-01-10  2016  January                   Queen Anne\n",
      "934540    10208623 2016-01-11  2016  January                   Queen Anne\n",
      "934541    10208623 2016-01-12  2016  January                   Queen Anne\n",
      "\n",
      "[66804 rows x 5 columns]\n",
      "Rainier Valley\n",
      "        listing_id       date  year  month neighbourhood_group_cleansed\n",
      "525343     9110410 2016-04-01  2016  April               Rainier Valley\n",
      "525344     9110410 2016-04-02  2016  April               Rainier Valley\n",
      "525345     9110410 2016-04-03  2016  April               Rainier Valley\n",
      "525346     9110410 2016-04-04  2016  April               Rainier Valley\n",
      "525347     9110410 2016-04-05  2016  April               Rainier Valley\n",
      "...            ...        ...   ...    ...                          ...\n",
      "934351    10267360 2016-03-28  2016  March               Rainier Valley\n",
      "934352    10267360 2016-03-29  2016  March               Rainier Valley\n",
      "934353    10267360 2016-03-30  2016  March               Rainier Valley\n",
      "934354    10267360 2016-03-31  2016  March               Rainier Valley\n",
      "934355    10267360 2016-04-01  2016  April               Rainier Valley\n",
      "\n",
      "[38914 rows x 5 columns]\n",
      "Seward Park\n",
      "        listing_id       date  year     month neighbourhood_group_cleansed\n",
      "570356     3904056 2016-01-04  2016   January                  Seward Park\n",
      "570357     3904056 2016-01-05  2016   January                  Seward Park\n",
      "570358     3904056 2016-01-06  2016   January                  Seward Park\n",
      "570359     3904056 2016-01-07  2016   January                  Seward Park\n",
      "570360     3904056 2016-01-08  2016   January                  Seward Park\n",
      "...            ...        ...   ...       ...                          ...\n",
      "581272     1827586 2016-12-29  2016  December                  Seward Park\n",
      "581273     1827586 2016-12-30  2016  December                  Seward Park\n",
      "581274     1827586 2016-12-31  2016  December                  Seward Park\n",
      "581275     1827586 2017-01-01  2017   January                  Seward Park\n",
      "581276     1827586 2017-01-02  2017   January                  Seward Park\n",
      "\n",
      "[10921 rows x 5 columns]\n",
      "University District\n",
      "        listing_id       date  year     month neighbourhood_group_cleansed\n",
      "166408      977722 2016-02-02  2016  February          University District\n",
      "166409      977722 2016-02-03  2016  February          University District\n",
      "166410      977722 2016-02-04  2016  February          University District\n",
      "166411      977722 2016-02-05  2016  February          University District\n",
      "166412      977722 2016-02-06  2016  February          University District\n",
      "...            ...        ...   ...       ...                          ...\n",
      "199551     7809718 2016-12-29  2016  December          University District\n",
      "199552     7809718 2016-12-30  2016  December          University District\n",
      "199553     7809718 2016-12-31  2016  December          University District\n",
      "199554     7809718 2017-01-01  2017   January          University District\n",
      "199555     7809718 2017-01-02  2017   January          University District\n",
      "\n",
      "[33148 rows x 5 columns]\n",
      "West Seattle\n",
      "        listing_id       date  year     month neighbourhood_group_cleansed\n",
      "415776     4105164 2016-01-04  2016   January                 West Seattle\n",
      "415777     4105164 2016-01-05  2016   January                 West Seattle\n",
      "415778     4105164 2016-01-09  2016   January                 West Seattle\n",
      "415779     4105164 2016-01-10  2016   January                 West Seattle\n",
      "415780     4105164 2016-01-11  2016   January                 West Seattle\n",
      "...            ...        ...   ...       ...                          ...\n",
      "848390      146301 2016-12-28  2016  December                 West Seattle\n",
      "848391      146301 2016-12-29  2016  December                 West Seattle\n",
      "848392      146301 2016-12-30  2016  December                 West Seattle\n",
      "848393      146301 2016-12-31  2016  December                 West Seattle\n",
      "848394      146301 2017-01-01  2017   January                 West Seattle\n",
      "\n",
      "[51950 rows x 5 columns]\n"
     ]
    }
   ],
   "source": [
    "# Note to self -> It looks like you figured out the # of listings per month\n",
    "locations_month_loop = locations_month.groupby('neighbourhood_group_cleansed')\n",
    "#neighbourhood_group['neighbourhood_cleansed'].agg(np.size)\n",
    "\n",
    "for neighbourhood, group in locations_month_loop:\n",
    "    print(neighbourhood)\n",
    "    print(group)"
   ]
  },
  {
   "cell_type": "code",
   "execution_count": 43,
   "metadata": {},
   "outputs": [
    {
     "data": {
      "text/html": [
       "<div>\n",
       "<style scoped>\n",
       "    .dataframe tbody tr th:only-of-type {\n",
       "        vertical-align: middle;\n",
       "    }\n",
       "\n",
       "    .dataframe tbody tr th {\n",
       "        vertical-align: top;\n",
       "    }\n",
       "\n",
       "    .dataframe thead th {\n",
       "        text-align: right;\n",
       "    }\n",
       "</style>\n",
       "<table border=\"1\" class=\"dataframe\">\n",
       "  <thead>\n",
       "    <tr style=\"text-align: right;\">\n",
       "      <th>month</th>\n",
       "      <th>April</th>\n",
       "      <th>August</th>\n",
       "      <th>December</th>\n",
       "      <th>February</th>\n",
       "      <th>January</th>\n",
       "      <th>July</th>\n",
       "      <th>June</th>\n",
       "      <th>March</th>\n",
       "      <th>May</th>\n",
       "      <th>November</th>\n",
       "      <th>October</th>\n",
       "      <th>September</th>\n",
       "    </tr>\n",
       "    <tr>\n",
       "      <th>neighbourhood_group_cleansed</th>\n",
       "      <th></th>\n",
       "      <th></th>\n",
       "      <th></th>\n",
       "      <th></th>\n",
       "      <th></th>\n",
       "      <th></th>\n",
       "      <th></th>\n",
       "      <th></th>\n",
       "      <th></th>\n",
       "      <th></th>\n",
       "      <th></th>\n",
       "      <th></th>\n",
       "    </tr>\n",
       "  </thead>\n",
       "  <tbody>\n",
       "    <tr>\n",
       "      <td>Ballard</td>\n",
       "      <td>4613</td>\n",
       "      <td>4991</td>\n",
       "      <td>5555</td>\n",
       "      <td>4093</td>\n",
       "      <td>3678</td>\n",
       "      <td>4750</td>\n",
       "      <td>5047</td>\n",
       "      <td>4869</td>\n",
       "      <td>5005</td>\n",
       "      <td>5252</td>\n",
       "      <td>5284</td>\n",
       "      <td>4978</td>\n",
       "    </tr>\n",
       "    <tr>\n",
       "      <td>Beacon Hill</td>\n",
       "      <td>2551</td>\n",
       "      <td>2548</td>\n",
       "      <td>2716</td>\n",
       "      <td>2371</td>\n",
       "      <td>2110</td>\n",
       "      <td>2378</td>\n",
       "      <td>2562</td>\n",
       "      <td>2740</td>\n",
       "      <td>2696</td>\n",
       "      <td>2535</td>\n",
       "      <td>2582</td>\n",
       "      <td>2481</td>\n",
       "    </tr>\n",
       "    <tr>\n",
       "      <td>Capitol Hill</td>\n",
       "      <td>10439</td>\n",
       "      <td>10806</td>\n",
       "      <td>12727</td>\n",
       "      <td>10348</td>\n",
       "      <td>9265</td>\n",
       "      <td>10575</td>\n",
       "      <td>10905</td>\n",
       "      <td>11634</td>\n",
       "      <td>11018</td>\n",
       "      <td>11872</td>\n",
       "      <td>11966</td>\n",
       "      <td>11113</td>\n",
       "    </tr>\n",
       "    <tr>\n",
       "      <td>Cascade</td>\n",
       "      <td>1534</td>\n",
       "      <td>1413</td>\n",
       "      <td>1878</td>\n",
       "      <td>1438</td>\n",
       "      <td>1222</td>\n",
       "      <td>1358</td>\n",
       "      <td>1501</td>\n",
       "      <td>1754</td>\n",
       "      <td>1636</td>\n",
       "      <td>1721</td>\n",
       "      <td>1702</td>\n",
       "      <td>1560</td>\n",
       "    </tr>\n",
       "    <tr>\n",
       "      <td>Central Area</td>\n",
       "      <td>7100</td>\n",
       "      <td>7580</td>\n",
       "      <td>8680</td>\n",
       "      <td>7014</td>\n",
       "      <td>5892</td>\n",
       "      <td>7392</td>\n",
       "      <td>7550</td>\n",
       "      <td>7899</td>\n",
       "      <td>7608</td>\n",
       "      <td>8094</td>\n",
       "      <td>8090</td>\n",
       "      <td>7657</td>\n",
       "    </tr>\n",
       "    <tr>\n",
       "      <td>Delridge</td>\n",
       "      <td>1799</td>\n",
       "      <td>1748</td>\n",
       "      <td>1956</td>\n",
       "      <td>1724</td>\n",
       "      <td>1450</td>\n",
       "      <td>1750</td>\n",
       "      <td>1830</td>\n",
       "      <td>1888</td>\n",
       "      <td>1872</td>\n",
       "      <td>1856</td>\n",
       "      <td>1883</td>\n",
       "      <td>1789</td>\n",
       "    </tr>\n",
       "    <tr>\n",
       "      <td>Downtown</td>\n",
       "      <td>11014</td>\n",
       "      <td>9757</td>\n",
       "      <td>10979</td>\n",
       "      <td>10869</td>\n",
       "      <td>9507</td>\n",
       "      <td>9532</td>\n",
       "      <td>10254</td>\n",
       "      <td>12297</td>\n",
       "      <td>11203</td>\n",
       "      <td>10244</td>\n",
       "      <td>10369</td>\n",
       "      <td>9700</td>\n",
       "    </tr>\n",
       "    <tr>\n",
       "      <td>Interbay</td>\n",
       "      <td>271</td>\n",
       "      <td>275</td>\n",
       "      <td>310</td>\n",
       "      <td>286</td>\n",
       "      <td>275</td>\n",
       "      <td>276</td>\n",
       "      <td>270</td>\n",
       "      <td>310</td>\n",
       "      <td>277</td>\n",
       "      <td>295</td>\n",
       "      <td>279</td>\n",
       "      <td>270</td>\n",
       "    </tr>\n",
       "    <tr>\n",
       "      <td>Lake City</td>\n",
       "      <td>1582</td>\n",
       "      <td>1495</td>\n",
       "      <td>1705</td>\n",
       "      <td>1416</td>\n",
       "      <td>1361</td>\n",
       "      <td>1444</td>\n",
       "      <td>1584</td>\n",
       "      <td>1665</td>\n",
       "      <td>1651</td>\n",
       "      <td>1650</td>\n",
       "      <td>1703</td>\n",
       "      <td>1545</td>\n",
       "    </tr>\n",
       "    <tr>\n",
       "      <td>Magnolia</td>\n",
       "      <td>1366</td>\n",
       "      <td>1409</td>\n",
       "      <td>1528</td>\n",
       "      <td>1438</td>\n",
       "      <td>1362</td>\n",
       "      <td>1419</td>\n",
       "      <td>1360</td>\n",
       "      <td>1529</td>\n",
       "      <td>1446</td>\n",
       "      <td>1465</td>\n",
       "      <td>1506</td>\n",
       "      <td>1420</td>\n",
       "    </tr>\n",
       "    <tr>\n",
       "      <td>Northgate</td>\n",
       "      <td>1777</td>\n",
       "      <td>1762</td>\n",
       "      <td>1864</td>\n",
       "      <td>1557</td>\n",
       "      <td>1308</td>\n",
       "      <td>1751</td>\n",
       "      <td>1827</td>\n",
       "      <td>1930</td>\n",
       "      <td>1936</td>\n",
       "      <td>1804</td>\n",
       "      <td>1843</td>\n",
       "      <td>1746</td>\n",
       "    </tr>\n",
       "    <tr>\n",
       "      <td>Other neighborhoods</td>\n",
       "      <td>15811</td>\n",
       "      <td>16212</td>\n",
       "      <td>18152</td>\n",
       "      <td>14622</td>\n",
       "      <td>13262</td>\n",
       "      <td>15659</td>\n",
       "      <td>16145</td>\n",
       "      <td>17047</td>\n",
       "      <td>16814</td>\n",
       "      <td>17154</td>\n",
       "      <td>17374</td>\n",
       "      <td>16409</td>\n",
       "    </tr>\n",
       "    <tr>\n",
       "      <td>Queen Anne</td>\n",
       "      <td>5144</td>\n",
       "      <td>5382</td>\n",
       "      <td>6896</td>\n",
       "      <td>5152</td>\n",
       "      <td>4498</td>\n",
       "      <td>5106</td>\n",
       "      <td>5130</td>\n",
       "      <td>5783</td>\n",
       "      <td>5341</td>\n",
       "      <td>6459</td>\n",
       "      <td>6271</td>\n",
       "      <td>5642</td>\n",
       "    </tr>\n",
       "    <tr>\n",
       "      <td>Rainier Valley</td>\n",
       "      <td>3218</td>\n",
       "      <td>3100</td>\n",
       "      <td>3607</td>\n",
       "      <td>3185</td>\n",
       "      <td>2721</td>\n",
       "      <td>3064</td>\n",
       "      <td>3207</td>\n",
       "      <td>3754</td>\n",
       "      <td>3266</td>\n",
       "      <td>3333</td>\n",
       "      <td>3346</td>\n",
       "      <td>3113</td>\n",
       "    </tr>\n",
       "    <tr>\n",
       "      <td>Seward Park</td>\n",
       "      <td>906</td>\n",
       "      <td>828</td>\n",
       "      <td>945</td>\n",
       "      <td>978</td>\n",
       "      <td>849</td>\n",
       "      <td>819</td>\n",
       "      <td>876</td>\n",
       "      <td>1138</td>\n",
       "      <td>940</td>\n",
       "      <td>900</td>\n",
       "      <td>926</td>\n",
       "      <td>816</td>\n",
       "    </tr>\n",
       "    <tr>\n",
       "      <td>University District</td>\n",
       "      <td>2636</td>\n",
       "      <td>2794</td>\n",
       "      <td>2867</td>\n",
       "      <td>2719</td>\n",
       "      <td>2544</td>\n",
       "      <td>2741</td>\n",
       "      <td>2784</td>\n",
       "      <td>2989</td>\n",
       "      <td>2818</td>\n",
       "      <td>2726</td>\n",
       "      <td>2817</td>\n",
       "      <td>2713</td>\n",
       "    </tr>\n",
       "    <tr>\n",
       "      <td>West Seattle</td>\n",
       "      <td>4276</td>\n",
       "      <td>4247</td>\n",
       "      <td>4696</td>\n",
       "      <td>4111</td>\n",
       "      <td>3633</td>\n",
       "      <td>4208</td>\n",
       "      <td>4412</td>\n",
       "      <td>4712</td>\n",
       "      <td>4444</td>\n",
       "      <td>4420</td>\n",
       "      <td>4497</td>\n",
       "      <td>4294</td>\n",
       "    </tr>\n",
       "  </tbody>\n",
       "</table>\n",
       "</div>"
      ],
      "text/plain": [
       "month                         April  August  December  February  January  \\\n",
       "neighbourhood_group_cleansed                                               \n",
       "Ballard                        4613    4991      5555      4093     3678   \n",
       "Beacon Hill                    2551    2548      2716      2371     2110   \n",
       "Capitol Hill                  10439   10806     12727     10348     9265   \n",
       "Cascade                        1534    1413      1878      1438     1222   \n",
       "Central Area                   7100    7580      8680      7014     5892   \n",
       "Delridge                       1799    1748      1956      1724     1450   \n",
       "Downtown                      11014    9757     10979     10869     9507   \n",
       "Interbay                        271     275       310       286      275   \n",
       "Lake City                      1582    1495      1705      1416     1361   \n",
       "Magnolia                       1366    1409      1528      1438     1362   \n",
       "Northgate                      1777    1762      1864      1557     1308   \n",
       "Other neighborhoods           15811   16212     18152     14622    13262   \n",
       "Queen Anne                     5144    5382      6896      5152     4498   \n",
       "Rainier Valley                 3218    3100      3607      3185     2721   \n",
       "Seward Park                     906     828       945       978      849   \n",
       "University District            2636    2794      2867      2719     2544   \n",
       "West Seattle                   4276    4247      4696      4111     3633   \n",
       "\n",
       "month                          July   June  March    May  November  October  \\\n",
       "neighbourhood_group_cleansed                                                  \n",
       "Ballard                        4750   5047   4869   5005      5252     5284   \n",
       "Beacon Hill                    2378   2562   2740   2696      2535     2582   \n",
       "Capitol Hill                  10575  10905  11634  11018     11872    11966   \n",
       "Cascade                        1358   1501   1754   1636      1721     1702   \n",
       "Central Area                   7392   7550   7899   7608      8094     8090   \n",
       "Delridge                       1750   1830   1888   1872      1856     1883   \n",
       "Downtown                       9532  10254  12297  11203     10244    10369   \n",
       "Interbay                        276    270    310    277       295      279   \n",
       "Lake City                      1444   1584   1665   1651      1650     1703   \n",
       "Magnolia                       1419   1360   1529   1446      1465     1506   \n",
       "Northgate                      1751   1827   1930   1936      1804     1843   \n",
       "Other neighborhoods           15659  16145  17047  16814     17154    17374   \n",
       "Queen Anne                     5106   5130   5783   5341      6459     6271   \n",
       "Rainier Valley                 3064   3207   3754   3266      3333     3346   \n",
       "Seward Park                     819    876   1138    940       900      926   \n",
       "University District            2741   2784   2989   2818      2726     2817   \n",
       "West Seattle                   4208   4412   4712   4444      4420     4497   \n",
       "\n",
       "month                         September  \n",
       "neighbourhood_group_cleansed             \n",
       "Ballard                            4978  \n",
       "Beacon Hill                        2481  \n",
       "Capitol Hill                      11113  \n",
       "Cascade                            1560  \n",
       "Central Area                       7657  \n",
       "Delridge                           1789  \n",
       "Downtown                           9700  \n",
       "Interbay                            270  \n",
       "Lake City                          1545  \n",
       "Magnolia                           1420  \n",
       "Northgate                          1746  \n",
       "Other neighborhoods               16409  \n",
       "Queen Anne                         5642  \n",
       "Rainier Valley                     3113  \n",
       "Seward Park                         816  \n",
       "University District                2713  \n",
       "West Seattle                       4294  "
      ]
     },
     "execution_count": 43,
     "metadata": {},
     "output_type": "execute_result"
    }
   ],
   "source": [
    "# Trying another GroupBy technique with value_counts\n",
    "# Source: https://towardsdatascience.com/pandas-tips-and-tricks-33bcc8a40bb9\n",
    "locations_month.groupby('neighbourhood_group_cleansed')['month'].value_counts()\n",
    "\n",
    "# Apply \"Unstack\" to switch the rows to columns to get the activity counts as features.\n",
    "pivot_style = locations_month.groupby('neighbourhood_group_cleansed')['month'].value_counts().unstack().fillna(0)\n",
    "pivot_style"
   ]
  },
  {
   "cell_type": "code",
   "execution_count": 90,
   "metadata": {},
   "outputs": [
    {
     "data": {
      "text/html": [
       "<div>\n",
       "<style scoped>\n",
       "    .dataframe tbody tr th:only-of-type {\n",
       "        vertical-align: middle;\n",
       "    }\n",
       "\n",
       "    .dataframe tbody tr th {\n",
       "        vertical-align: top;\n",
       "    }\n",
       "\n",
       "    .dataframe thead th {\n",
       "        text-align: right;\n",
       "    }\n",
       "</style>\n",
       "<table border=\"1\" class=\"dataframe\">\n",
       "  <thead>\n",
       "    <tr style=\"text-align: right;\">\n",
       "      <th>month</th>\n",
       "      <th>April</th>\n",
       "      <th>August</th>\n",
       "      <th>December</th>\n",
       "      <th>February</th>\n",
       "      <th>January</th>\n",
       "      <th>July</th>\n",
       "      <th>June</th>\n",
       "      <th>March</th>\n",
       "      <th>May</th>\n",
       "      <th>November</th>\n",
       "      <th>October</th>\n",
       "      <th>September</th>\n",
       "    </tr>\n",
       "  </thead>\n",
       "  <tbody>\n",
       "    <tr>\n",
       "      <td>count</td>\n",
       "      <td>17.000000</td>\n",
       "      <td>17.000000</td>\n",
       "      <td>17.000000</td>\n",
       "      <td>17.000000</td>\n",
       "      <td>17.000000</td>\n",
       "      <td>17.000000</td>\n",
       "      <td>17.000000</td>\n",
       "      <td>17.000000</td>\n",
       "      <td>17.000000</td>\n",
       "      <td>17.000000</td>\n",
       "      <td>17.000000</td>\n",
       "      <td>17.000000</td>\n",
       "    </tr>\n",
       "    <tr>\n",
       "      <td>mean</td>\n",
       "      <td>4472.764706</td>\n",
       "      <td>4491.000000</td>\n",
       "      <td>5121.235294</td>\n",
       "      <td>4313.000000</td>\n",
       "      <td>3819.823529</td>\n",
       "      <td>4366.000000</td>\n",
       "      <td>4543.764706</td>\n",
       "      <td>4937.529412</td>\n",
       "      <td>4704.176471</td>\n",
       "      <td>4810.588235</td>\n",
       "      <td>4849.294118</td>\n",
       "      <td>4543.882353</td>\n",
       "    </tr>\n",
       "    <tr>\n",
       "      <td>std</td>\n",
       "      <td>4289.737558</td>\n",
       "      <td>4318.127763</td>\n",
       "      <td>4922.035333</td>\n",
       "      <td>4092.006094</td>\n",
       "      <td>3656.059991</td>\n",
       "      <td>4184.776741</td>\n",
       "      <td>4335.474809</td>\n",
       "      <td>4689.541770</td>\n",
       "      <td>4515.292463</td>\n",
       "      <td>4619.781408</td>\n",
       "      <td>4659.995464</td>\n",
       "      <td>4377.209183</td>\n",
       "    </tr>\n",
       "    <tr>\n",
       "      <td>min</td>\n",
       "      <td>271.000000</td>\n",
       "      <td>275.000000</td>\n",
       "      <td>310.000000</td>\n",
       "      <td>286.000000</td>\n",
       "      <td>275.000000</td>\n",
       "      <td>276.000000</td>\n",
       "      <td>270.000000</td>\n",
       "      <td>310.000000</td>\n",
       "      <td>277.000000</td>\n",
       "      <td>295.000000</td>\n",
       "      <td>279.000000</td>\n",
       "      <td>270.000000</td>\n",
       "    </tr>\n",
       "    <tr>\n",
       "      <td>25%</td>\n",
       "      <td>1582.000000</td>\n",
       "      <td>1495.000000</td>\n",
       "      <td>1864.000000</td>\n",
       "      <td>1438.000000</td>\n",
       "      <td>1361.000000</td>\n",
       "      <td>1444.000000</td>\n",
       "      <td>1584.000000</td>\n",
       "      <td>1754.000000</td>\n",
       "      <td>1651.000000</td>\n",
       "      <td>1721.000000</td>\n",
       "      <td>1703.000000</td>\n",
       "      <td>1560.000000</td>\n",
       "    </tr>\n",
       "    <tr>\n",
       "      <td>50%</td>\n",
       "      <td>2636.000000</td>\n",
       "      <td>2794.000000</td>\n",
       "      <td>2867.000000</td>\n",
       "      <td>2719.000000</td>\n",
       "      <td>2544.000000</td>\n",
       "      <td>2741.000000</td>\n",
       "      <td>2784.000000</td>\n",
       "      <td>2989.000000</td>\n",
       "      <td>2818.000000</td>\n",
       "      <td>2726.000000</td>\n",
       "      <td>2817.000000</td>\n",
       "      <td>2713.000000</td>\n",
       "    </tr>\n",
       "    <tr>\n",
       "      <td>75%</td>\n",
       "      <td>5144.000000</td>\n",
       "      <td>5382.000000</td>\n",
       "      <td>6896.000000</td>\n",
       "      <td>5152.000000</td>\n",
       "      <td>4498.000000</td>\n",
       "      <td>5106.000000</td>\n",
       "      <td>5130.000000</td>\n",
       "      <td>5783.000000</td>\n",
       "      <td>5341.000000</td>\n",
       "      <td>6459.000000</td>\n",
       "      <td>6271.000000</td>\n",
       "      <td>5642.000000</td>\n",
       "    </tr>\n",
       "    <tr>\n",
       "      <td>max</td>\n",
       "      <td>15811.000000</td>\n",
       "      <td>16212.000000</td>\n",
       "      <td>18152.000000</td>\n",
       "      <td>14622.000000</td>\n",
       "      <td>13262.000000</td>\n",
       "      <td>15659.000000</td>\n",
       "      <td>16145.000000</td>\n",
       "      <td>17047.000000</td>\n",
       "      <td>16814.000000</td>\n",
       "      <td>17154.000000</td>\n",
       "      <td>17374.000000</td>\n",
       "      <td>16409.000000</td>\n",
       "    </tr>\n",
       "  </tbody>\n",
       "</table>\n",
       "</div>"
      ],
      "text/plain": [
       "month         April        August      December      February       January  \\\n",
       "count     17.000000     17.000000     17.000000     17.000000     17.000000   \n",
       "mean    4472.764706   4491.000000   5121.235294   4313.000000   3819.823529   \n",
       "std     4289.737558   4318.127763   4922.035333   4092.006094   3656.059991   \n",
       "min      271.000000    275.000000    310.000000    286.000000    275.000000   \n",
       "25%     1582.000000   1495.000000   1864.000000   1438.000000   1361.000000   \n",
       "50%     2636.000000   2794.000000   2867.000000   2719.000000   2544.000000   \n",
       "75%     5144.000000   5382.000000   6896.000000   5152.000000   4498.000000   \n",
       "max    15811.000000  16212.000000  18152.000000  14622.000000  13262.000000   \n",
       "\n",
       "month          July          June         March           May      November  \\\n",
       "count     17.000000     17.000000     17.000000     17.000000     17.000000   \n",
       "mean    4366.000000   4543.764706   4937.529412   4704.176471   4810.588235   \n",
       "std     4184.776741   4335.474809   4689.541770   4515.292463   4619.781408   \n",
       "min      276.000000    270.000000    310.000000    277.000000    295.000000   \n",
       "25%     1444.000000   1584.000000   1754.000000   1651.000000   1721.000000   \n",
       "50%     2741.000000   2784.000000   2989.000000   2818.000000   2726.000000   \n",
       "75%     5106.000000   5130.000000   5783.000000   5341.000000   6459.000000   \n",
       "max    15659.000000  16145.000000  17047.000000  16814.000000  17154.000000   \n",
       "\n",
       "month       October     September  \n",
       "count     17.000000     17.000000  \n",
       "mean    4849.294118   4543.882353  \n",
       "std     4659.995464   4377.209183  \n",
       "min      279.000000    270.000000  \n",
       "25%     1703.000000   1560.000000  \n",
       "50%     2817.000000   2713.000000  \n",
       "75%     6271.000000   5642.000000  \n",
       "max    17374.000000  16409.000000  "
      ]
     },
     "execution_count": 90,
     "metadata": {},
     "output_type": "execute_result"
    }
   ],
   "source": [
    "pivot_style.describe()"
   ]
  },
  {
   "cell_type": "code",
   "execution_count": 44,
   "metadata": {},
   "outputs": [
    {
     "name": "stdout",
     "output_type": "stream",
     "text": [
      "['April' 'August' 'December' 'February' 'January' 'July' 'June' 'March'\n",
      " 'May' 'November' 'October' 'September']\n"
     ]
    }
   ],
   "source": [
    "# type(pivot_style)\n",
    "columnsNamesArr = pivot_style.columns.values\n",
    "print(columnsNamesArr)"
   ]
  },
  {
   "cell_type": "code",
   "execution_count": 45,
   "metadata": {},
   "outputs": [
    {
     "name": "stdout",
     "output_type": "stream",
     "text": [
      "['Ballard' 'Beacon Hill' 'Capitol Hill' 'Cascade' 'Central Area'\n",
      " 'Delridge' 'Downtown' 'Interbay' 'Lake City' 'Magnolia' 'Northgate'\n",
      " 'Other neighborhoods' 'Queen Anne' 'Rainier Valley' 'Seward Park'\n",
      " 'University District' 'West Seattle']\n"
     ]
    }
   ],
   "source": [
    "indexNamesArr = pivot_style.index.values\n",
    "print(indexNamesArr)"
   ]
  },
  {
   "cell_type": "code",
   "execution_count": null,
   "metadata": {},
   "outputs": [],
   "source": []
  }
 ],
 "metadata": {
  "kernelspec": {
   "display_name": "Python 3",
   "language": "python",
   "name": "python3"
  },
  "language_info": {
   "codemirror_mode": {
    "name": "ipython",
    "version": 3
   },
   "file_extension": ".py",
   "mimetype": "text/x-python",
   "name": "python",
   "nbconvert_exporter": "python",
   "pygments_lexer": "ipython3",
   "version": "3.7.4"
  }
 },
 "nbformat": 4,
 "nbformat_minor": 2
}
