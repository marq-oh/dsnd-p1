{
 "cells": [
  {
   "cell_type": "markdown",
   "metadata": {},
   "source": [
    "# Data Analysis for Seattle Airbnb listings pricing considerations \n",
    "\n",
    "The analysis in this notebook follows CRISP-DM, which stands for Cross-industry standard process for data mining. CRISP-DM breaks the process of data mining into six major phases:\n",
    " \n",
    "1. Business Understanding\n",
    "2. Data Understanding\n",
    "3. Data Preparation\n",
    "4. Modeling\n",
    "5. Evaluation\n",
    "6. Deployment\n",
    "\n",
    "\n",
    "## Business Understanding\n",
    "\n",
    "The intent of this analysis is to see how three (3) key factors impact pricing for Airbnb listings and why they should be considered.\n",
    "\n",
    "The three (3) key factors are:\n",
    "1. Location: Which neighbourhoods have the highest average prices and listings?\n",
    "2. Timing: Which months have the highest average prices and highest listings?\n",
    "3. Features: Which features affect price?\n",
    "\n",
    "Additonally, this analysis will attempt to build a model that predicts Airbnb revenue estimates based on the key factors found in this analysis."
   ]
  },
  {
   "cell_type": "markdown",
   "metadata": {},
   "source": [
    "### Imports"
   ]
  },
  {
   "cell_type": "code",
   "execution_count": 64,
   "metadata": {},
   "outputs": [],
   "source": [
    "# Note to self -> Use numpy somewhere\n",
    "import numpy as np\n",
    "import pandas as pd\n",
    "import matplotlib as plt\n",
    "import seaborn as sb\n",
    "from sklearn.feature_extraction.text import CountVectorizer\n",
    "from sklearn.model_selection import train_test_split\n",
    "from sklearn.metrics import r2_score, mean_squared_error, median_absolute_error\n",
    "from sklearn.ensemble import RandomForestRegressor"
   ]
  },
  {
   "cell_type": "markdown",
   "metadata": {},
   "source": [
    "## Data Understanding\n",
    "\n",
    "In this analysis, Seattle Airbnb data from Kaggle was utilized. Three (3) datasets were provided: listings.csv, reviews.csv and calendar.csv\n",
    "\n",
    "For each dataset, the following data exploration was conducted to get a better understanding of the data\n",
    "* Seeing what columns are available in each dataset\n",
    "* Researching what each column meant\n",
    "* Reviewing the unique values in each column\n",
    "* Understanding the data in each row\n",
    "* Identifying relationships between each dataset\n",
    "* Getting an idea of data integrity"
   ]
  },
  {
   "cell_type": "code",
   "execution_count": 2,
   "metadata": {},
   "outputs": [],
   "source": [
    "# Importing data into pandas dataframes\n",
    "listings = pd.read_csv('./listings_sea.csv')\n",
    "calendar = pd.read_csv('./calendar_sea.csv')\n",
    "reviews = pd.read_csv('./reviews_sea.csv')"
   ]
  },
  {
   "cell_type": "code",
   "execution_count": null,
   "metadata": {},
   "outputs": [],
   "source": [
    "# View a snippet of the data\n",
    "reviews.head(3)"
   ]
  },
  {
   "cell_type": "markdown",
   "metadata": {},
   "source": [
    "---"
   ]
  },
  {
   "cell_type": "markdown",
   "metadata": {},
   "source": [
    "## 1) Location: Which neighbourhoods have the highest average prices and number of listings?"
   ]
  },
  {
   "cell_type": "markdown",
   "metadata": {},
   "source": [
    "### Data Preparation\n",
    "For #1, the listings and calendar datasets were merged to create an integrated dataframe."
   ]
  },
  {
   "cell_type": "code",
   "execution_count": null,
   "metadata": {},
   "outputs": [],
   "source": [
    "# Select the columns that are needed\n",
    "listings_location = listings.loc[:,('id',\n",
    "                                    'street', \n",
    "                                    'neighbourhood', \n",
    "                                    'neighbourhood_cleansed', \n",
    "                                    'neighbourhood_group_cleansed', \n",
    "                                    'city', \n",
    "                                    'state', \n",
    "                                    'zipcode', \n",
    "                                    'market', \n",
    "                                    'smart_location', \n",
    "                                    'country_code', \n",
    "                                    'country', \n",
    "                                    'latitude', \n",
    "                                    'longitude', \n",
    "                                    'is_location_exact')]"
   ]
  },
  {
   "cell_type": "code",
   "execution_count": null,
   "metadata": {},
   "outputs": [],
   "source": [
    "# Merge listings and calendar datasets\n",
    "calendar_listings = calendar.merge(listings_location, \n",
    "                                   left_on = 'listing_id', \n",
    "                                   right_on = 'id')"
   ]
  },
  {
   "cell_type": "code",
   "execution_count": null,
   "metadata": {},
   "outputs": [],
   "source": [
    "# View a snippet of the data\n",
    "calendar_listings.head(3)"
   ]
  },
  {
   "cell_type": "code",
   "execution_count": null,
   "metadata": {},
   "outputs": [],
   "source": [
    "# Initial shape\n",
    "calendar_listings.shape"
   ]
  },
  {
   "cell_type": "code",
   "execution_count": null,
   "metadata": {
    "scrolled": true
   },
   "outputs": [],
   "source": [
    "# Check dataframe for null values\n",
    "calendar_listings.isnull().sum()"
   ]
  },
  {
   "cell_type": "markdown",
   "metadata": {},
   "source": [
    "Three columns were identified to have nulls -> price, neighbourhood and zipcode:\n",
    "* Price: The reason for some rows in the calendar dataset to not have prices is because these are listings without availability on those dates. So for this reason, we can delete the rows without a price.\n",
    "* Neighbourhood: There are 2 other columns that can be used to classify according to location. So for this reason, we can delete this column.\n",
    "* Zipcode: There is no plan to use this column to classify according to location. So for this reason, we can delete this column."
   ]
  },
  {
   "cell_type": "code",
   "execution_count": null,
   "metadata": {},
   "outputs": [],
   "source": [
    "# Remove columns not needed\n",
    "calendar_listings_clean = calendar_listings.drop(['neighbourhood', 'zipcode'], axis=1)"
   ]
  },
  {
   "cell_type": "code",
   "execution_count": null,
   "metadata": {},
   "outputs": [],
   "source": [
    "# Remove rows with nulls\n",
    "calendar_listings_clean = calendar_listings.dropna(axis = 0)"
   ]
  },
  {
   "cell_type": "code",
   "execution_count": null,
   "metadata": {},
   "outputs": [],
   "source": [
    "# Revised shape\n",
    "calendar_listings_clean.shape"
   ]
  },
  {
   "cell_type": "code",
   "execution_count": null,
   "metadata": {},
   "outputs": [],
   "source": [
    "# Check dataframe for null values\n",
    "calendar_listings_clean.isnull().sum()"
   ]
  },
  {
   "cell_type": "markdown",
   "metadata": {},
   "source": [
    "With 'cleaner' data, we now have to ensure that we have the right data types for each column. This is required so that the data can be properly processed."
   ]
  },
  {
   "cell_type": "code",
   "execution_count": null,
   "metadata": {},
   "outputs": [],
   "source": [
    "# Check dTypes\n",
    "calendar_listings_clean.dtypes"
   ]
  },
  {
   "cell_type": "markdown",
   "metadata": {},
   "source": [
    "The columns for date and price show to be 'object' data types. We need to convert these appropriately to what they should be. (i.e. Date = DateTime and Price = Float).\n",
    "\n",
    "Additionally, for the Date column, we will split this to Month and Year so that we can categorize better."
   ]
  },
  {
   "cell_type": "code",
   "execution_count": null,
   "metadata": {},
   "outputs": [],
   "source": [
    "# Convert to appropriate dTypes\n",
    "calendar_listings_clean.loc[:,('date')] = pd.to_datetime(calendar_listings_clean.loc[:,('date')])\n",
    "calendar_listings_clean.loc[:,('year')] = pd.DatetimeIndex(calendar_listings_clean.loc[:,('date')]).year\n",
    "calendar_listings_clean.loc[:,('month')] = pd.to_datetime(calendar_listings_clean.loc[:,('date')]).dt.month_name(locale = 'English')"
   ]
  },
  {
   "cell_type": "code",
   "execution_count": null,
   "metadata": {},
   "outputs": [],
   "source": [
    "# Running price through a function to convert it to float type\n",
    "def convert_currency(val):\n",
    "    \"\"\"\n",
    "    Convert the string number value to a float\n",
    "     - Remove $\n",
    "     - Remove commas\n",
    "     - Convert to float type\n",
    "    \"\"\"\n",
    "    new_val = val.replace(',','').replace('$', '')\n",
    "    return float(new_val)"
   ]
  },
  {
   "cell_type": "code",
   "execution_count": null,
   "metadata": {},
   "outputs": [],
   "source": [
    "calendar_listings_clean.loc[:,('price')] = calendar_listings_clean.loc[:,('price')].apply(convert_currency)"
   ]
  },
  {
   "cell_type": "markdown",
   "metadata": {},
   "source": [
    "Checking the data types again after the transformations, we can see that we have converted the price and data columns correct. Also, we now have the year and month columns."
   ]
  },
  {
   "cell_type": "code",
   "execution_count": null,
   "metadata": {},
   "outputs": [],
   "source": [
    "# Check dTypes\n",
    "calendar_listings_clean.dtypes"
   ]
  },
  {
   "cell_type": "markdown",
   "metadata": {},
   "source": [
    "Now that we have removed null values and transformed relevant columns into the appropriate data types, we can start grouping the data appropriately to help our analysis.\n",
    "\n",
    "We will group the data by neighbourhood_group_cleansed and the average price so that we can see which location has the highest average price."
   ]
  },
  {
   "cell_type": "code",
   "execution_count": null,
   "metadata": {},
   "outputs": [],
   "source": [
    "location_price_mean = calendar_listings_clean.groupby(calendar_listings_clean['neighbourhood_group_cleansed'],\n",
    "                                 sort=True)['price'].mean()"
   ]
  },
  {
   "cell_type": "code",
   "execution_count": null,
   "metadata": {},
   "outputs": [],
   "source": [
    "plt.rcParams.update({'font.size': 20})\n",
    "location_price_mean.plot(kind = 'bar', figsize = (30,10))"
   ]
  },
  {
   "cell_type": "code",
   "execution_count": null,
   "metadata": {},
   "outputs": [],
   "source": [
    "calendar_listings_clean['neighbourhood_group_cleansed'].value_counts()"
   ]
  },
  {
   "cell_type": "markdown",
   "metadata": {},
   "source": [
    "## Evaluation for #1\n",
    "Based on the analysis:\n",
    "* The neighbourhood of **Magnolia** has the highest average price\n",
    "* The neighbourhood of **Capitol Hill** has the highest number of listings\n",
    "\n",
    "**This shows that location is a factor when it comes to price and potential bookings.**\n",
    "\n",
    "NOTE: \n",
    "- Add # of bookings, using reviews"
   ]
  },
  {
   "cell_type": "markdown",
   "metadata": {},
   "source": [
    " ---"
   ]
  },
  {
   "cell_type": "markdown",
   "metadata": {},
   "source": [
    "## 2) Timing: Which months have the highest average prices and number of listings?"
   ]
  },
  {
   "cell_type": "markdown",
   "metadata": {},
   "source": [
    "### Data Preparation\n",
    "For #2, we will leverage the data preparation work that was already done for #1. This also helps ensure that data analysis for questions #1 and #2 are consistent.\n",
    "\n",
    "Using the calendar_listings_clean dataframe, we will now group the data by month and plot a line graph to get a visual view."
   ]
  },
  {
   "cell_type": "code",
   "execution_count": null,
   "metadata": {},
   "outputs": [],
   "source": [
    "month_price_mean = calendar_listings_clean.groupby(calendar_listings_clean['month'],\n",
    "                                 sort=False)['price'].mean()\n",
    "month_price_mean"
   ]
  },
  {
   "cell_type": "code",
   "execution_count": null,
   "metadata": {},
   "outputs": [],
   "source": [
    "plt.rcParams.update({'font.size': 10})\n",
    "plt.figure(figsize=(12,6))\n",
    "sb.set_style(\"darkgrid\")\n",
    "sb.set_context(\"talk\")\n",
    "plt_price_month = sb.catplot(x='month', y='price', data=calendar_listings_clean, kind=\"point\", height=6, aspect=2.1)\n",
    "plt_price_month = plt_price_month.set_axis_labels(\"Month\", \"Price ($)\")\n",
    "plt_price_month.set_xticklabels(rotation=90)\n",
    "plt_price_month.ax.set_title(\"Average monthly prices in Seattle\")\n",
    "plt_price_month.savefig(\"plot1.png\")"
   ]
  },
  {
   "cell_type": "markdown",
   "metadata": {},
   "source": [
    "To see the number of listings per month, we create a new dataframe with a subset of the columns. We will then use a combination of GroupBy() and describe() to get the counts."
   ]
  },
  {
   "cell_type": "code",
   "execution_count": null,
   "metadata": {},
   "outputs": [],
   "source": [
    "locations_month = calendar_listings_clean.loc[:,('listing_id',\n",
    "                                    'date', \n",
    "                                    'year', \n",
    "                                    'month', \n",
    "                                    'neighbourhood_group_cleansed')]"
   ]
  },
  {
   "cell_type": "code",
   "execution_count": null,
   "metadata": {},
   "outputs": [],
   "source": [
    "# Using GroupBy technique with value_counts\n",
    "locations_month.groupby('neighbourhood_group_cleansed')['month'].value_counts()\n",
    "\n",
    "# Apply \"Unstack\" to switch the rows to columns to get the activity counts as features.\n",
    "locations_month = locations_month.groupby('neighbourhood_group_cleansed')['month'].value_counts().unstack().fillna(0)"
   ]
  },
  {
   "cell_type": "markdown",
   "metadata": {},
   "source": [
    "Set the order appropriately so the data is easier to view"
   ]
  },
  {
   "cell_type": "code",
   "execution_count": null,
   "metadata": {},
   "outputs": [],
   "source": [
    "# Reorder\n",
    "locations_month_reordered = locations_month[['January', 'February', 'March', 'April',\n",
    "                     'May', 'June', 'July', 'August',\n",
    "                     'September', 'October', 'November', 'December']]\n",
    "locations_month_reordered"
   ]
  },
  {
   "cell_type": "code",
   "execution_count": null,
   "metadata": {},
   "outputs": [],
   "source": [
    "locations_month_reordered.describe()"
   ]
  },
  {
   "cell_type": "markdown",
   "metadata": {},
   "source": [
    "## Evaluation for #2\n",
    "Based on the analysis:\n",
    "* The month of **July** has the highest average price\n",
    "* The month of **December** has the highest number of listings\n",
    "\n",
    "**This shows that timing (month) is a factor when it comes to price and potential bookings.**\n",
    "\n",
    "NOTE: \n",
    "- Add # of bookings, using reviews"
   ]
  },
  {
   "cell_type": "markdown",
   "metadata": {},
   "source": [
    " ---"
   ]
  },
  {
   "cell_type": "markdown",
   "metadata": {},
   "source": [
    "## 3) Features: Which features affect price?"
   ]
  },
  {
   "cell_type": "markdown",
   "metadata": {},
   "source": [
    "### Data Preparation\n",
    "For #3, we will analyze the amenities, property_type and review_scores columns to see if any of these features affect prices. We will do this by creating a new dataframe from the listings and calendar datasets"
   ]
  },
  {
   "cell_type": "code",
   "execution_count": null,
   "metadata": {},
   "outputs": [],
   "source": [
    "# Select the columns that are needed\n",
    "listings_features = listings.loc[:,('id',\n",
    "                                    'review_scores_rating', \n",
    "                                    'review_scores_accuracy', \n",
    "                                    'review_scores_cleanliness', \n",
    "                                    'review_scores_checkin', \n",
    "                                    'review_scores_communication', \n",
    "                                    'review_scores_location', \n",
    "                                    'review_scores_value', \n",
    "                                    'reviews_per_month', \n",
    "                                    'number_of_reviews',\n",
    "                                    'amenities',\n",
    "                                    'property_type')]"
   ]
  },
  {
   "cell_type": "code",
   "execution_count": null,
   "metadata": {},
   "outputs": [],
   "source": [
    "# Merge listings and calendar datasets\n",
    "calendar_listings_features = calendar.merge(listings_features, \n",
    "                                   left_on = 'listing_id', \n",
    "                                   right_on = 'id')"
   ]
  },
  {
   "cell_type": "code",
   "execution_count": null,
   "metadata": {},
   "outputs": [],
   "source": [
    "calendar_listings_features.head(3)"
   ]
  },
  {
   "cell_type": "code",
   "execution_count": null,
   "metadata": {},
   "outputs": [],
   "source": [
    "# Initial shape\n",
    "calendar_listings_features.shape"
   ]
  },
  {
   "cell_type": "code",
   "execution_count": null,
   "metadata": {},
   "outputs": [],
   "source": [
    "# Check dataframe for null values\n",
    "calendar_listings_features.isnull().sum()"
   ]
  },
  {
   "cell_type": "markdown",
   "metadata": {},
   "source": [
    "Eleven columns were identified to have nulls -> price, all the review columns (x8), property_type and host_is_superhost.\n",
    "\n",
    "* Price: The reason for some rows in the calendar dataset to not have prices is because these are listings without availability on those dates. So for this reason, we can delete the rows without a price.\n",
    "* All review columns: For the nulls, we will impute '0'. The assumption is that these listings don't have reviews yet so they don't have a score yet.\n",
    "* property_type: For the nulls, we will impute 'Other'. This seems like the most logical classification since the nulls are unknown."
   ]
  },
  {
   "cell_type": "code",
   "execution_count": null,
   "metadata": {},
   "outputs": [],
   "source": [
    "# Impute 'Other' for property type\n",
    "calendar_listings_features.at[calendar_listings_features['property_type'].isnull(), 'property_type'] = 'Other'"
   ]
  },
  {
   "cell_type": "code",
   "execution_count": null,
   "metadata": {},
   "outputs": [],
   "source": [
    "# Impute '0' for reviews and superhost\n",
    "calendar_listings_features.at[calendar_listings_features['review_scores_rating'].isnull(), 'review_scores_rating'] = 0\n",
    "calendar_listings_features.at[calendar_listings_features['review_scores_accuracy'].isnull(), 'review_scores_accuracy'] = 0\n",
    "calendar_listings_features.at[calendar_listings_features['review_scores_cleanliness'].isnull(), 'review_scores_cleanliness'] = 0\n",
    "calendar_listings_features.at[calendar_listings_features['review_scores_checkin'].isnull(), 'review_scores_checkin'] = 0\n",
    "calendar_listings_features.at[calendar_listings_features['review_scores_communication'].isnull(), 'review_scores_communication'] = 0\n",
    "calendar_listings_features.at[calendar_listings_features['review_scores_location'].isnull(), 'review_scores_location'] = 0\n",
    "calendar_listings_features.at[calendar_listings_features['review_scores_value'].isnull(), 'review_scores_value'] = 0\n",
    "calendar_listings_features.at[calendar_listings_features['reviews_per_month'].isnull(), 'reviews_per_month'] = 0"
   ]
  },
  {
   "cell_type": "code",
   "execution_count": null,
   "metadata": {},
   "outputs": [],
   "source": [
    "# Remove rows with nulls\n",
    "calendar_listings_features = calendar_listings_features.dropna(axis = 0)"
   ]
  },
  {
   "cell_type": "code",
   "execution_count": null,
   "metadata": {},
   "outputs": [],
   "source": [
    "# Revised shape\n",
    "calendar_listings_features.shape"
   ]
  },
  {
   "cell_type": "code",
   "execution_count": null,
   "metadata": {},
   "outputs": [],
   "source": [
    "# Check dataframe for null values\n",
    "calendar_listings_features.isnull().sum()"
   ]
  },
  {
   "cell_type": "code",
   "execution_count": null,
   "metadata": {},
   "outputs": [],
   "source": [
    "# Check dTypes\n",
    "calendar_listings_features.dtypes"
   ]
  },
  {
   "cell_type": "code",
   "execution_count": null,
   "metadata": {},
   "outputs": [],
   "source": [
    "# Running price through a function to convert it to float type\n",
    "def convert_currency(val):\n",
    "    \"\"\"\n",
    "    Convert the string number value to a float\n",
    "     - Remove $\n",
    "     - Remove commas\n",
    "     - Convert to float type\n",
    "    \"\"\"\n",
    "    new_val = val.replace(',','').replace('$', '')\n",
    "    return float(new_val)"
   ]
  },
  {
   "cell_type": "code",
   "execution_count": null,
   "metadata": {},
   "outputs": [],
   "source": [
    "calendar_listings_features.loc[:,('price')] = calendar_listings_features.loc[:,('price')].apply(convert_currency)"
   ]
  },
  {
   "cell_type": "code",
   "execution_count": null,
   "metadata": {},
   "outputs": [],
   "source": [
    "# Check dTypes\n",
    "calendar_listings_features.dtypes"
   ]
  },
  {
   "cell_type": "code",
   "execution_count": null,
   "metadata": {},
   "outputs": [],
   "source": [
    "# Correlations - Reviews\n",
    "price_reviews = calendar_listings_features.loc[:,('review_scores_rating', \n",
    "                                    'review_scores_accuracy', \n",
    "                                    'review_scores_cleanliness', \n",
    "                                    'review_scores_checkin', \n",
    "                                    'review_scores_communication', \n",
    "                                    'review_scores_location', \n",
    "                                    'review_scores_value',\n",
    "                                    'reviews_per_month', \n",
    "                                    'number_of_reviews',\n",
    "                                    'price')]"
   ]
  },
  {
   "cell_type": "code",
   "execution_count": null,
   "metadata": {},
   "outputs": [],
   "source": [
    "plt.rcParams.update({'font.size': 10})\n",
    "plt.figure(figsize=(7,7))\n",
    "sb.heatmap(price_reviews.corr(), annot=True, fmt='.2f')"
   ]
  },
  {
   "cell_type": "code",
   "execution_count": null,
   "metadata": {},
   "outputs": [],
   "source": [
    "# Correlation - Amenities\n",
    "\n",
    "# Select the columns that are needed\n",
    "listings_amenities = listings_features.loc[:,('id',\n",
    "                                    'amenities',\n",
    "                                    'property_type')]"
   ]
  },
  {
   "cell_type": "code",
   "execution_count": null,
   "metadata": {},
   "outputs": [],
   "source": [
    "# Merge listings and calendar datasets\n",
    "listings_amenities = calendar.merge(listings_amenities, \n",
    "                                   left_on = 'listing_id', \n",
    "                                   right_on = 'id')"
   ]
  },
  {
   "cell_type": "code",
   "execution_count": null,
   "metadata": {},
   "outputs": [],
   "source": [
    "# Create some extra features based on amenities\n",
    "# https://news.airbnb.com/en-ca/amenities-do-matter-airbnb-reveals-which-amenities-travelers-value-most/\n",
    "\n",
    "listings_amenities['TV'] = listings_amenities.amenities.str.contains(\"TV\", case=False)\n",
    "listings_amenities['Internet'] = listings_amenities.amenities.str.contains('Internet|Wireless', case=False)\n",
    "listings_amenities['Parking'] = listings_amenities.amenities.str.contains('Parking', case=False)\n",
    "listings_amenities['Washer'] = listings_amenities.amenities.str.contains('Washer', case=False)\n",
    "listings_amenities['Dryer'] = listings_amenities.amenities.str.contains('Dryer', case=False)\n",
    "listings_amenities['AirCon'] = listings_amenities.amenities.str.contains('Air Condition|Air Conditioning', case=False)\n",
    "listings_amenities['PetFriendly'] = listings_amenities.amenities.str.contains('Pets Allowed|Pets live on this property|Dog|Cat', case=False)\n",
    "listings_amenities['Kitchen'] = listings_amenities.amenities.str.contains('Kitchen', case=False)\n",
    "listings_amenities['FamilyFriendly'] = listings_amenities.amenities.str.contains('Family/Kid Friendly', case=False)"
   ]
  },
  {
   "cell_type": "code",
   "execution_count": null,
   "metadata": {},
   "outputs": [],
   "source": [
    "# Convert price to float type\n",
    "listings_amenities['price'] = listings_amenities['price'].str.replace(\"[$, ]\", \"\").astype(\"float\")"
   ]
  },
  {
   "cell_type": "code",
   "execution_count": null,
   "metadata": {
    "scrolled": true
   },
   "outputs": [],
   "source": [
    "# Check dTypes\n",
    "listings_amenities.dtypes"
   ]
  },
  {
   "cell_type": "code",
   "execution_count": null,
   "metadata": {},
   "outputs": [],
   "source": [
    "listings_amenities = listings_amenities.drop(['listing_id', 'id'], axis=1)"
   ]
  },
  {
   "cell_type": "code",
   "execution_count": null,
   "metadata": {},
   "outputs": [],
   "source": [
    "plt.rcParams.update({'font.size': 10})\n",
    "plt.figure(figsize=(10,10))\n",
    "sb.heatmap(listings_amenities.corr(), annot=True, fmt='.2f')"
   ]
  },
  {
   "cell_type": "markdown",
   "metadata": {},
   "source": [
    "The amenities seem to have a small impact on price. Because of that, let's try to see if there is any relationship between the # of reviews and amenities. \n",
    "\n",
    "A couple of assumptions:\n",
    "* Each review equals a legitimate booking because reviews would only be given by people who have booked the listing.\n",
    "* We would use the minimum nights * price to get an estimate of revenue.\n",
    "\n",
    "For this analysis, we will make use of the reviews and listings data set."
   ]
  },
  {
   "cell_type": "code",
   "execution_count": 42,
   "metadata": {},
   "outputs": [],
   "source": [
    "# Select the columns that are needed from reviews\n",
    "reviews_minimal = reviews.loc[:,('listing_id',\n",
    "                                 'id',\n",
    "                                 'date')]"
   ]
  },
  {
   "cell_type": "code",
   "execution_count": 43,
   "metadata": {},
   "outputs": [],
   "source": [
    "reviews_minimal = reviews_minimal.rename(columns={\"id\": \"reviews_id\"})"
   ]
  },
  {
   "cell_type": "code",
   "execution_count": 44,
   "metadata": {},
   "outputs": [],
   "source": [
    "# Select the columns that are needed from listings\n",
    "listings_minimal = listings.loc[:,('id',\n",
    "                                   'price',\n",
    "                                   'amenities',\n",
    "                                   'property_type',\n",
    "                                   'neighbourhood_group_cleansed',\n",
    "                                   'minimum_nights')]"
   ]
  },
  {
   "cell_type": "code",
   "execution_count": 45,
   "metadata": {},
   "outputs": [],
   "source": [
    "# Merge reviews and listing dataset\n",
    "bookings_reviews = reviews_minimal.merge(listings_minimal, \n",
    "                                   left_on = 'listing_id', \n",
    "                                   right_on = 'id')"
   ]
  },
  {
   "cell_type": "code",
   "execution_count": 46,
   "metadata": {},
   "outputs": [
    {
     "name": "stdout",
     "output_type": "stream",
     "text": [
      "<class 'pandas.core.frame.DataFrame'>\n",
      "Int64Index: 84849 entries, 0 to 84848\n",
      "Data columns (total 9 columns):\n",
      "listing_id                      84849 non-null int64\n",
      "reviews_id                      84849 non-null int64\n",
      "date                            84849 non-null object\n",
      "id                              84849 non-null int64\n",
      "price                           84849 non-null object\n",
      "amenities                       84849 non-null object\n",
      "property_type                   84849 non-null object\n",
      "neighbourhood_group_cleansed    84849 non-null object\n",
      "minimum_nights                  84849 non-null int64\n",
      "dtypes: int64(4), object(5)\n",
      "memory usage: 6.5+ MB\n"
     ]
    }
   ],
   "source": [
    "bookings_reviews.info()"
   ]
  },
  {
   "cell_type": "code",
   "execution_count": 47,
   "metadata": {},
   "outputs": [
    {
     "data": {
      "text/plain": [
       "listing_id                      0\n",
       "reviews_id                      0\n",
       "date                            0\n",
       "id                              0\n",
       "price                           0\n",
       "amenities                       0\n",
       "property_type                   0\n",
       "neighbourhood_group_cleansed    0\n",
       "minimum_nights                  0\n",
       "dtype: int64"
      ]
     },
     "execution_count": 47,
     "metadata": {},
     "output_type": "execute_result"
    }
   ],
   "source": [
    "# Check dataframe for null values\n",
    "bookings_reviews.isnull().sum()"
   ]
  },
  {
   "cell_type": "code",
   "execution_count": 48,
   "metadata": {},
   "outputs": [
    {
     "data": {
      "text/plain": [
       "listing_id                       int64\n",
       "reviews_id                       int64\n",
       "date                            object\n",
       "id                               int64\n",
       "price                           object\n",
       "amenities                       object\n",
       "property_type                   object\n",
       "neighbourhood_group_cleansed    object\n",
       "minimum_nights                   int64\n",
       "dtype: object"
      ]
     },
     "execution_count": 48,
     "metadata": {},
     "output_type": "execute_result"
    }
   ],
   "source": [
    "# Check dTypes\n",
    "bookings_reviews.dtypes"
   ]
  },
  {
   "cell_type": "code",
   "execution_count": 49,
   "metadata": {},
   "outputs": [],
   "source": [
    "# Convert to appropriate dTypes and create new columns\n",
    "bookings_reviews.loc[:,('date')] = pd.to_datetime(bookings_reviews.loc[:,('date')])\n",
    "bookings_reviews.loc[:,('year')] = pd.DatetimeIndex(bookings_reviews.loc[:,('date')]).year\n",
    "bookings_reviews.loc[:,('month')] = pd.to_datetime(bookings_reviews.loc[:,('date')]).dt.month_name(locale = 'English')"
   ]
  },
  {
   "cell_type": "code",
   "execution_count": 50,
   "metadata": {},
   "outputs": [],
   "source": [
    "# Running price through a function to convert it to float type\n",
    "def convert_currency(val):\n",
    "    \"\"\"\n",
    "    Convert the string number value to a float\n",
    "     - Remove $\n",
    "     - Remove commas\n",
    "     - Convert to float type\n",
    "    \"\"\"\n",
    "    new_val = val.replace(',','').replace('$', '')\n",
    "    return float(new_val)"
   ]
  },
  {
   "cell_type": "code",
   "execution_count": 51,
   "metadata": {},
   "outputs": [],
   "source": [
    "bookings_reviews.loc[:,('price')] = bookings_reviews.loc[:,('price')].apply(convert_currency)"
   ]
  },
  {
   "cell_type": "code",
   "execution_count": 52,
   "metadata": {},
   "outputs": [],
   "source": [
    "bookings_reviews['est_revenue'] = bookings_reviews['price'] * bookings_reviews['minimum_nights']"
   ]
  },
  {
   "cell_type": "code",
   "execution_count": 53,
   "metadata": {},
   "outputs": [
    {
     "data": {
      "text/plain": [
       "listing_id                               int64\n",
       "reviews_id                               int64\n",
       "date                            datetime64[ns]\n",
       "id                                       int64\n",
       "price                                  float64\n",
       "amenities                               object\n",
       "property_type                           object\n",
       "neighbourhood_group_cleansed            object\n",
       "minimum_nights                           int64\n",
       "year                                     int64\n",
       "month                                   object\n",
       "est_revenue                            float64\n",
       "dtype: object"
      ]
     },
     "execution_count": 53,
     "metadata": {},
     "output_type": "execute_result"
    }
   ],
   "source": [
    "# Check dTypes\n",
    "bookings_reviews.dtypes"
   ]
  },
  {
   "cell_type": "code",
   "execution_count": 54,
   "metadata": {},
   "outputs": [],
   "source": [
    "bookings_reviews['TV'] = bookings_reviews.amenities.str.contains(\"TV\", case=False)\n",
    "bookings_reviews['Internet'] = bookings_reviews.amenities.str.contains('Internet|Wireless', case=False)\n",
    "bookings_reviews['Parking'] = bookings_reviews.amenities.str.contains('Parking', case=False)\n",
    "bookings_reviews['Washer'] = bookings_reviews.amenities.str.contains('Washer', case=False)\n",
    "bookings_reviews['Dryer'] = bookings_reviews.amenities.str.contains('Dryer', case=False)\n",
    "bookings_reviews['AirCon'] = bookings_reviews.amenities.str.contains('Air Condition|Air Conditioning', case=False)\n",
    "bookings_reviews['PetFriendly'] = bookings_reviews.amenities.str.contains('Pets Allowed|Pets live on this property|Dog|Cat', case=False)\n",
    "bookings_reviews['Kitchen'] = bookings_reviews.amenities.str.contains('Kitchen', case=False)\n",
    "bookings_reviews['FamilyFriendly'] = bookings_reviews.amenities.str.contains('Family/Kid Friendly', case=False)"
   ]
  },
  {
   "cell_type": "code",
   "execution_count": 55,
   "metadata": {},
   "outputs": [
    {
     "data": {
      "text/html": [
       "<div>\n",
       "<style scoped>\n",
       "    .dataframe tbody tr th:only-of-type {\n",
       "        vertical-align: middle;\n",
       "    }\n",
       "\n",
       "    .dataframe tbody tr th {\n",
       "        vertical-align: top;\n",
       "    }\n",
       "\n",
       "    .dataframe thead th {\n",
       "        text-align: right;\n",
       "    }\n",
       "</style>\n",
       "<table border=\"1\" class=\"dataframe\">\n",
       "  <thead>\n",
       "    <tr style=\"text-align: right;\">\n",
       "      <th></th>\n",
       "      <th>listing_id</th>\n",
       "      <th>reviews_id</th>\n",
       "      <th>date</th>\n",
       "      <th>id</th>\n",
       "      <th>price</th>\n",
       "      <th>amenities</th>\n",
       "      <th>property_type</th>\n",
       "      <th>neighbourhood_group_cleansed</th>\n",
       "      <th>minimum_nights</th>\n",
       "      <th>year</th>\n",
       "      <th>...</th>\n",
       "      <th>est_revenue</th>\n",
       "      <th>TV</th>\n",
       "      <th>Internet</th>\n",
       "      <th>Parking</th>\n",
       "      <th>Washer</th>\n",
       "      <th>Dryer</th>\n",
       "      <th>AirCon</th>\n",
       "      <th>PetFriendly</th>\n",
       "      <th>Kitchen</th>\n",
       "      <th>FamilyFriendly</th>\n",
       "    </tr>\n",
       "  </thead>\n",
       "  <tbody>\n",
       "    <tr>\n",
       "      <td>0</td>\n",
       "      <td>7202016</td>\n",
       "      <td>38917982</td>\n",
       "      <td>2015-07-19</td>\n",
       "      <td>7202016</td>\n",
       "      <td>75.0</td>\n",
       "      <td>{Internet,\"Wireless Internet\",Kitchen,Heating,...</td>\n",
       "      <td>Apartment</td>\n",
       "      <td>Queen Anne</td>\n",
       "      <td>2</td>\n",
       "      <td>2015</td>\n",
       "      <td>...</td>\n",
       "      <td>150.0</td>\n",
       "      <td>False</td>\n",
       "      <td>True</td>\n",
       "      <td>False</td>\n",
       "      <td>True</td>\n",
       "      <td>True</td>\n",
       "      <td>False</td>\n",
       "      <td>False</td>\n",
       "      <td>True</td>\n",
       "      <td>False</td>\n",
       "    </tr>\n",
       "    <tr>\n",
       "      <td>1</td>\n",
       "      <td>7202016</td>\n",
       "      <td>39087409</td>\n",
       "      <td>2015-07-20</td>\n",
       "      <td>7202016</td>\n",
       "      <td>75.0</td>\n",
       "      <td>{Internet,\"Wireless Internet\",Kitchen,Heating,...</td>\n",
       "      <td>Apartment</td>\n",
       "      <td>Queen Anne</td>\n",
       "      <td>2</td>\n",
       "      <td>2015</td>\n",
       "      <td>...</td>\n",
       "      <td>150.0</td>\n",
       "      <td>False</td>\n",
       "      <td>True</td>\n",
       "      <td>False</td>\n",
       "      <td>True</td>\n",
       "      <td>True</td>\n",
       "      <td>False</td>\n",
       "      <td>False</td>\n",
       "      <td>True</td>\n",
       "      <td>False</td>\n",
       "    </tr>\n",
       "    <tr>\n",
       "      <td>2</td>\n",
       "      <td>7202016</td>\n",
       "      <td>39820030</td>\n",
       "      <td>2015-07-26</td>\n",
       "      <td>7202016</td>\n",
       "      <td>75.0</td>\n",
       "      <td>{Internet,\"Wireless Internet\",Kitchen,Heating,...</td>\n",
       "      <td>Apartment</td>\n",
       "      <td>Queen Anne</td>\n",
       "      <td>2</td>\n",
       "      <td>2015</td>\n",
       "      <td>...</td>\n",
       "      <td>150.0</td>\n",
       "      <td>False</td>\n",
       "      <td>True</td>\n",
       "      <td>False</td>\n",
       "      <td>True</td>\n",
       "      <td>True</td>\n",
       "      <td>False</td>\n",
       "      <td>False</td>\n",
       "      <td>True</td>\n",
       "      <td>False</td>\n",
       "    </tr>\n",
       "  </tbody>\n",
       "</table>\n",
       "<p>3 rows × 21 columns</p>\n",
       "</div>"
      ],
      "text/plain": [
       "   listing_id  reviews_id       date       id  price  \\\n",
       "0     7202016    38917982 2015-07-19  7202016   75.0   \n",
       "1     7202016    39087409 2015-07-20  7202016   75.0   \n",
       "2     7202016    39820030 2015-07-26  7202016   75.0   \n",
       "\n",
       "                                           amenities property_type  \\\n",
       "0  {Internet,\"Wireless Internet\",Kitchen,Heating,...     Apartment   \n",
       "1  {Internet,\"Wireless Internet\",Kitchen,Heating,...     Apartment   \n",
       "2  {Internet,\"Wireless Internet\",Kitchen,Heating,...     Apartment   \n",
       "\n",
       "  neighbourhood_group_cleansed  minimum_nights  year  ... est_revenue     TV  \\\n",
       "0                   Queen Anne               2  2015  ...       150.0  False   \n",
       "1                   Queen Anne               2  2015  ...       150.0  False   \n",
       "2                   Queen Anne               2  2015  ...       150.0  False   \n",
       "\n",
       "   Internet  Parking  Washer  Dryer  AirCon  PetFriendly  Kitchen  \\\n",
       "0      True    False    True   True   False        False     True   \n",
       "1      True    False    True   True   False        False     True   \n",
       "2      True    False    True   True   False        False     True   \n",
       "\n",
       "   FamilyFriendly  \n",
       "0           False  \n",
       "1           False  \n",
       "2           False  \n",
       "\n",
       "[3 rows x 21 columns]"
      ]
     },
     "execution_count": 55,
     "metadata": {},
     "output_type": "execute_result"
    }
   ],
   "source": [
    "bookings_reviews.head(3)"
   ]
  },
  {
   "cell_type": "code",
   "execution_count": 56,
   "metadata": {},
   "outputs": [],
   "source": [
    "booking_reviews_neighbourhood = bookings_reviews.groupby(bookings_reviews['neighbourhood_group_cleansed'],\n",
    "                                 sort=True)['est_revenue'].mean()"
   ]
  },
  {
   "cell_type": "code",
   "execution_count": 57,
   "metadata": {},
   "outputs": [],
   "source": [
    "# This does not seem to load; Don't run for now\n",
    "# plt.rcParams.update({'font.size': 20})\n",
    "# bookings_reviews.plot(kind = 'bar', figsize = (30,10))"
   ]
  },
  {
   "cell_type": "code",
   "execution_count": 61,
   "metadata": {
    "scrolled": true
   },
   "outputs": [
    {
     "data": {
      "text/html": [
       "<div>\n",
       "<style scoped>\n",
       "    .dataframe tbody tr th:only-of-type {\n",
       "        vertical-align: middle;\n",
       "    }\n",
       "\n",
       "    .dataframe tbody tr th {\n",
       "        vertical-align: top;\n",
       "    }\n",
       "\n",
       "    .dataframe thead th {\n",
       "        text-align: right;\n",
       "    }\n",
       "</style>\n",
       "<table border=\"1\" class=\"dataframe\">\n",
       "  <thead>\n",
       "    <tr style=\"text-align: right;\">\n",
       "      <th>month</th>\n",
       "      <th>January</th>\n",
       "      <th>February</th>\n",
       "      <th>March</th>\n",
       "      <th>April</th>\n",
       "      <th>May</th>\n",
       "      <th>June</th>\n",
       "      <th>July</th>\n",
       "      <th>August</th>\n",
       "      <th>September</th>\n",
       "      <th>October</th>\n",
       "      <th>November</th>\n",
       "      <th>December</th>\n",
       "    </tr>\n",
       "    <tr>\n",
       "      <th>neighbourhood_group_cleansed</th>\n",
       "      <th></th>\n",
       "      <th></th>\n",
       "      <th></th>\n",
       "      <th></th>\n",
       "      <th></th>\n",
       "      <th></th>\n",
       "      <th></th>\n",
       "      <th></th>\n",
       "      <th></th>\n",
       "      <th></th>\n",
       "      <th></th>\n",
       "      <th></th>\n",
       "    </tr>\n",
       "  </thead>\n",
       "  <tbody>\n",
       "    <tr>\n",
       "      <td>Ballard</td>\n",
       "      <td>236.0</td>\n",
       "      <td>252.0</td>\n",
       "      <td>400.0</td>\n",
       "      <td>385.0</td>\n",
       "      <td>509.0</td>\n",
       "      <td>700.0</td>\n",
       "      <td>845.0</td>\n",
       "      <td>1027.0</td>\n",
       "      <td>948.0</td>\n",
       "      <td>761.0</td>\n",
       "      <td>584.0</td>\n",
       "      <td>471.0</td>\n",
       "    </tr>\n",
       "    <tr>\n",
       "      <td>Beacon Hill</td>\n",
       "      <td>104.0</td>\n",
       "      <td>69.0</td>\n",
       "      <td>137.0</td>\n",
       "      <td>158.0</td>\n",
       "      <td>235.0</td>\n",
       "      <td>350.0</td>\n",
       "      <td>428.0</td>\n",
       "      <td>600.0</td>\n",
       "      <td>509.0</td>\n",
       "      <td>356.0</td>\n",
       "      <td>215.0</td>\n",
       "      <td>194.0</td>\n",
       "    </tr>\n",
       "    <tr>\n",
       "      <td>Capitol Hill</td>\n",
       "      <td>515.0</td>\n",
       "      <td>476.0</td>\n",
       "      <td>708.0</td>\n",
       "      <td>740.0</td>\n",
       "      <td>933.0</td>\n",
       "      <td>1182.0</td>\n",
       "      <td>1475.0</td>\n",
       "      <td>1714.0</td>\n",
       "      <td>1584.0</td>\n",
       "      <td>1273.0</td>\n",
       "      <td>993.0</td>\n",
       "      <td>819.0</td>\n",
       "    </tr>\n",
       "    <tr>\n",
       "      <td>Cascade</td>\n",
       "      <td>39.0</td>\n",
       "      <td>41.0</td>\n",
       "      <td>77.0</td>\n",
       "      <td>72.0</td>\n",
       "      <td>83.0</td>\n",
       "      <td>123.0</td>\n",
       "      <td>190.0</td>\n",
       "      <td>230.0</td>\n",
       "      <td>214.0</td>\n",
       "      <td>153.0</td>\n",
       "      <td>102.0</td>\n",
       "      <td>96.0</td>\n",
       "    </tr>\n",
       "    <tr>\n",
       "      <td>Central Area</td>\n",
       "      <td>270.0</td>\n",
       "      <td>214.0</td>\n",
       "      <td>408.0</td>\n",
       "      <td>403.0</td>\n",
       "      <td>582.0</td>\n",
       "      <td>823.0</td>\n",
       "      <td>1035.0</td>\n",
       "      <td>1334.0</td>\n",
       "      <td>1200.0</td>\n",
       "      <td>911.0</td>\n",
       "      <td>674.0</td>\n",
       "      <td>588.0</td>\n",
       "    </tr>\n",
       "    <tr>\n",
       "      <td>Delridge</td>\n",
       "      <td>63.0</td>\n",
       "      <td>73.0</td>\n",
       "      <td>105.0</td>\n",
       "      <td>114.0</td>\n",
       "      <td>152.0</td>\n",
       "      <td>237.0</td>\n",
       "      <td>312.0</td>\n",
       "      <td>380.0</td>\n",
       "      <td>292.0</td>\n",
       "      <td>234.0</td>\n",
       "      <td>132.0</td>\n",
       "      <td>103.0</td>\n",
       "    </tr>\n",
       "    <tr>\n",
       "      <td>Downtown</td>\n",
       "      <td>494.0</td>\n",
       "      <td>462.0</td>\n",
       "      <td>633.0</td>\n",
       "      <td>651.0</td>\n",
       "      <td>891.0</td>\n",
       "      <td>1173.0</td>\n",
       "      <td>1331.0</td>\n",
       "      <td>1538.0</td>\n",
       "      <td>1650.0</td>\n",
       "      <td>1564.0</td>\n",
       "      <td>1156.0</td>\n",
       "      <td>1063.0</td>\n",
       "    </tr>\n",
       "    <tr>\n",
       "      <td>Interbay</td>\n",
       "      <td>2.0</td>\n",
       "      <td>0.0</td>\n",
       "      <td>0.0</td>\n",
       "      <td>0.0</td>\n",
       "      <td>4.0</td>\n",
       "      <td>17.0</td>\n",
       "      <td>27.0</td>\n",
       "      <td>34.0</td>\n",
       "      <td>22.0</td>\n",
       "      <td>8.0</td>\n",
       "      <td>2.0</td>\n",
       "      <td>7.0</td>\n",
       "    </tr>\n",
       "    <tr>\n",
       "      <td>Lake City</td>\n",
       "      <td>23.0</td>\n",
       "      <td>28.0</td>\n",
       "      <td>38.0</td>\n",
       "      <td>37.0</td>\n",
       "      <td>60.0</td>\n",
       "      <td>103.0</td>\n",
       "      <td>164.0</td>\n",
       "      <td>195.0</td>\n",
       "      <td>156.0</td>\n",
       "      <td>92.0</td>\n",
       "      <td>81.0</td>\n",
       "      <td>51.0</td>\n",
       "    </tr>\n",
       "    <tr>\n",
       "      <td>Magnolia</td>\n",
       "      <td>18.0</td>\n",
       "      <td>22.0</td>\n",
       "      <td>39.0</td>\n",
       "      <td>38.0</td>\n",
       "      <td>62.0</td>\n",
       "      <td>136.0</td>\n",
       "      <td>154.0</td>\n",
       "      <td>175.0</td>\n",
       "      <td>114.0</td>\n",
       "      <td>76.0</td>\n",
       "      <td>52.0</td>\n",
       "      <td>47.0</td>\n",
       "    </tr>\n",
       "    <tr>\n",
       "      <td>Northgate</td>\n",
       "      <td>48.0</td>\n",
       "      <td>43.0</td>\n",
       "      <td>74.0</td>\n",
       "      <td>50.0</td>\n",
       "      <td>95.0</td>\n",
       "      <td>165.0</td>\n",
       "      <td>144.0</td>\n",
       "      <td>229.0</td>\n",
       "      <td>211.0</td>\n",
       "      <td>138.0</td>\n",
       "      <td>103.0</td>\n",
       "      <td>89.0</td>\n",
       "    </tr>\n",
       "    <tr>\n",
       "      <td>Other neighborhoods</td>\n",
       "      <td>573.0</td>\n",
       "      <td>513.0</td>\n",
       "      <td>824.0</td>\n",
       "      <td>846.0</td>\n",
       "      <td>1228.0</td>\n",
       "      <td>1832.0</td>\n",
       "      <td>2213.0</td>\n",
       "      <td>2777.0</td>\n",
       "      <td>2374.0</td>\n",
       "      <td>1647.0</td>\n",
       "      <td>1280.0</td>\n",
       "      <td>1103.0</td>\n",
       "    </tr>\n",
       "    <tr>\n",
       "      <td>Queen Anne</td>\n",
       "      <td>190.0</td>\n",
       "      <td>198.0</td>\n",
       "      <td>315.0</td>\n",
       "      <td>324.0</td>\n",
       "      <td>454.0</td>\n",
       "      <td>701.0</td>\n",
       "      <td>848.0</td>\n",
       "      <td>1003.0</td>\n",
       "      <td>932.0</td>\n",
       "      <td>684.0</td>\n",
       "      <td>527.0</td>\n",
       "      <td>437.0</td>\n",
       "    </tr>\n",
       "    <tr>\n",
       "      <td>Rainier Valley</td>\n",
       "      <td>126.0</td>\n",
       "      <td>98.0</td>\n",
       "      <td>172.0</td>\n",
       "      <td>166.0</td>\n",
       "      <td>244.0</td>\n",
       "      <td>423.0</td>\n",
       "      <td>527.0</td>\n",
       "      <td>713.0</td>\n",
       "      <td>626.0</td>\n",
       "      <td>445.0</td>\n",
       "      <td>285.0</td>\n",
       "      <td>260.0</td>\n",
       "    </tr>\n",
       "    <tr>\n",
       "      <td>Seward Park</td>\n",
       "      <td>33.0</td>\n",
       "      <td>27.0</td>\n",
       "      <td>61.0</td>\n",
       "      <td>56.0</td>\n",
       "      <td>86.0</td>\n",
       "      <td>130.0</td>\n",
       "      <td>158.0</td>\n",
       "      <td>188.0</td>\n",
       "      <td>170.0</td>\n",
       "      <td>127.0</td>\n",
       "      <td>87.0</td>\n",
       "      <td>72.0</td>\n",
       "    </tr>\n",
       "    <tr>\n",
       "      <td>University District</td>\n",
       "      <td>36.0</td>\n",
       "      <td>37.0</td>\n",
       "      <td>56.0</td>\n",
       "      <td>60.0</td>\n",
       "      <td>52.0</td>\n",
       "      <td>111.0</td>\n",
       "      <td>166.0</td>\n",
       "      <td>262.0</td>\n",
       "      <td>141.0</td>\n",
       "      <td>138.0</td>\n",
       "      <td>144.0</td>\n",
       "      <td>113.0</td>\n",
       "    </tr>\n",
       "    <tr>\n",
       "      <td>West Seattle</td>\n",
       "      <td>97.0</td>\n",
       "      <td>90.0</td>\n",
       "      <td>111.0</td>\n",
       "      <td>133.0</td>\n",
       "      <td>184.0</td>\n",
       "      <td>338.0</td>\n",
       "      <td>486.0</td>\n",
       "      <td>619.0</td>\n",
       "      <td>534.0</td>\n",
       "      <td>348.0</td>\n",
       "      <td>248.0</td>\n",
       "      <td>219.0</td>\n",
       "    </tr>\n",
       "  </tbody>\n",
       "</table>\n",
       "</div>"
      ],
      "text/plain": [
       "month                         January  February  March  April     May    June  \\\n",
       "neighbourhood_group_cleansed                                                    \n",
       "Ballard                         236.0     252.0  400.0  385.0   509.0   700.0   \n",
       "Beacon Hill                     104.0      69.0  137.0  158.0   235.0   350.0   \n",
       "Capitol Hill                    515.0     476.0  708.0  740.0   933.0  1182.0   \n",
       "Cascade                          39.0      41.0   77.0   72.0    83.0   123.0   \n",
       "Central Area                    270.0     214.0  408.0  403.0   582.0   823.0   \n",
       "Delridge                         63.0      73.0  105.0  114.0   152.0   237.0   \n",
       "Downtown                        494.0     462.0  633.0  651.0   891.0  1173.0   \n",
       "Interbay                          2.0       0.0    0.0    0.0     4.0    17.0   \n",
       "Lake City                        23.0      28.0   38.0   37.0    60.0   103.0   \n",
       "Magnolia                         18.0      22.0   39.0   38.0    62.0   136.0   \n",
       "Northgate                        48.0      43.0   74.0   50.0    95.0   165.0   \n",
       "Other neighborhoods             573.0     513.0  824.0  846.0  1228.0  1832.0   \n",
       "Queen Anne                      190.0     198.0  315.0  324.0   454.0   701.0   \n",
       "Rainier Valley                  126.0      98.0  172.0  166.0   244.0   423.0   \n",
       "Seward Park                      33.0      27.0   61.0   56.0    86.0   130.0   \n",
       "University District              36.0      37.0   56.0   60.0    52.0   111.0   \n",
       "West Seattle                     97.0      90.0  111.0  133.0   184.0   338.0   \n",
       "\n",
       "month                           July  August  September  October  November  \\\n",
       "neighbourhood_group_cleansed                                                 \n",
       "Ballard                        845.0  1027.0      948.0    761.0     584.0   \n",
       "Beacon Hill                    428.0   600.0      509.0    356.0     215.0   \n",
       "Capitol Hill                  1475.0  1714.0     1584.0   1273.0     993.0   \n",
       "Cascade                        190.0   230.0      214.0    153.0     102.0   \n",
       "Central Area                  1035.0  1334.0     1200.0    911.0     674.0   \n",
       "Delridge                       312.0   380.0      292.0    234.0     132.0   \n",
       "Downtown                      1331.0  1538.0     1650.0   1564.0    1156.0   \n",
       "Interbay                        27.0    34.0       22.0      8.0       2.0   \n",
       "Lake City                      164.0   195.0      156.0     92.0      81.0   \n",
       "Magnolia                       154.0   175.0      114.0     76.0      52.0   \n",
       "Northgate                      144.0   229.0      211.0    138.0     103.0   \n",
       "Other neighborhoods           2213.0  2777.0     2374.0   1647.0    1280.0   \n",
       "Queen Anne                     848.0  1003.0      932.0    684.0     527.0   \n",
       "Rainier Valley                 527.0   713.0      626.0    445.0     285.0   \n",
       "Seward Park                    158.0   188.0      170.0    127.0      87.0   \n",
       "University District            166.0   262.0      141.0    138.0     144.0   \n",
       "West Seattle                   486.0   619.0      534.0    348.0     248.0   \n",
       "\n",
       "month                         December  \n",
       "neighbourhood_group_cleansed            \n",
       "Ballard                          471.0  \n",
       "Beacon Hill                      194.0  \n",
       "Capitol Hill                     819.0  \n",
       "Cascade                           96.0  \n",
       "Central Area                     588.0  \n",
       "Delridge                         103.0  \n",
       "Downtown                        1063.0  \n",
       "Interbay                           7.0  \n",
       "Lake City                         51.0  \n",
       "Magnolia                          47.0  \n",
       "Northgate                         89.0  \n",
       "Other neighborhoods             1103.0  \n",
       "Queen Anne                       437.0  \n",
       "Rainier Valley                   260.0  \n",
       "Seward Park                       72.0  \n",
       "University District              113.0  \n",
       "West Seattle                     219.0  "
      ]
     },
     "execution_count": 61,
     "metadata": {},
     "output_type": "execute_result"
    }
   ],
   "source": [
    "# Using GroupBy technique with value_counts\n",
    "# bookings_reviews_months = bookings_reviews.groupby('neighbourhood_group_cleansed')['month'].value_counts()\n",
    "\n",
    "# Apply \"Unstack\" to switch the rows to columns to get the activity counts as features.\n",
    "bookings_reviews_months = bookings_reviews.groupby('neighbourhood_group_cleansed')['month'].value_counts().unstack().fillna(0)\n",
    "\n",
    "# Reorder\n",
    "bookings_reviews_reordered = bookings_reviews_months[['January', 'February', 'March', 'April',\n",
    "                     'May', 'June', 'July', 'August',\n",
    "                     'September', 'October', 'November', 'December']]\n",
    "bookings_reviews_reordered"
   ]
  },
  {
   "cell_type": "code",
   "execution_count": 67,
   "metadata": {},
   "outputs": [
    {
     "data": {
      "image/png": "[encoded data removed]",
      "text/plain": [
       "<Figure size 1080x720 with 2 Axes>"
      ]
     },
     "metadata": {
      "needs_background": "light"
     },
     "output_type": "display_data"
    }
   ],
   "source": [
    "# Co-relations\n",
    "# plt.rcParams.update({'font.size': 10})\n",
    "fig, ax = plt.pyplot.subplots(figsize=(15,10))\n",
    "sb.heatmap(bookings_reviews.corr(), annot=True, fmt='.2f');"
   ]
  },
  {
   "cell_type": "markdown",
   "metadata": {},
   "source": [
    "In the next section, we will see if property_type has an impact on price."
   ]
  },
  {
   "cell_type": "code",
   "execution_count": null,
   "metadata": {},
   "outputs": [],
   "source": [
    "# Average price per property type\n",
    "property_price_mean = listings_amenities.groupby(listings_amenities['property_type'],\n",
    "                                 sort=True)['price'].mean()"
   ]
  },
  {
   "cell_type": "code",
   "execution_count": null,
   "metadata": {},
   "outputs": [],
   "source": [
    "plt.rcParams.update({'font.size': 20})\n",
    "property_price_mean.plot(kind = 'bar', figsize = (30,10))"
   ]
  },
  {
   "cell_type": "code",
   "execution_count": null,
   "metadata": {},
   "outputs": [],
   "source": [
    "# Number of listings per property type\n",
    "property_count = listings_amenities['property_type'].value_counts()\n",
    "property_count"
   ]
  },
  {
   "cell_type": "markdown",
   "metadata": {},
   "source": [
    "## Evaluation for #3\n",
    "Based on the analysis:\n",
    "* Review_scores_rating (overall) is impacted by the other reviews scores, but it has a very small impact on the price\n",
    "* Individual amenities also have quite a small impact on the price; Family Friendly, TV and Aircon seem to be most favoured when it comes to price\n",
    "\n",
    "NOTE: \n",
    "* Since reviews has small impact on price; see if reviews has impact on # of bookings (reviews)\n",
    "* Also see if property type has impact on # of bookings (# of listings may not mean much)\n",
    "* See if host scores have any impact or correlation on price or bookings"
   ]
  },
  {
   "cell_type": "markdown",
   "metadata": {},
   "source": [
    "---"
   ]
  },
  {
   "cell_type": "markdown",
   "metadata": {},
   "source": [
    "## Build a model that predicts Airbnb revenue estimates based on the factors stated above"
   ]
  },
  {
   "cell_type": "code",
   "execution_count": null,
   "metadata": {},
   "outputs": [],
   "source": []
  }
 ],
 "metadata": {
  "kernelspec": {
   "display_name": "Python 3",
   "language": "python",
   "name": "python3"
  },
  "language_info": {
   "codemirror_mode": {
    "name": "ipython",
    "version": 3
   },
   "file_extension": ".py",
   "mimetype": "text/x-python",
   "name": "python",
   "nbconvert_exporter": "python",
   "pygments_lexer": "ipython3",
   "version": "3.7.4"
  }
 },
 "nbformat": 4,
 "nbformat_minor": 2
}
