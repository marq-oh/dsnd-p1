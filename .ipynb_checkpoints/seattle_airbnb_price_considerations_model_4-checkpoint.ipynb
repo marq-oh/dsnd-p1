{
 "cells": [
  {
   "cell_type": "markdown",
   "metadata": {},
   "source": [
    "### Imports"
   ]
  },
  {
   "cell_type": "code",
   "execution_count": 1,
   "metadata": {},
   "outputs": [],
   "source": [
    "import numpy as np\n",
    "import pandas as pd\n",
    "import matplotlib as plt\n",
    "import seaborn as sb\n",
    "from sklearn.feature_extraction.text import CountVectorizer\n",
    "from sklearn.model_selection import train_test_split\n",
    "from sklearn.metrics import r2_score, mean_squared_error, median_absolute_error\n",
    "from sklearn.ensemble import RandomForestRegressor\n",
    "from sklearn.linear_model import LinearRegression"
   ]
  },
  {
   "cell_type": "code",
   "execution_count": 2,
   "metadata": {},
   "outputs": [],
   "source": [
    "# Importing data into pandas dataframes\n",
    "listings = pd.read_csv('./listings_sea.csv')\n",
    "calendar = pd.read_csv('./calendar_sea.csv')\n",
    "reviews = pd.read_csv('./reviews_sea.csv')"
   ]
  },
  {
   "cell_type": "markdown",
   "metadata": {},
   "source": [
    "**Data Preparation**"
   ]
  },
  {
   "cell_type": "code",
   "execution_count": 3,
   "metadata": {},
   "outputs": [],
   "source": [
    "# Select the columns that are needed from reviews\n",
    "reviews_data = reviews.loc[:,('listing_id',\n",
    "                                 'id',\n",
    "                                 'date')]"
   ]
  },
  {
   "cell_type": "code",
   "execution_count": 4,
   "metadata": {},
   "outputs": [],
   "source": [
    "reviews_data = reviews_data.rename(columns={\"id\": \"reviews_id\"})"
   ]
  },
  {
   "cell_type": "code",
   "execution_count": 5,
   "metadata": {},
   "outputs": [
    {
     "data": {
      "text/plain": [
       "(84849, 3)"
      ]
     },
     "execution_count": 5,
     "metadata": {},
     "output_type": "execute_result"
    }
   ],
   "source": [
    "reviews_data.shape"
   ]
  },
  {
   "cell_type": "code",
   "execution_count": 6,
   "metadata": {},
   "outputs": [
    {
     "data": {
      "text/html": [
       "<div>\n",
       "<style scoped>\n",
       "    .dataframe tbody tr th:only-of-type {\n",
       "        vertical-align: middle;\n",
       "    }\n",
       "\n",
       "    .dataframe tbody tr th {\n",
       "        vertical-align: top;\n",
       "    }\n",
       "\n",
       "    .dataframe thead th {\n",
       "        text-align: right;\n",
       "    }\n",
       "</style>\n",
       "<table border=\"1\" class=\"dataframe\">\n",
       "  <thead>\n",
       "    <tr style=\"text-align: right;\">\n",
       "      <th></th>\n",
       "      <th>listing_id</th>\n",
       "      <th>reviews_id</th>\n",
       "      <th>date</th>\n",
       "    </tr>\n",
       "  </thead>\n",
       "  <tbody>\n",
       "    <tr>\n",
       "      <td>0</td>\n",
       "      <td>7202016</td>\n",
       "      <td>38917982</td>\n",
       "      <td>2015-07-19</td>\n",
       "    </tr>\n",
       "    <tr>\n",
       "      <td>1</td>\n",
       "      <td>7202016</td>\n",
       "      <td>39087409</td>\n",
       "      <td>2015-07-20</td>\n",
       "    </tr>\n",
       "    <tr>\n",
       "      <td>2</td>\n",
       "      <td>7202016</td>\n",
       "      <td>39820030</td>\n",
       "      <td>2015-07-26</td>\n",
       "    </tr>\n",
       "    <tr>\n",
       "      <td>3</td>\n",
       "      <td>7202016</td>\n",
       "      <td>40813543</td>\n",
       "      <td>2015-08-02</td>\n",
       "    </tr>\n",
       "    <tr>\n",
       "      <td>4</td>\n",
       "      <td>7202016</td>\n",
       "      <td>41986501</td>\n",
       "      <td>2015-08-10</td>\n",
       "    </tr>\n",
       "  </tbody>\n",
       "</table>\n",
       "</div>"
      ],
      "text/plain": [
       "   listing_id  reviews_id        date\n",
       "0     7202016    38917982  2015-07-19\n",
       "1     7202016    39087409  2015-07-20\n",
       "2     7202016    39820030  2015-07-26\n",
       "3     7202016    40813543  2015-08-02\n",
       "4     7202016    41986501  2015-08-10"
      ]
     },
     "execution_count": 6,
     "metadata": {},
     "output_type": "execute_result"
    }
   ],
   "source": [
    "reviews_data.head()"
   ]
  },
  {
   "cell_type": "code",
   "execution_count": 7,
   "metadata": {},
   "outputs": [],
   "source": [
    "reviews_count = reviews_data['listing_id'].value_counts(dropna=True, sort=True)"
   ]
  },
  {
   "cell_type": "code",
   "execution_count": 8,
   "metadata": {},
   "outputs": [
    {
     "data": {
      "text/plain": [
       "208356     474\n",
       "365550     466\n",
       "25002      404\n",
       "47196      353\n",
       "63308      320\n",
       "          ... \n",
       "5992645      1\n",
       "9465815      1\n",
       "2875975      1\n",
       "7873208      1\n",
       "6808970      1\n",
       "Name: listing_id, Length: 3191, dtype: int64"
      ]
     },
     "execution_count": 8,
     "metadata": {},
     "output_type": "execute_result"
    }
   ],
   "source": [
    "reviews_count"
   ]
  },
  {
   "cell_type": "code",
   "execution_count": 9,
   "metadata": {},
   "outputs": [
    {
     "data": {
      "text/plain": [
       "(3191,)"
      ]
     },
     "execution_count": 9,
     "metadata": {},
     "output_type": "execute_result"
    }
   ],
   "source": [
    "reviews_count.shape"
   ]
  },
  {
   "cell_type": "code",
   "execution_count": 10,
   "metadata": {},
   "outputs": [],
   "source": [
    "reviews_data_view = reviews_count.rename_axis('listing_id').reset_index(name='reviews_bookings')"
   ]
  },
  {
   "cell_type": "code",
   "execution_count": 11,
   "metadata": {},
   "outputs": [
    {
     "data": {
      "text/plain": [
       "listing_id\n",
       "4291        1\n",
       "5682        1\n",
       "6606        1\n",
       "7369        1\n",
       "9419        1\n",
       "           ..\n",
       "9995551     1\n",
       "10012724    1\n",
       "10020221    1\n",
       "10118341    1\n",
       "10248139    1\n",
       "Length: 3191, dtype: int64"
      ]
     },
     "execution_count": 11,
     "metadata": {},
     "output_type": "execute_result"
    }
   ],
   "source": [
    "reviews_data_view.pivot_table(index=['listing_id'], aggfunc='size')"
   ]
  },
  {
   "cell_type": "code",
   "execution_count": 17,
   "metadata": {},
   "outputs": [],
   "source": [
    "# Select the columns that are needed - Listings\n",
    "listings_data = listings.loc[:,('id',\n",
    "                                'review_scores_rating',\n",
    "                                'accommodates',\n",
    "                                'property_type',\n",
    "                                'neighbourhood_group_cleansed',\n",
    "                                'bathrooms',\n",
    "                                'bedrooms',\n",
    "                                'availability_90')]"
   ]
  },
  {
   "cell_type": "code",
   "execution_count": 18,
   "metadata": {},
   "outputs": [
    {
     "data": {
      "text/plain": [
       "(3818, 9)"
      ]
     },
     "execution_count": 18,
     "metadata": {},
     "output_type": "execute_result"
    }
   ],
   "source": [
    "listings_data.shape"
   ]
  },
  {
   "cell_type": "code",
   "execution_count": 19,
   "metadata": {},
   "outputs": [],
   "source": [
    "# Merge datasets\n",
    "merged_dataset = listings_data.merge(reviews_data_view, \n",
    "                                   left_on = 'id', \n",
    "                                   right_on = 'listing_id')"
   ]
  },
  {
   "cell_type": "code",
   "execution_count": 20,
   "metadata": {},
   "outputs": [
    {
     "data": {
      "text/html": [
       "<div>\n",
       "<style scoped>\n",
       "    .dataframe tbody tr th:only-of-type {\n",
       "        vertical-align: middle;\n",
       "    }\n",
       "\n",
       "    .dataframe tbody tr th {\n",
       "        vertical-align: top;\n",
       "    }\n",
       "\n",
       "    .dataframe thead th {\n",
       "        text-align: right;\n",
       "    }\n",
       "</style>\n",
       "<table border=\"1\" class=\"dataframe\">\n",
       "  <thead>\n",
       "    <tr style=\"text-align: right;\">\n",
       "      <th></th>\n",
       "      <th>id</th>\n",
       "      <th>review_scores_rating</th>\n",
       "      <th>accommodates</th>\n",
       "      <th>property_type</th>\n",
       "      <th>neighbourhood_group_cleansed</th>\n",
       "      <th>bathrooms</th>\n",
       "      <th>bedrooms</th>\n",
       "      <th>availability_90</th>\n",
       "      <th>number_of_reviews</th>\n",
       "      <th>listing_id</th>\n",
       "      <th>reviews_bookings</th>\n",
       "    </tr>\n",
       "  </thead>\n",
       "  <tbody>\n",
       "    <tr>\n",
       "      <td>0</td>\n",
       "      <td>241032</td>\n",
       "      <td>95.0</td>\n",
       "      <td>4</td>\n",
       "      <td>Apartment</td>\n",
       "      <td>Queen Anne</td>\n",
       "      <td>1.0</td>\n",
       "      <td>1.0</td>\n",
       "      <td>71</td>\n",
       "      <td>207</td>\n",
       "      <td>241032</td>\n",
       "      <td>207</td>\n",
       "    </tr>\n",
       "    <tr>\n",
       "      <td>1</td>\n",
       "      <td>953595</td>\n",
       "      <td>96.0</td>\n",
       "      <td>4</td>\n",
       "      <td>Apartment</td>\n",
       "      <td>Queen Anne</td>\n",
       "      <td>1.0</td>\n",
       "      <td>1.0</td>\n",
       "      <td>16</td>\n",
       "      <td>43</td>\n",
       "      <td>953595</td>\n",
       "      <td>43</td>\n",
       "    </tr>\n",
       "    <tr>\n",
       "      <td>2</td>\n",
       "      <td>3308979</td>\n",
       "      <td>97.0</td>\n",
       "      <td>11</td>\n",
       "      <td>House</td>\n",
       "      <td>Queen Anne</td>\n",
       "      <td>4.5</td>\n",
       "      <td>5.0</td>\n",
       "      <td>17</td>\n",
       "      <td>20</td>\n",
       "      <td>3308979</td>\n",
       "      <td>20</td>\n",
       "    </tr>\n",
       "    <tr>\n",
       "      <td>3</td>\n",
       "      <td>278830</td>\n",
       "      <td>92.0</td>\n",
       "      <td>6</td>\n",
       "      <td>House</td>\n",
       "      <td>Queen Anne</td>\n",
       "      <td>2.0</td>\n",
       "      <td>3.0</td>\n",
       "      <td>90</td>\n",
       "      <td>38</td>\n",
       "      <td>278830</td>\n",
       "      <td>38</td>\n",
       "    </tr>\n",
       "    <tr>\n",
       "      <td>4</td>\n",
       "      <td>5956968</td>\n",
       "      <td>95.0</td>\n",
       "      <td>2</td>\n",
       "      <td>House</td>\n",
       "      <td>Queen Anne</td>\n",
       "      <td>1.0</td>\n",
       "      <td>1.0</td>\n",
       "      <td>27</td>\n",
       "      <td>17</td>\n",
       "      <td>5956968</td>\n",
       "      <td>17</td>\n",
       "    </tr>\n",
       "  </tbody>\n",
       "</table>\n",
       "</div>"
      ],
      "text/plain": [
       "        id  review_scores_rating  accommodates property_type  \\\n",
       "0   241032                  95.0             4     Apartment   \n",
       "1   953595                  96.0             4     Apartment   \n",
       "2  3308979                  97.0            11         House   \n",
       "3   278830                  92.0             6         House   \n",
       "4  5956968                  95.0             2         House   \n",
       "\n",
       "  neighbourhood_group_cleansed  bathrooms  bedrooms  availability_90  \\\n",
       "0                   Queen Anne        1.0       1.0               71   \n",
       "1                   Queen Anne        1.0       1.0               16   \n",
       "2                   Queen Anne        4.5       5.0               17   \n",
       "3                   Queen Anne        2.0       3.0               90   \n",
       "4                   Queen Anne        1.0       1.0               27   \n",
       "\n",
       "   number_of_reviews  listing_id  reviews_bookings  \n",
       "0                207      241032               207  \n",
       "1                 43      953595                43  \n",
       "2                 20     3308979                20  \n",
       "3                 38      278830                38  \n",
       "4                 17     5956968                17  "
      ]
     },
     "execution_count": 20,
     "metadata": {},
     "output_type": "execute_result"
    }
   ],
   "source": [
    "merged_dataset.head()"
   ]
  },
  {
   "cell_type": "code",
   "execution_count": 21,
   "metadata": {},
   "outputs": [],
   "source": [
    "# Impute for null values\n",
    "merged_dataset.at[merged_dataset['property_type'].isnull(), 'property_type'] = 'Other'\n",
    "merged_dataset.at[merged_dataset['review_scores_rating'].isnull(), 'review_scores_rating'] = 0\n",
    "merged_dataset['bathrooms'].fillna((merged_dataset['bathrooms'].mode()), inplace=True)"
   ]
  },
  {
   "cell_type": "code",
   "execution_count": 22,
   "metadata": {},
   "outputs": [
    {
     "data": {
      "text/plain": [
       "\"\\nNOTE: WE LOST THE DATE / MONTH FIELD HERE \\n\\n-> May need to figure this out? \\n-> Maybe find out average booking prices per month and then merge?\\n\\n# Add Month Column\\n merged_dataset.loc[:,('month')] = pd.to_datetime(merged_dataset.loc[:,('date')]).dt.month_name(locale = 'English')\\n\\n# Drop Date Column\\nmerged_dataset = merged_dataset.drop(['date'], axis=1)\\n\\n\""
      ]
     },
     "execution_count": 22,
     "metadata": {},
     "output_type": "execute_result"
    }
   ],
   "source": [
    "'''\n",
    "NOTE: WE LOST THE DATE / MONTH FIELD HERE \n",
    "\n",
    "-> May need to figure this out? \n",
    "-> Maybe find out average booking prices per month and then merge?\n",
    "\n",
    "# Add Month Column\n",
    " merged_dataset.loc[:,('month')] = pd.to_datetime(merged_dataset.loc[:,('date')]).dt.month_name(locale = 'English')\n",
    "\n",
    "# Drop Date Column\n",
    "merged_dataset = merged_dataset.drop(['date'], axis=1)\n",
    "\n",
    "'''"
   ]
  },
  {
   "cell_type": "code",
   "execution_count": 23,
   "metadata": {},
   "outputs": [
    {
     "data": {
      "text/plain": [
       "id                                int64\n",
       "review_scores_rating            float64\n",
       "accommodates                      int64\n",
       "property_type                    object\n",
       "neighbourhood_group_cleansed     object\n",
       "bathrooms                       float64\n",
       "bedrooms                        float64\n",
       "availability_90                   int64\n",
       "number_of_reviews                 int64\n",
       "listing_id                        int64\n",
       "reviews_bookings                  int64\n",
       "dtype: object"
      ]
     },
     "execution_count": 23,
     "metadata": {},
     "output_type": "execute_result"
    }
   ],
   "source": [
    "# Check dtypes\n",
    "merged_dataset.dtypes"
   ]
  },
  {
   "cell_type": "code",
   "execution_count": 24,
   "metadata": {},
   "outputs": [
    {
     "data": {
      "text/html": [
       "<div>\n",
       "<style scoped>\n",
       "    .dataframe tbody tr th:only-of-type {\n",
       "        vertical-align: middle;\n",
       "    }\n",
       "\n",
       "    .dataframe tbody tr th {\n",
       "        vertical-align: top;\n",
       "    }\n",
       "\n",
       "    .dataframe thead th {\n",
       "        text-align: right;\n",
       "    }\n",
       "</style>\n",
       "<table border=\"1\" class=\"dataframe\">\n",
       "  <thead>\n",
       "    <tr style=\"text-align: right;\">\n",
       "      <th></th>\n",
       "      <th>id</th>\n",
       "      <th>review_scores_rating</th>\n",
       "      <th>accommodates</th>\n",
       "      <th>property_type</th>\n",
       "      <th>neighbourhood_group_cleansed</th>\n",
       "      <th>bathrooms</th>\n",
       "      <th>bedrooms</th>\n",
       "      <th>availability_90</th>\n",
       "      <th>number_of_reviews</th>\n",
       "      <th>listing_id</th>\n",
       "      <th>reviews_bookings</th>\n",
       "    </tr>\n",
       "  </thead>\n",
       "  <tbody>\n",
       "    <tr>\n",
       "      <td>0</td>\n",
       "      <td>241032</td>\n",
       "      <td>95.0</td>\n",
       "      <td>4</td>\n",
       "      <td>Apartment</td>\n",
       "      <td>Queen Anne</td>\n",
       "      <td>1.0</td>\n",
       "      <td>1.0</td>\n",
       "      <td>71</td>\n",
       "      <td>207</td>\n",
       "      <td>241032</td>\n",
       "      <td>207</td>\n",
       "    </tr>\n",
       "    <tr>\n",
       "      <td>1</td>\n",
       "      <td>953595</td>\n",
       "      <td>96.0</td>\n",
       "      <td>4</td>\n",
       "      <td>Apartment</td>\n",
       "      <td>Queen Anne</td>\n",
       "      <td>1.0</td>\n",
       "      <td>1.0</td>\n",
       "      <td>16</td>\n",
       "      <td>43</td>\n",
       "      <td>953595</td>\n",
       "      <td>43</td>\n",
       "    </tr>\n",
       "    <tr>\n",
       "      <td>2</td>\n",
       "      <td>3308979</td>\n",
       "      <td>97.0</td>\n",
       "      <td>11</td>\n",
       "      <td>House</td>\n",
       "      <td>Queen Anne</td>\n",
       "      <td>4.5</td>\n",
       "      <td>5.0</td>\n",
       "      <td>17</td>\n",
       "      <td>20</td>\n",
       "      <td>3308979</td>\n",
       "      <td>20</td>\n",
       "    </tr>\n",
       "    <tr>\n",
       "      <td>3</td>\n",
       "      <td>278830</td>\n",
       "      <td>92.0</td>\n",
       "      <td>6</td>\n",
       "      <td>House</td>\n",
       "      <td>Queen Anne</td>\n",
       "      <td>2.0</td>\n",
       "      <td>3.0</td>\n",
       "      <td>90</td>\n",
       "      <td>38</td>\n",
       "      <td>278830</td>\n",
       "      <td>38</td>\n",
       "    </tr>\n",
       "    <tr>\n",
       "      <td>4</td>\n",
       "      <td>5956968</td>\n",
       "      <td>95.0</td>\n",
       "      <td>2</td>\n",
       "      <td>House</td>\n",
       "      <td>Queen Anne</td>\n",
       "      <td>1.0</td>\n",
       "      <td>1.0</td>\n",
       "      <td>27</td>\n",
       "      <td>17</td>\n",
       "      <td>5956968</td>\n",
       "      <td>17</td>\n",
       "    </tr>\n",
       "  </tbody>\n",
       "</table>\n",
       "</div>"
      ],
      "text/plain": [
       "        id  review_scores_rating  accommodates property_type  \\\n",
       "0   241032                  95.0             4     Apartment   \n",
       "1   953595                  96.0             4     Apartment   \n",
       "2  3308979                  97.0            11         House   \n",
       "3   278830                  92.0             6         House   \n",
       "4  5956968                  95.0             2         House   \n",
       "\n",
       "  neighbourhood_group_cleansed  bathrooms  bedrooms  availability_90  \\\n",
       "0                   Queen Anne        1.0       1.0               71   \n",
       "1                   Queen Anne        1.0       1.0               16   \n",
       "2                   Queen Anne        4.5       5.0               17   \n",
       "3                   Queen Anne        2.0       3.0               90   \n",
       "4                   Queen Anne        1.0       1.0               27   \n",
       "\n",
       "   number_of_reviews  listing_id  reviews_bookings  \n",
       "0                207      241032               207  \n",
       "1                 43      953595                43  \n",
       "2                 20     3308979                20  \n",
       "3                 38      278830                38  \n",
       "4                 17     5956968                17  "
      ]
     },
     "execution_count": 24,
     "metadata": {},
     "output_type": "execute_result"
    }
   ],
   "source": [
    "merged_dataset.head(5)"
   ]
  },
  {
   "cell_type": "code",
   "execution_count": 25,
   "metadata": {},
   "outputs": [
    {
     "data": {
      "text/plain": [
       "<matplotlib.axes._subplots.AxesSubplot at 0x25c06705dc8>"
      ]
     },
     "execution_count": 25,
     "metadata": {},
     "output_type": "execute_result"
    },
    {
     "data": {
      "image/png": "[encoded data removed]",
      "text/plain": [
       "<Figure size 432x288 with 2 Axes>"
      ]
     },
     "metadata": {
      "needs_background": "light"
     },
     "output_type": "display_data"
    }
   ],
   "source": [
    "###\n",
    "\n",
    "# Maybe we should remove 'number_of_reviews' because it lines up with reviews_bookings\n",
    "\n",
    "###\n",
    "\n",
    "plt.rcParams.update({'font.size': 10})\n",
    "#plt.figure(figsize=(10,10))\n",
    "sb.heatmap(merged_dataset.corr(), annot=True, fmt='.2f')"
   ]
  },
  {
   "cell_type": "code",
   "execution_count": 26,
   "metadata": {},
   "outputs": [],
   "source": [
    "listings_data_categorical = pd.get_dummies(merged_dataset, drop_first=True);"
   ]
  },
  {
   "cell_type": "code",
   "execution_count": 27,
   "metadata": {},
   "outputs": [
    {
     "data": {
      "text/plain": [
       "(3191, 40)"
      ]
     },
     "execution_count": 27,
     "metadata": {},
     "output_type": "execute_result"
    }
   ],
   "source": [
    "listings_data_categorical.shape"
   ]
  },
  {
   "cell_type": "code",
   "execution_count": 28,
   "metadata": {},
   "outputs": [],
   "source": [
    "listings_data_categorical = listings_data_categorical.dropna(axis = 0)"
   ]
  },
  {
   "cell_type": "code",
   "execution_count": 29,
   "metadata": {},
   "outputs": [
    {
     "data": {
      "text/plain": [
       "0"
      ]
     },
     "execution_count": 29,
     "metadata": {},
     "output_type": "execute_result"
    }
   ],
   "source": [
    "# Check dataframe for null values\n",
    "listings_data_categorical.isnull().sum().sum()"
   ]
  },
  {
   "cell_type": "markdown",
   "metadata": {},
   "source": [
    "**Start Model**"
   ]
  },
  {
   "cell_type": "code",
   "execution_count": 30,
   "metadata": {},
   "outputs": [],
   "source": [
    "# Consider only numerical variables\n",
    "feature_set = listings_data_categorical.drop(['listing_id','id','reviews_bookings'], axis=1)"
   ]
  },
  {
   "cell_type": "code",
   "execution_count": 31,
   "metadata": {},
   "outputs": [],
   "source": [
    "X = feature_set\n",
    "y = listings_data_categorical['reviews_bookings']"
   ]
  },
  {
   "cell_type": "code",
   "execution_count": 32,
   "metadata": {},
   "outputs": [
    {
     "data": {
      "text/plain": [
       "3173"
      ]
     },
     "execution_count": 32,
     "metadata": {},
     "output_type": "execute_result"
    }
   ],
   "source": [
    "X.shape[0]"
   ]
  },
  {
   "cell_type": "code",
   "execution_count": 33,
   "metadata": {},
   "outputs": [
    {
     "data": {
      "text/plain": [
       "3173"
      ]
     },
     "execution_count": 33,
     "metadata": {},
     "output_type": "execute_result"
    }
   ],
   "source": [
    "y.shape[0]"
   ]
  },
  {
   "cell_type": "code",
   "execution_count": 34,
   "metadata": {},
   "outputs": [],
   "source": [
    "X_train, X_test, y_train, y_test = train_test_split(X, y, test_size = .30, random_state=42)"
   ]
  },
  {
   "cell_type": "markdown",
   "metadata": {},
   "source": [
    "**Four steps: Instantiate, Fit, Predict, Score**"
   ]
  },
  {
   "cell_type": "markdown",
   "metadata": {},
   "source": [
    "### Linear Regression"
   ]
  },
  {
   "cell_type": "code",
   "execution_count": 35,
   "metadata": {},
   "outputs": [
    {
     "name": "stdout",
     "output_type": "stream",
     "text": [
      "The rsquared on the training data was 1.0.  The rsquared on the test data was 0.9999999999741679.\n"
     ]
    }
   ],
   "source": [
    "# Linear Regression\n",
    "lm_model = LinearRegression(normalize=True)\n",
    "lm_model.fit(X_train, y_train) \n",
    "y_test_preds = lm_model.predict(X_test)\n",
    "y_train_preds = lm_model.predict(X_train)\n",
    "test_score = r2_score(y_test, y_test_preds)\n",
    "train_score = r2_score(y_train, y_train_preds)\n",
    "print(\"The rsquared on the training data was {}.  The rsquared on the test data was {}.\".format(train_score, test_score))"
   ]
  },
  {
   "cell_type": "code",
   "execution_count": 36,
   "metadata": {},
   "outputs": [
    {
     "data": {
      "text/html": [
       "<div>\n",
       "<style scoped>\n",
       "    .dataframe tbody tr th:only-of-type {\n",
       "        vertical-align: middle;\n",
       "    }\n",
       "\n",
       "    .dataframe tbody tr th {\n",
       "        vertical-align: top;\n",
       "    }\n",
       "\n",
       "    .dataframe thead th {\n",
       "        text-align: right;\n",
       "    }\n",
       "</style>\n",
       "<table border=\"1\" class=\"dataframe\">\n",
       "  <thead>\n",
       "    <tr style=\"text-align: right;\">\n",
       "      <th></th>\n",
       "      <th>est_int</th>\n",
       "      <th>coefs</th>\n",
       "      <th>abs_coefs</th>\n",
       "    </tr>\n",
       "  </thead>\n",
       "  <tbody>\n",
       "    <tr>\n",
       "      <td>5</td>\n",
       "      <td>number_of_reviews</td>\n",
       "      <td>5.064839e-01</td>\n",
       "      <td>5.064839e-01</td>\n",
       "    </tr>\n",
       "    <tr>\n",
       "      <td>6</td>\n",
       "      <td>reviews_bookings</td>\n",
       "      <td>4.935161e-01</td>\n",
       "      <td>4.935161e-01</td>\n",
       "    </tr>\n",
       "    <tr>\n",
       "      <td>12</td>\n",
       "      <td>property_type_Chalet</td>\n",
       "      <td>-6.597929e-03</td>\n",
       "      <td>6.597929e-03</td>\n",
       "    </tr>\n",
       "    <tr>\n",
       "      <td>11</td>\n",
       "      <td>property_type_Camper/RV</td>\n",
       "      <td>-1.807112e-13</td>\n",
       "      <td>1.807112e-13</td>\n",
       "    </tr>\n",
       "    <tr>\n",
       "      <td>9</td>\n",
       "      <td>property_type_Bungalow</td>\n",
       "      <td>1.625254e-13</td>\n",
       "      <td>1.625254e-13</td>\n",
       "    </tr>\n",
       "    <tr>\n",
       "      <td>7</td>\n",
       "      <td>property_type_Bed &amp; Breakfast</td>\n",
       "      <td>1.182839e-13</td>\n",
       "      <td>1.182839e-13</td>\n",
       "    </tr>\n",
       "    <tr>\n",
       "      <td>18</td>\n",
       "      <td>property_type_Tent</td>\n",
       "      <td>-1.028767e-13</td>\n",
       "      <td>1.028767e-13</td>\n",
       "    </tr>\n",
       "    <tr>\n",
       "      <td>35</td>\n",
       "      <td>neighbourhood_group_cleansed_Seward Park</td>\n",
       "      <td>-9.152055e-14</td>\n",
       "      <td>9.152055e-14</td>\n",
       "    </tr>\n",
       "    <tr>\n",
       "      <td>24</td>\n",
       "      <td>neighbourhood_group_cleansed_Cascade</td>\n",
       "      <td>8.185089e-14</td>\n",
       "      <td>8.185089e-14</td>\n",
       "    </tr>\n",
       "    <tr>\n",
       "      <td>31</td>\n",
       "      <td>neighbourhood_group_cleansed_Northgate</td>\n",
       "      <td>-8.125939e-14</td>\n",
       "      <td>8.125939e-14</td>\n",
       "    </tr>\n",
       "    <tr>\n",
       "      <td>8</td>\n",
       "      <td>property_type_Boat</td>\n",
       "      <td>7.941416e-14</td>\n",
       "      <td>7.941416e-14</td>\n",
       "    </tr>\n",
       "    <tr>\n",
       "      <td>29</td>\n",
       "      <td>neighbourhood_group_cleansed_Lake City</td>\n",
       "      <td>7.113911e-14</td>\n",
       "      <td>7.113911e-14</td>\n",
       "    </tr>\n",
       "    <tr>\n",
       "      <td>20</td>\n",
       "      <td>property_type_Treehouse</td>\n",
       "      <td>-6.759072e-14</td>\n",
       "      <td>6.759072e-14</td>\n",
       "    </tr>\n",
       "    <tr>\n",
       "      <td>14</td>\n",
       "      <td>property_type_Dorm</td>\n",
       "      <td>-5.001049e-14</td>\n",
       "      <td>5.001049e-14</td>\n",
       "    </tr>\n",
       "    <tr>\n",
       "      <td>10</td>\n",
       "      <td>property_type_Cabin</td>\n",
       "      <td>4.907441e-14</td>\n",
       "      <td>4.907441e-14</td>\n",
       "    </tr>\n",
       "    <tr>\n",
       "      <td>21</td>\n",
       "      <td>property_type_Yurt</td>\n",
       "      <td>-4.811313e-14</td>\n",
       "      <td>4.811313e-14</td>\n",
       "    </tr>\n",
       "    <tr>\n",
       "      <td>26</td>\n",
       "      <td>neighbourhood_group_cleansed_Delridge</td>\n",
       "      <td>-4.402363e-14</td>\n",
       "      <td>4.402363e-14</td>\n",
       "    </tr>\n",
       "    <tr>\n",
       "      <td>37</td>\n",
       "      <td>neighbourhood_group_cleansed_West Seattle</td>\n",
       "      <td>-3.219100e-14</td>\n",
       "      <td>3.219100e-14</td>\n",
       "    </tr>\n",
       "    <tr>\n",
       "      <td>13</td>\n",
       "      <td>property_type_Condominium</td>\n",
       "      <td>3.050684e-14</td>\n",
       "      <td>3.050684e-14</td>\n",
       "    </tr>\n",
       "    <tr>\n",
       "      <td>2</td>\n",
       "      <td>bathrooms</td>\n",
       "      <td>2.238884e-14</td>\n",
       "      <td>2.238884e-14</td>\n",
       "    </tr>\n",
       "  </tbody>\n",
       "</table>\n",
       "</div>"
      ],
      "text/plain": [
       "                                      est_int         coefs     abs_coefs\n",
       "5                           number_of_reviews  5.064839e-01  5.064839e-01\n",
       "6                            reviews_bookings  4.935161e-01  4.935161e-01\n",
       "12                       property_type_Chalet -6.597929e-03  6.597929e-03\n",
       "11                    property_type_Camper/RV -1.807112e-13  1.807112e-13\n",
       "9                      property_type_Bungalow  1.625254e-13  1.625254e-13\n",
       "7               property_type_Bed & Breakfast  1.182839e-13  1.182839e-13\n",
       "18                         property_type_Tent -1.028767e-13  1.028767e-13\n",
       "35   neighbourhood_group_cleansed_Seward Park -9.152055e-14  9.152055e-14\n",
       "24       neighbourhood_group_cleansed_Cascade  8.185089e-14  8.185089e-14\n",
       "31     neighbourhood_group_cleansed_Northgate -8.125939e-14  8.125939e-14\n",
       "8                          property_type_Boat  7.941416e-14  7.941416e-14\n",
       "29     neighbourhood_group_cleansed_Lake City  7.113911e-14  7.113911e-14\n",
       "20                    property_type_Treehouse -6.759072e-14  6.759072e-14\n",
       "14                         property_type_Dorm -5.001049e-14  5.001049e-14\n",
       "10                        property_type_Cabin  4.907441e-14  4.907441e-14\n",
       "21                         property_type_Yurt -4.811313e-14  4.811313e-14\n",
       "26      neighbourhood_group_cleansed_Delridge -4.402363e-14  4.402363e-14\n",
       "37  neighbourhood_group_cleansed_West Seattle -3.219100e-14  3.219100e-14\n",
       "13                  property_type_Condominium  3.050684e-14  3.050684e-14\n",
       "2                                   bathrooms  2.238884e-14  2.238884e-14"
      ]
     },
     "execution_count": 36,
     "metadata": {},
     "output_type": "execute_result"
    }
   ],
   "source": [
    "def coef_weights(coefficients, X_train):\n",
    "    coefs_df = pd.DataFrame()\n",
    "    coefs_df['est_int'] = X_train.columns\n",
    "    coefs_df['coefs'] = lm_model.coef_\n",
    "    coefs_df['abs_coefs'] = np.abs(lm_model.coef_)\n",
    "    coefs_df = coefs_df.sort_values('abs_coefs', ascending=False)\n",
    "    return coefs_df\n",
    "\n",
    "#Use the function\n",
    "coef_df = coef_weights(lm_model.coef_, X_train)\n",
    "\n",
    "#A quick look at the top results\n",
    "coef_df.head(20)"
   ]
  },
  {
   "cell_type": "markdown",
   "metadata": {},
   "source": [
    "### Random Forest Regressor"
   ]
  },
  {
   "cell_type": "code",
   "execution_count": 37,
   "metadata": {},
   "outputs": [
    {
     "name": "stdout",
     "output_type": "stream",
     "text": [
      "0.9969708500102523\n",
      "5.362153781512606\n",
      "0.0\n"
     ]
    }
   ],
   "source": [
    "# RandomForestRegressor\n",
    "ForestRegressor = RandomForestRegressor(n_estimators=50)\n",
    "ForestRegressor.fit(X_train, y_train)\n",
    "y_test_preds = ForestRegressor.predict(X_test)\n",
    "y_train_preds = ForestRegressor.predict(X_train)\n",
    "\n",
    "print(r2_score(y_test, y_test_preds))\n",
    "print(mean_squared_error(y_test, y_test_preds))\n",
    "print(median_absolute_error(y_test, y_test_preds))"
   ]
  },
  {
   "cell_type": "code",
   "execution_count": 38,
   "metadata": {},
   "outputs": [],
   "source": [
    "test_score_random_forest = r2_score(y_test, y_test_preds)\n",
    "train_score_random_forest = r2_score(y_train, y_train_preds)"
   ]
  },
  {
   "cell_type": "code",
   "execution_count": 39,
   "metadata": {},
   "outputs": [
    {
     "name": "stdout",
     "output_type": "stream",
     "text": [
      "For Random Forest Regressor, the rsquared on the training data was 0.9995095750968885.  The rsquared on the test data was 0.9969708500102523.\n"
     ]
    }
   ],
   "source": [
    "print(\"For Random Forest Regressor, the rsquared on the training data was {}.  The rsquared on the test data was {}.\".format(train_score_random_forest, test_score_random_forest))"
   ]
  },
  {
   "cell_type": "code",
   "execution_count": 40,
   "metadata": {},
   "outputs": [
    {
     "data": {
      "text/html": [
       "<div>\n",
       "<style scoped>\n",
       "    .dataframe tbody tr th:only-of-type {\n",
       "        vertical-align: middle;\n",
       "    }\n",
       "\n",
       "    .dataframe tbody tr th {\n",
       "        vertical-align: top;\n",
       "    }\n",
       "\n",
       "    .dataframe thead th {\n",
       "        text-align: right;\n",
       "    }\n",
       "</style>\n",
       "<table border=\"1\" class=\"dataframe\">\n",
       "  <thead>\n",
       "    <tr style=\"text-align: right;\">\n",
       "      <th></th>\n",
       "      <th>est_int</th>\n",
       "      <th>coeff</th>\n",
       "    </tr>\n",
       "  </thead>\n",
       "  <tbody>\n",
       "    <tr>\n",
       "      <td>5</td>\n",
       "      <td>number_of_reviews</td>\n",
       "      <td>5.020811e-01</td>\n",
       "    </tr>\n",
       "    <tr>\n",
       "      <td>6</td>\n",
       "      <td>reviews_bookings</td>\n",
       "      <td>4.922394e-01</td>\n",
       "    </tr>\n",
       "    <tr>\n",
       "      <td>16</td>\n",
       "      <td>property_type_Loft</td>\n",
       "      <td>4.689930e-03</td>\n",
       "    </tr>\n",
       "    <tr>\n",
       "      <td>2</td>\n",
       "      <td>bathrooms</td>\n",
       "      <td>3.376000e-04</td>\n",
       "    </tr>\n",
       "    <tr>\n",
       "      <td>27</td>\n",
       "      <td>neighbourhood_group_cleansed_Downtown</td>\n",
       "      <td>3.192367e-04</td>\n",
       "    </tr>\n",
       "    <tr>\n",
       "      <td>15</td>\n",
       "      <td>property_type_House</td>\n",
       "      <td>1.025858e-04</td>\n",
       "    </tr>\n",
       "    <tr>\n",
       "      <td>0</td>\n",
       "      <td>review_scores_rating</td>\n",
       "      <td>8.003025e-05</td>\n",
       "    </tr>\n",
       "    <tr>\n",
       "      <td>10</td>\n",
       "      <td>property_type_Cabin</td>\n",
       "      <td>4.618065e-05</td>\n",
       "    </tr>\n",
       "    <tr>\n",
       "      <td>4</td>\n",
       "      <td>availability_90</td>\n",
       "      <td>3.068596e-05</td>\n",
       "    </tr>\n",
       "    <tr>\n",
       "      <td>33</td>\n",
       "      <td>neighbourhood_group_cleansed_Queen Anne</td>\n",
       "      <td>2.426674e-05</td>\n",
       "    </tr>\n",
       "    <tr>\n",
       "      <td>32</td>\n",
       "      <td>neighbourhood_group_cleansed_Other neighborhoods</td>\n",
       "      <td>1.680161e-05</td>\n",
       "    </tr>\n",
       "    <tr>\n",
       "      <td>1</td>\n",
       "      <td>accommodates</td>\n",
       "      <td>1.555774e-05</td>\n",
       "    </tr>\n",
       "    <tr>\n",
       "      <td>23</td>\n",
       "      <td>neighbourhood_group_cleansed_Capitol Hill</td>\n",
       "      <td>7.093860e-06</td>\n",
       "    </tr>\n",
       "    <tr>\n",
       "      <td>25</td>\n",
       "      <td>neighbourhood_group_cleansed_Central Area</td>\n",
       "      <td>4.752838e-06</td>\n",
       "    </tr>\n",
       "    <tr>\n",
       "      <td>3</td>\n",
       "      <td>bedrooms</td>\n",
       "      <td>1.465477e-06</td>\n",
       "    </tr>\n",
       "    <tr>\n",
       "      <td>34</td>\n",
       "      <td>neighbourhood_group_cleansed_Rainier Valley</td>\n",
       "      <td>1.374139e-06</td>\n",
       "    </tr>\n",
       "    <tr>\n",
       "      <td>7</td>\n",
       "      <td>property_type_Bed &amp; Breakfast</td>\n",
       "      <td>8.108943e-07</td>\n",
       "    </tr>\n",
       "    <tr>\n",
       "      <td>17</td>\n",
       "      <td>property_type_Other</td>\n",
       "      <td>5.071885e-07</td>\n",
       "    </tr>\n",
       "    <tr>\n",
       "      <td>35</td>\n",
       "      <td>neighbourhood_group_cleansed_Seward Park</td>\n",
       "      <td>2.186111e-07</td>\n",
       "    </tr>\n",
       "    <tr>\n",
       "      <td>36</td>\n",
       "      <td>neighbourhood_group_cleansed_University District</td>\n",
       "      <td>1.033174e-07</td>\n",
       "    </tr>\n",
       "  </tbody>\n",
       "</table>\n",
       "</div>"
      ],
      "text/plain": [
       "                                             est_int         coeff\n",
       "5                                  number_of_reviews  5.020811e-01\n",
       "6                                   reviews_bookings  4.922394e-01\n",
       "16                                property_type_Loft  4.689930e-03\n",
       "2                                          bathrooms  3.376000e-04\n",
       "27             neighbourhood_group_cleansed_Downtown  3.192367e-04\n",
       "15                               property_type_House  1.025858e-04\n",
       "0                               review_scores_rating  8.003025e-05\n",
       "10                               property_type_Cabin  4.618065e-05\n",
       "4                                    availability_90  3.068596e-05\n",
       "33           neighbourhood_group_cleansed_Queen Anne  2.426674e-05\n",
       "32  neighbourhood_group_cleansed_Other neighborhoods  1.680161e-05\n",
       "1                                       accommodates  1.555774e-05\n",
       "23         neighbourhood_group_cleansed_Capitol Hill  7.093860e-06\n",
       "25         neighbourhood_group_cleansed_Central Area  4.752838e-06\n",
       "3                                           bedrooms  1.465477e-06\n",
       "34       neighbourhood_group_cleansed_Rainier Valley  1.374139e-06\n",
       "7                      property_type_Bed & Breakfast  8.108943e-07\n",
       "17                               property_type_Other  5.071885e-07\n",
       "35          neighbourhood_group_cleansed_Seward Park  2.186111e-07\n",
       "36  neighbourhood_group_cleansed_University District  1.033174e-07"
      ]
     },
     "execution_count": 40,
     "metadata": {},
     "output_type": "execute_result"
    }
   ],
   "source": [
    "coeff_dataframe = pd.DataFrame()\n",
    "\n",
    "coeff_dataframe['est_int'] = X_train.columns\n",
    "coeff_dataframe['coeff'] = ForestRegressor.feature_importances_\n",
    "coeff_dataframe.sort_values('coeff', ascending=False).head(20)"
   ]
  },
  {
   "cell_type": "code",
   "execution_count": 41,
   "metadata": {},
   "outputs": [],
   "source": [
    "coeff_dataframe.index = coeff_dataframe.est_int"
   ]
  },
  {
   "cell_type": "code",
   "execution_count": 42,
   "metadata": {},
   "outputs": [
    {
     "data": {
      "image/png": "[encoded data removed]",
      "text/plain": [
       "<Figure size 1440x720 with 1 Axes>"
      ]
     },
     "metadata": {
      "needs_background": "light"
     },
     "output_type": "display_data"
    }
   ],
   "source": [
    "plt.rcParams.update({'font.size': 15})\n",
    "coeff_dataframe.sort_values('coeff', ascending=False).head(8).plot(kind = 'barh',figsize = (20,10), facecolor='red');"
   ]
  },
  {
   "cell_type": "code",
   "execution_count": null,
   "metadata": {},
   "outputs": [],
   "source": []
  }
 ],
 "metadata": {
  "kernelspec": {
   "display_name": "Python 3",
   "language": "python",
   "name": "python3"
  },
  "language_info": {
   "codemirror_mode": {
    "name": "ipython",
    "version": 3
   },
   "file_extension": ".py",
   "mimetype": "text/x-python",
   "name": "python",
   "nbconvert_exporter": "python",
   "pygments_lexer": "ipython3",
   "version": "3.7.4"
  }
 },
 "nbformat": 4,
 "nbformat_minor": 2
}
