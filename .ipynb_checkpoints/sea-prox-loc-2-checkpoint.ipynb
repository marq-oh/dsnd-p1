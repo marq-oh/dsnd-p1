{
 "cells": [
  {
   "cell_type": "markdown",
   "metadata": {},
   "source": [
    "# Amenities & Reviews\n",
    "**Questions:**\n",
    "* Do amenities factor into prices?\n",
    "* Do reviews factor into prices?\n",
    "* Does property type matter?"
   ]
  },
  {
   "cell_type": "markdown",
   "metadata": {},
   "source": [
    "## Imports"
   ]
  },
  {
   "cell_type": "code",
   "execution_count": 1,
   "metadata": {},
   "outputs": [],
   "source": [
    "# Note to self -> Use numpy somewhere\n",
    "import numpy as np\n",
    "\n",
    "import pandas as pd\n",
    "import matplotlib.pyplot as plt\n",
    "import seaborn as sb"
   ]
  },
  {
   "cell_type": "markdown",
   "metadata": {},
   "source": [
    "## Data Preparation\n",
    "Step to clean-up the data and prepare for processing"
   ]
  },
  {
   "cell_type": "markdown",
   "metadata": {},
   "source": [
    "### Creating dataframes"
   ]
  },
  {
   "cell_type": "code",
   "execution_count": 2,
   "metadata": {},
   "outputs": [],
   "source": [
    "# Importing data into pandas dataframes\n",
    "listings = pd.read_csv('./listings_sea.csv')\n",
    "calendar = pd.read_csv('./calendar_sea.csv')\n",
    "reviews = pd.read_csv('./reviews_sea.csv')"
   ]
  },
  {
   "cell_type": "code",
   "execution_count": 3,
   "metadata": {
    "scrolled": true
   },
   "outputs": [
    {
     "data": {
      "text/html": [
       "<div>\n",
       "<style scoped>\n",
       "    .dataframe tbody tr th:only-of-type {\n",
       "        vertical-align: middle;\n",
       "    }\n",
       "\n",
       "    .dataframe tbody tr th {\n",
       "        vertical-align: top;\n",
       "    }\n",
       "\n",
       "    .dataframe thead th {\n",
       "        text-align: right;\n",
       "    }\n",
       "</style>\n",
       "<table border=\"1\" class=\"dataframe\">\n",
       "  <thead>\n",
       "    <tr style=\"text-align: right;\">\n",
       "      <th></th>\n",
       "      <th>listing_id</th>\n",
       "      <th>date</th>\n",
       "      <th>available</th>\n",
       "      <th>price</th>\n",
       "    </tr>\n",
       "  </thead>\n",
       "  <tbody>\n",
       "    <tr>\n",
       "      <td>0</td>\n",
       "      <td>241032</td>\n",
       "      <td>2016-01-04</td>\n",
       "      <td>t</td>\n",
       "      <td>$85.00</td>\n",
       "    </tr>\n",
       "    <tr>\n",
       "      <td>1</td>\n",
       "      <td>241032</td>\n",
       "      <td>2016-01-05</td>\n",
       "      <td>t</td>\n",
       "      <td>$85.00</td>\n",
       "    </tr>\n",
       "    <tr>\n",
       "      <td>2</td>\n",
       "      <td>241032</td>\n",
       "      <td>2016-01-06</td>\n",
       "      <td>f</td>\n",
       "      <td>NaN</td>\n",
       "    </tr>\n",
       "  </tbody>\n",
       "</table>\n",
       "</div>"
      ],
      "text/plain": [
       "   listing_id        date available   price\n",
       "0      241032  2016-01-04         t  $85.00\n",
       "1      241032  2016-01-05         t  $85.00\n",
       "2      241032  2016-01-06         f     NaN"
      ]
     },
     "execution_count": 3,
     "metadata": {},
     "output_type": "execute_result"
    }
   ],
   "source": [
    "# View a snippet of the data\n",
    "calendar.head(3)"
   ]
  },
  {
   "cell_type": "markdown",
   "metadata": {},
   "source": [
    "### Other:\n",
    "* property_type, host_is_superhost\n",
    "\n",
    "### For reviews\n",
    "* review_scores_rating, review_scores_accuracy,\n",
    "* review_scores_cleanliness, review_scores_checkin,\n",
    "* review_scores_communication, review_scores_location,\n",
    "* review_scores_value, reviews_per_month, number_of_reviews\n",
    "* See how this one did mapping: https://jinglescode.github.io/datascience/2019/07/13/airbnb-in-seattle-data-analysis/\n",
    "\n",
    "### For amenities\n",
    "* amenities\n",
    "* https://news.airbnb.com/en-ca/amenities-do-matter-airbnb-reveals-which-amenities-travelers-value-most/\n",
    "* https://optimizemybnb.com/improve-airbnb-amenities/#Common_Airbnb_Amenities_Consumables"
   ]
  },
  {
   "cell_type": "code",
   "execution_count": 52,
   "metadata": {},
   "outputs": [
    {
     "data": {
      "text/plain": [
       "array([ 4.07,  1.48,  1.15,   nan,  0.89,  2.45,  2.46,  4.73,  1.22,\n",
       "        1.55,  3.33,  0.98,  0.92,  3.  ,  2.65,  0.73,  4.55,  4.58,\n",
       "        0.82,  1.  ,  0.71,  0.86,  0.18,  1.3 ,  4.38,  2.47,  0.33,\n",
       "        1.86,  2.18,  1.31,  0.99,  2.27,  4.35,  0.97,  0.9 ,  0.83,\n",
       "        1.98,  4.7 ,  0.46,  1.38,  3.35,  1.99,  2.29,  1.06,  0.16,\n",
       "        0.8 ,  2.  ,  0.64,  5.64,  2.5 ,  4.12,  0.25,  5.24,  7.06,\n",
       "        4.96,  1.82,  3.94,  1.01,  3.29,  3.07,  1.44,  3.46,  4.43,\n",
       "        3.85,  0.38,  3.75,  7.84,  2.11,  0.26,  0.3 ,  6.07,  1.75,\n",
       "        3.64,  0.11,  4.05,  0.62,  6.87,  0.77,  0.09,  3.39,  1.84,\n",
       "        3.95,  1.89,  1.37,  3.87,  3.38,  0.65,  0.96,  7.53,  5.87,\n",
       "        1.91,  2.05,  6.23,  3.11,  3.55,  2.22,  1.68,  0.34,  0.2 ,\n",
       "        4.67,  5.32,  5.79,  0.68,  2.56,  2.61,  7.2 ,  0.22,  1.65,\n",
       "        0.61,  0.85,  3.96,  2.82,  2.87,  3.86,  1.21,  1.25,  4.28,\n",
       "        5.15,  2.59,  2.85,  4.29,  4.89,  4.51,  3.4 ,  0.47,  5.22,\n",
       "        5.02,  1.58, 12.15,  0.95,  4.79,  2.14,  0.28,  3.31,  3.57,\n",
       "        1.24,  2.7 ,  3.3 ,  5.63,  0.29,  9.14,  1.04,  2.52,  5.92,\n",
       "        3.15,  4.59,  0.32,  5.  ,  0.03,  0.31,  0.6 ,  2.88,  3.08,\n",
       "        7.18,  0.54,  0.35,  0.21,  1.41,  3.48,  0.5 ,  2.92,  0.1 ,\n",
       "        1.93,  5.91,  0.59,  2.67,  1.71,  2.57,  2.41,  3.82,  0.63,\n",
       "        4.68,  0.53,  2.66,  5.81,  3.45,  1.02,  2.76,  1.7 ,  0.14,\n",
       "        1.07,  0.37,  1.57,  1.53,  1.67,  0.24,  6.39,  4.19,  1.46,\n",
       "        4.88,  1.42,  6.82,  4.37,  0.51,  2.78,  3.18,  0.81,  2.86,\n",
       "        2.3 ,  1.88,  0.67,  2.09,  1.97,  5.71,  3.6 ,  0.87,  1.39,\n",
       "        0.23,  0.69,  1.49,  1.83,  3.16,  1.35,  0.13,  5.38,  1.79,\n",
       "        1.85,  1.17,  2.75,  0.94,  0.39,  4.31,  2.38,  3.01,  2.77,\n",
       "        1.32,  4.06,  0.79,  1.29,  0.27,  2.25,  4.23,  1.73,  1.51,\n",
       "        0.88,  0.41,  6.57,  0.19,  0.66,  0.36,  0.43,  4.56,  5.27,\n",
       "        3.98,  3.72,  4.18,  1.76,  1.69,  4.52,  2.16,  1.12,  2.63,\n",
       "        0.58,  3.43,  0.72,  5.88,  2.74,  0.7 ,  1.54,  1.61,  0.44,\n",
       "        2.23,  2.64,  0.04,  3.54,  2.89,  0.07,  3.17,  4.26,  7.5 ,\n",
       "        2.07,  6.1 ,  2.54,  5.98,  1.92,  1.13,  2.34,  1.36,  1.18,\n",
       "        3.02,  2.48,  1.62,  5.62,  2.51,  2.06,  7.02,  0.12,  4.36,\n",
       "        4.57,  0.45,  3.25,  1.74,  0.4 ,  7.63,  0.57,  4.39,  1.4 ,\n",
       "        1.72,  3.91,  4.97,  2.9 ,  1.94,  2.19,  6.43,  1.64,  1.6 ,\n",
       "        1.1 ,  4.11,  6.22,  1.28,  3.58,  4.63,  0.48,  2.6 ,  5.35,\n",
       "        2.21,  0.15,  5.08,  2.81,  3.24,  2.04,  4.  ,  1.34,  2.24,\n",
       "        3.22,  6.9 ,  5.53,  5.42,  5.07,  5.26,  2.69,  2.4 ,  2.94,\n",
       "        1.5 ,  3.28,  3.56,  0.42,  4.45,  4.74,  3.1 ,  3.88,  3.44,\n",
       "        0.52,  5.8 ,  3.63,  0.74,  1.23,  2.35,  0.91,  1.11,  6.92,\n",
       "        3.77,  8.31,  4.27,  7.57,  3.19,  3.62,  0.75,  2.53,  3.7 ,\n",
       "        2.33,  3.13,  1.14,  7.  ,  0.84,  3.61,  3.83,  2.31,  4.17,\n",
       "        4.92,  2.17,  8.73,  1.8 ,  2.13,  4.83,  2.62,  9.34,  4.66,\n",
       "        3.21,  0.78,  2.28,  2.39,  2.42,  2.15,  1.05,  5.68,  1.09,\n",
       "        3.37,  3.2 ,  1.27,  1.56,  5.04,  3.12,  2.83,  3.41,  1.63,\n",
       "        2.36,  3.09,  5.41,  5.34,  5.19,  3.03,  3.74,  4.21,  4.46,\n",
       "        2.95,  4.22,  2.79,  1.26,  8.55,  0.93,  6.35,  4.9 ,  7.75,\n",
       "        2.99,  0.56,  6.32,  6.  ,  4.4 ,  2.71,  7.78,  2.73, 11.01,\n",
       "        7.32,  5.43,  4.85,  4.72,  3.81,  1.19,  1.66,  3.52,  0.17,\n",
       "        4.71,  2.01,  2.68,  5.99,  2.37,  4.24,  1.33,  0.49,  2.08,\n",
       "        2.8 ,  2.93,  6.16,  4.02,  3.79,  6.59,  0.76,  4.15,  3.53,\n",
       "        6.94,  4.82,  3.89,  0.55,  1.96,  3.51,  9.47,  1.81,  3.65,\n",
       "        7.79,  9.08,  1.9 ,  4.34,  1.77,  5.33,  3.42,  6.09,  7.19,\n",
       "        5.84,  5.82,  4.91,  8.67, 10.12,  3.5 ,  8.05,  8.98,  8.94,\n",
       "        6.53, 10.  ,  4.44,  2.02,  0.06,  0.08,  0.05,  4.95,  4.16,\n",
       "        4.32,  6.68,  6.47,  8.17,  5.29,  6.7 ,  4.98,  7.94,  2.2 ,\n",
       "        6.33,  2.44,  8.95,  4.64,  2.84,  3.68,  1.2 ,  7.61,  3.69,\n",
       "        3.04,  2.26,  2.43,  4.62,  1.59,  3.78,  5.12,  3.23,  5.28,\n",
       "        6.37,  4.41,  4.3 ,  3.36,  3.84,  4.04,  4.6 ,  0.02,  1.52,\n",
       "        4.75,  3.32,  3.27,  4.87,  5.13,  5.61,  7.39,  1.47,  5.83,\n",
       "        4.53,  2.12,  6.98,  4.14,  4.5 ,  6.93,  6.91,  2.1 ,  6.21,\n",
       "        4.1 ,  3.92,  1.87,  3.26,  1.16,  4.94,  1.03,  5.9 ,  2.03,\n",
       "        1.95, 10.95,  2.91,  6.73,  4.8 ,  9.72,  3.14,  9.63,  5.52,\n",
       "        3.59,  3.99,  7.01,  1.43,  5.85, 10.27,  4.77,  6.65,  2.55,\n",
       "        5.01,  4.69,  7.74,  6.28,  5.23,  3.05,  1.08,  4.2 ,  7.6 ,\n",
       "        5.94,  6.04,  5.45,  3.8 ,  2.97,  6.14,  3.49,  4.48,  9.7 ,\n",
       "        6.86,  6.46,  5.49,  5.2 ,  7.07,  6.15,  6.42,  6.71,  5.57,\n",
       "        5.7 ,  7.45,  2.98,  7.59,  6.06,  6.02,  7.24,  4.47,  3.66,\n",
       "        8.09,  2.96,  9.38,  3.47,  5.54,  9.  ,  5.25,  6.83,  3.06,\n",
       "        2.72,  7.66,  8.38,  6.96,  4.93,  4.54,  5.56,  5.78, 10.61,\n",
       "        5.55,  5.11,  3.71,  3.34,  1.45,  5.59,  5.1 ,  7.96,  8.18,\n",
       "        6.12,  6.6 ,  5.96,  5.36,  5.75,  5.76,  5.31,  8.5 ,  4.81,\n",
       "        2.58,  8.46,  4.01,  5.74,  3.67,  4.08,  5.73,  4.13,  7.15,\n",
       "        5.44,  8.01,  3.9 ,  5.3 ,  7.72,  6.2 ,  5.95])"
      ]
     },
     "execution_count": 52,
     "metadata": {},
     "output_type": "execute_result"
    }
   ],
   "source": [
    "listings['reviews_per_month'].unique()"
   ]
  },
  {
   "cell_type": "code",
   "execution_count": 40,
   "metadata": {},
   "outputs": [
    {
     "name": "stdout",
     "output_type": "stream",
     "text": [
      "<class 'pandas.core.frame.DataFrame'>\n",
      "RangeIndex: 3818 entries, 0 to 3817\n",
      "Data columns (total 92 columns):\n",
      "id                                  3818 non-null int64\n",
      "listing_url                         3818 non-null object\n",
      "scrape_id                           3818 non-null int64\n",
      "last_scraped                        3818 non-null object\n",
      "name                                3818 non-null object\n",
      "summary                             3641 non-null object\n",
      "space                               3249 non-null object\n",
      "description                         3818 non-null object\n",
      "experiences_offered                 3818 non-null object\n",
      "neighborhood_overview               2786 non-null object\n",
      "notes                               2212 non-null object\n",
      "transit                             2884 non-null object\n",
      "thumbnail_url                       3498 non-null object\n",
      "medium_url                          3498 non-null object\n",
      "picture_url                         3818 non-null object\n",
      "xl_picture_url                      3498 non-null object\n",
      "host_id                             3818 non-null int64\n",
      "host_url                            3818 non-null object\n",
      "host_name                           3816 non-null object\n",
      "host_since                          3816 non-null object\n",
      "host_location                       3810 non-null object\n",
      "host_about                          2959 non-null object\n",
      "host_response_time                  3295 non-null object\n",
      "host_response_rate                  3295 non-null object\n",
      "host_acceptance_rate                3045 non-null object\n",
      "host_is_superhost                   3816 non-null object\n",
      "host_thumbnail_url                  3816 non-null object\n",
      "host_picture_url                    3816 non-null object\n",
      "host_neighbourhood                  3518 non-null object\n",
      "host_listings_count                 3816 non-null float64\n",
      "host_total_listings_count           3816 non-null float64\n",
      "host_verifications                  3818 non-null object\n",
      "host_has_profile_pic                3816 non-null object\n",
      "host_identity_verified              3816 non-null object\n",
      "street                              3818 non-null object\n",
      "neighbourhood                       3402 non-null object\n",
      "neighbourhood_cleansed              3818 non-null object\n",
      "neighbourhood_group_cleansed        3818 non-null object\n",
      "city                                3818 non-null object\n",
      "state                               3818 non-null object\n",
      "zipcode                             3811 non-null object\n",
      "market                              3818 non-null object\n",
      "smart_location                      3818 non-null object\n",
      "country_code                        3818 non-null object\n",
      "country                             3818 non-null object\n",
      "latitude                            3818 non-null float64\n",
      "longitude                           3818 non-null float64\n",
      "is_location_exact                   3818 non-null object\n",
      "property_type                       3817 non-null object\n",
      "room_type                           3818 non-null object\n",
      "accommodates                        3818 non-null int64\n",
      "bathrooms                           3802 non-null float64\n",
      "bedrooms                            3812 non-null float64\n",
      "beds                                3817 non-null float64\n",
      "bed_type                            3818 non-null object\n",
      "amenities                           3818 non-null object\n",
      "square_feet                         97 non-null float64\n",
      "price                               3818 non-null object\n",
      "weekly_price                        2009 non-null object\n",
      "monthly_price                       1517 non-null object\n",
      "security_deposit                    1866 non-null object\n",
      "cleaning_fee                        2788 non-null object\n",
      "guests_included                     3818 non-null int64\n",
      "extra_people                        3818 non-null object\n",
      "minimum_nights                      3818 non-null int64\n",
      "maximum_nights                      3818 non-null int64\n",
      "calendar_updated                    3818 non-null object\n",
      "has_availability                    3818 non-null object\n",
      "availability_30                     3818 non-null int64\n",
      "availability_60                     3818 non-null int64\n",
      "availability_90                     3818 non-null int64\n",
      "availability_365                    3818 non-null int64\n",
      "calendar_last_scraped               3818 non-null object\n",
      "number_of_reviews                   3818 non-null int64\n",
      "first_review                        3191 non-null object\n",
      "last_review                         3191 non-null object\n",
      "review_scores_rating                3171 non-null float64\n",
      "review_scores_accuracy              3160 non-null float64\n",
      "review_scores_cleanliness           3165 non-null float64\n",
      "review_scores_checkin               3160 non-null float64\n",
      "review_scores_communication         3167 non-null float64\n",
      "review_scores_location              3163 non-null float64\n",
      "review_scores_value                 3162 non-null float64\n",
      "requires_license                    3818 non-null object\n",
      "license                             0 non-null float64\n",
      "jurisdiction_names                  3818 non-null object\n",
      "instant_bookable                    3818 non-null object\n",
      "cancellation_policy                 3818 non-null object\n",
      "require_guest_profile_picture       3818 non-null object\n",
      "require_guest_phone_verification    3818 non-null object\n",
      "calculated_host_listings_count      3818 non-null int64\n",
      "reviews_per_month                   3191 non-null float64\n",
      "dtypes: float64(17), int64(13), object(62)\n",
      "memory usage: 2.7+ MB\n"
     ]
    }
   ],
   "source": [
    "listings.info()"
   ]
  },
  {
   "cell_type": "code",
   "execution_count": null,
   "metadata": {},
   "outputs": [],
   "source": []
  }
 ],
 "metadata": {
  "kernelspec": {
   "display_name": "Python 3",
   "language": "python",
   "name": "python3"
  },
  "language_info": {
   "codemirror_mode": {
    "name": "ipython",
    "version": 3
   },
   "file_extension": ".py",
   "mimetype": "text/x-python",
   "name": "python",
   "nbconvert_exporter": "python",
   "pygments_lexer": "ipython3",
   "version": "3.7.4"
  }
 },
 "nbformat": 4,
 "nbformat_minor": 2
}
