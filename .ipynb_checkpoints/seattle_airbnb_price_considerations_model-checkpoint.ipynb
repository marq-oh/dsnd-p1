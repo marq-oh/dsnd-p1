{
 "cells": [
  {
   "cell_type": "markdown",
   "metadata": {},
   "source": [
    "### Imports"
   ]
  },
  {
   "cell_type": "code",
   "execution_count": 111,
   "metadata": {},
   "outputs": [],
   "source": [
    "# Note to self -> Use numpy somewhere\n",
    "import numpy as np\n",
    "import pandas as pd\n",
    "import matplotlib as plt\n",
    "import seaborn as sb\n",
    "from sklearn.feature_extraction.text import CountVectorizer\n",
    "from sklearn.model_selection import train_test_split\n",
    "from sklearn.metrics import r2_score, mean_squared_error, median_absolute_error\n",
    "from sklearn.ensemble import RandomForestRegressor\n",
    "from sklearn.linear_model import LinearRegression"
   ]
  },
  {
   "cell_type": "code",
   "execution_count": 112,
   "metadata": {},
   "outputs": [],
   "source": [
    "# Importing data into pandas dataframes\n",
    "listings = pd.read_csv('./listings_sea.csv')\n",
    "calendar = pd.read_csv('./calendar_sea.csv')\n",
    "reviews = pd.read_csv('./reviews_sea.csv')"
   ]
  },
  {
   "cell_type": "markdown",
   "metadata": {},
   "source": [
    "**Data Preparation**"
   ]
  },
  {
   "cell_type": "code",
   "execution_count": 113,
   "metadata": {},
   "outputs": [],
   "source": [
    "# Select the columns that are needed - Listings\n",
    "listings_data = listings.loc[:,('id',\n",
    "                                'review_scores_rating',\n",
    "                                'amenities',\n",
    "                                'price',\n",
    "                                'property_type',\n",
    "                                'neighbourhood_group_cleansed')]"
   ]
  },
  {
   "cell_type": "code",
   "execution_count": 114,
   "metadata": {},
   "outputs": [],
   "source": [
    "# Impute for null values\n",
    "listings_data.at[listings_data['property_type'].isnull(), 'property_type'] = 'Other'\n",
    "listings_data.at[listings_data['review_scores_rating'].isnull(), 'review_scores_rating'] = 0"
   ]
  },
  {
   "cell_type": "code",
   "execution_count": 115,
   "metadata": {},
   "outputs": [],
   "source": [
    "# Create categorical columns\n",
    "listings_data['TV'] = listings_data.amenities.str.contains(\"TV\", case=False)\n",
    "listings_data['Internet'] = listings_data.amenities.str.contains('Internet|Wireless', case=False)\n",
    "listings_data['Parking'] = listings_data.amenities.str.contains('Parking', case=False)\n",
    "listings_data['Washer'] = listings_data.amenities.str.contains('Washer', case=False)\n",
    "listings_data['Dryer'] = listings_data.amenities.str.contains('Dryer', case=False)\n",
    "listings_data['AirCon'] = listings_data.amenities.str.contains('Air Condition|Air Conditioning', case=False)\n",
    "listings_data['PetFriendly'] = listings_data.amenities.str.contains('Pets Allowed|Pets live on this property|Dog|Cat', case=False)\n",
    "listings_data['Kitchen'] = listings_data.amenities.str.contains('Kitchen', case=False)\n",
    "listings_data['FamilyFriendly'] = listings_data.amenities.str.contains('Family/Kid Friendly', case=False)"
   ]
  },
  {
   "cell_type": "code",
   "execution_count": 116,
   "metadata": {},
   "outputs": [],
   "source": [
    "# Fix Data Types\n",
    "listings_data['price'] = listings_data['price'].str.replace(\"[$, ]\", \"\").astype(\"float\")"
   ]
  },
  {
   "cell_type": "code",
   "execution_count": 117,
   "metadata": {},
   "outputs": [
    {
     "data": {
      "text/plain": [
       "id                                int64\n",
       "review_scores_rating            float64\n",
       "amenities                        object\n",
       "price                           float64\n",
       "property_type                    object\n",
       "neighbourhood_group_cleansed     object\n",
       "TV                                 bool\n",
       "Internet                           bool\n",
       "Parking                            bool\n",
       "Washer                             bool\n",
       "Dryer                              bool\n",
       "AirCon                             bool\n",
       "PetFriendly                        bool\n",
       "Kitchen                            bool\n",
       "FamilyFriendly                     bool\n",
       "dtype: object"
      ]
     },
     "execution_count": 117,
     "metadata": {},
     "output_type": "execute_result"
    }
   ],
   "source": [
    "# Check dtypes\n",
    "listings_data.dtypes"
   ]
  },
  {
   "cell_type": "code",
   "execution_count": 118,
   "metadata": {},
   "outputs": [],
   "source": [
    "listings_data_categorical = pd.get_dummies(listings_data, drop_first=True);"
   ]
  },
  {
   "cell_type": "code",
   "execution_count": 119,
   "metadata": {},
   "outputs": [
    {
     "data": {
      "text/plain": [
       "id                                                    int64\n",
       "review_scores_rating                                float64\n",
       "price                                               float64\n",
       "TV                                                     bool\n",
       "Internet                                               bool\n",
       "                                                     ...   \n",
       "neighbourhood_group_cleansed_Queen Anne               uint8\n",
       "neighbourhood_group_cleansed_Rainier Valley           uint8\n",
       "neighbourhood_group_cleansed_Seward Park              uint8\n",
       "neighbourhood_group_cleansed_University District      uint8\n",
       "neighbourhood_group_cleansed_West Seattle             uint8\n",
       "Length: 3326, dtype: object"
      ]
     },
     "execution_count": 119,
     "metadata": {},
     "output_type": "execute_result"
    }
   ],
   "source": [
    "# Check dtypes\n",
    "listings_data_categorical.dtypes"
   ]
  },
  {
   "cell_type": "code",
   "execution_count": 120,
   "metadata": {},
   "outputs": [
    {
     "data": {
      "text/plain": [
       "id                                                  0\n",
       "review_scores_rating                                0\n",
       "price                                               0\n",
       "TV                                                  0\n",
       "Internet                                            0\n",
       "                                                   ..\n",
       "neighbourhood_group_cleansed_Queen Anne             0\n",
       "neighbourhood_group_cleansed_Rainier Valley         0\n",
       "neighbourhood_group_cleansed_Seward Park            0\n",
       "neighbourhood_group_cleansed_University District    0\n",
       "neighbourhood_group_cleansed_West Seattle           0\n",
       "Length: 3326, dtype: int64"
      ]
     },
     "execution_count": 120,
     "metadata": {},
     "output_type": "execute_result"
    }
   ],
   "source": [
    "# Check dataframe for null values\n",
    "listings_data_categorical.isnull().sum()"
   ]
  },
  {
   "cell_type": "code",
   "execution_count": 121,
   "metadata": {},
   "outputs": [
    {
     "data": {
      "text/html": [
       "<div>\n",
       "<style scoped>\n",
       "    .dataframe tbody tr th:only-of-type {\n",
       "        vertical-align: middle;\n",
       "    }\n",
       "\n",
       "    .dataframe tbody tr th {\n",
       "        vertical-align: top;\n",
       "    }\n",
       "\n",
       "    .dataframe thead th {\n",
       "        text-align: right;\n",
       "    }\n",
       "</style>\n",
       "<table border=\"1\" class=\"dataframe\">\n",
       "  <thead>\n",
       "    <tr style=\"text-align: right;\">\n",
       "      <th></th>\n",
       "      <th>id</th>\n",
       "      <th>review_scores_rating</th>\n",
       "      <th>price</th>\n",
       "      <th>TV</th>\n",
       "      <th>Internet</th>\n",
       "      <th>Parking</th>\n",
       "      <th>Washer</th>\n",
       "      <th>Dryer</th>\n",
       "      <th>AirCon</th>\n",
       "      <th>PetFriendly</th>\n",
       "      <th>...</th>\n",
       "      <th>neighbourhood_group_cleansed_Interbay</th>\n",
       "      <th>neighbourhood_group_cleansed_Lake City</th>\n",
       "      <th>neighbourhood_group_cleansed_Magnolia</th>\n",
       "      <th>neighbourhood_group_cleansed_Northgate</th>\n",
       "      <th>neighbourhood_group_cleansed_Other neighborhoods</th>\n",
       "      <th>neighbourhood_group_cleansed_Queen Anne</th>\n",
       "      <th>neighbourhood_group_cleansed_Rainier Valley</th>\n",
       "      <th>neighbourhood_group_cleansed_Seward Park</th>\n",
       "      <th>neighbourhood_group_cleansed_University District</th>\n",
       "      <th>neighbourhood_group_cleansed_West Seattle</th>\n",
       "    </tr>\n",
       "  </thead>\n",
       "  <tbody>\n",
       "    <tr>\n",
       "      <td>0</td>\n",
       "      <td>241032</td>\n",
       "      <td>95.0</td>\n",
       "      <td>85.0</td>\n",
       "      <td>True</td>\n",
       "      <td>True</td>\n",
       "      <td>False</td>\n",
       "      <td>True</td>\n",
       "      <td>True</td>\n",
       "      <td>True</td>\n",
       "      <td>False</td>\n",
       "      <td>...</td>\n",
       "      <td>0</td>\n",
       "      <td>0</td>\n",
       "      <td>0</td>\n",
       "      <td>0</td>\n",
       "      <td>0</td>\n",
       "      <td>1</td>\n",
       "      <td>0</td>\n",
       "      <td>0</td>\n",
       "      <td>0</td>\n",
       "      <td>0</td>\n",
       "    </tr>\n",
       "    <tr>\n",
       "      <td>1</td>\n",
       "      <td>953595</td>\n",
       "      <td>96.0</td>\n",
       "      <td>150.0</td>\n",
       "      <td>True</td>\n",
       "      <td>True</td>\n",
       "      <td>True</td>\n",
       "      <td>True</td>\n",
       "      <td>True</td>\n",
       "      <td>False</td>\n",
       "      <td>False</td>\n",
       "      <td>...</td>\n",
       "      <td>0</td>\n",
       "      <td>0</td>\n",
       "      <td>0</td>\n",
       "      <td>0</td>\n",
       "      <td>0</td>\n",
       "      <td>1</td>\n",
       "      <td>0</td>\n",
       "      <td>0</td>\n",
       "      <td>0</td>\n",
       "      <td>0</td>\n",
       "    </tr>\n",
       "    <tr>\n",
       "      <td>2</td>\n",
       "      <td>3308979</td>\n",
       "      <td>97.0</td>\n",
       "      <td>975.0</td>\n",
       "      <td>True</td>\n",
       "      <td>True</td>\n",
       "      <td>True</td>\n",
       "      <td>True</td>\n",
       "      <td>True</td>\n",
       "      <td>True</td>\n",
       "      <td>True</td>\n",
       "      <td>...</td>\n",
       "      <td>0</td>\n",
       "      <td>0</td>\n",
       "      <td>0</td>\n",
       "      <td>0</td>\n",
       "      <td>0</td>\n",
       "      <td>1</td>\n",
       "      <td>0</td>\n",
       "      <td>0</td>\n",
       "      <td>0</td>\n",
       "      <td>0</td>\n",
       "    </tr>\n",
       "  </tbody>\n",
       "</table>\n",
       "<p>3 rows × 3326 columns</p>\n",
       "</div>"
      ],
      "text/plain": [
       "        id  review_scores_rating  price    TV  Internet  Parking  Washer  \\\n",
       "0   241032                  95.0   85.0  True      True    False    True   \n",
       "1   953595                  96.0  150.0  True      True     True    True   \n",
       "2  3308979                  97.0  975.0  True      True     True    True   \n",
       "\n",
       "   Dryer  AirCon  PetFriendly  ...  neighbourhood_group_cleansed_Interbay  \\\n",
       "0   True    True        False  ...                                      0   \n",
       "1   True   False        False  ...                                      0   \n",
       "2   True    True         True  ...                                      0   \n",
       "\n",
       "   neighbourhood_group_cleansed_Lake City  \\\n",
       "0                                       0   \n",
       "1                                       0   \n",
       "2                                       0   \n",
       "\n",
       "   neighbourhood_group_cleansed_Magnolia  \\\n",
       "0                                      0   \n",
       "1                                      0   \n",
       "2                                      0   \n",
       "\n",
       "   neighbourhood_group_cleansed_Northgate  \\\n",
       "0                                       0   \n",
       "1                                       0   \n",
       "2                                       0   \n",
       "\n",
       "   neighbourhood_group_cleansed_Other neighborhoods  \\\n",
       "0                                                 0   \n",
       "1                                                 0   \n",
       "2                                                 0   \n",
       "\n",
       "   neighbourhood_group_cleansed_Queen Anne  \\\n",
       "0                                        1   \n",
       "1                                        1   \n",
       "2                                        1   \n",
       "\n",
       "   neighbourhood_group_cleansed_Rainier Valley  \\\n",
       "0                                            0   \n",
       "1                                            0   \n",
       "2                                            0   \n",
       "\n",
       "   neighbourhood_group_cleansed_Seward Park  \\\n",
       "0                                         0   \n",
       "1                                         0   \n",
       "2                                         0   \n",
       "\n",
       "   neighbourhood_group_cleansed_University District  \\\n",
       "0                                                 0   \n",
       "1                                                 0   \n",
       "2                                                 0   \n",
       "\n",
       "   neighbourhood_group_cleansed_West Seattle  \n",
       "0                                          0  \n",
       "1                                          0  \n",
       "2                                          0  \n",
       "\n",
       "[3 rows x 3326 columns]"
      ]
     },
     "execution_count": 121,
     "metadata": {},
     "output_type": "execute_result"
    }
   ],
   "source": [
    "# Check dataframe for null values\n",
    "listings_data_categorical.head(3)"
   ]
  },
  {
   "cell_type": "code",
   "execution_count": 123,
   "metadata": {},
   "outputs": [
    {
     "data": {
      "text/plain": [
       "array([  85.,  150.,  975.,  100.,  450.,  120.,   80.,   60.,   90.,\n",
       "         95.,   99.,  245.,  165.,  461.,  109.,   66.,  200.,  700.,\n",
       "        110.,   75.,  600.,   45.,  300.,  175.,  325.,  222.,  159.,\n",
       "        125.,  348.,  148.,  350.,  349.,  160.,  130.,  137.,   20.,\n",
       "        145.,  400.,   70.,  170.,  465.,   50.,   59.,   47.,   55.,\n",
       "         65.,   25.,   40.,  149.,  129.,  105.,  218.,  126.,  115.,\n",
       "        225.,   89.,  134.,  375.,   97.,  197.,  135.,  180.,   69.,\n",
       "        195.,  224.,  338.,   79.,   49.,   57.,   96.,  295.,   53.,\n",
       "         35.,  133.,   61.,   52.,  275.,  199.,  435.,  250.,  116.,\n",
       "         39.,   98.,   73.,  190.,   68.,  196.,  209.,  749.,  285.,\n",
       "        235.,  103.,  143.,  142.,  335.,  499.,  156.,   94.,  219.,\n",
       "         91.,   74.,  140.,  104.,  122.,  158.,   42.,  185.,  680.,\n",
       "        119.,  575.,  139.,  259.,  166.,  215.,  249.,  210.,  439.,\n",
       "        155.,   54.,  254.,  310.,  490.,  255.,  144.,   46.,  445.,\n",
       "        395.,   88.,  425.,  114.,  117.,  107.,   76.,  179.,   84.,\n",
       "        265.,   92.,  550.,  111.,  141.,  775.,   78.,   48.,   82.,\n",
       "        169.,   58.,  240.,  189.,  500.,   41.,   43.,   44.,   30.,\n",
       "        112.,   63.,   28.,   93.,  306.,   29.,   83.,  118.,  128.,\n",
       "        168.,   62.,  380.,  157.,  203.,   56.,  330.,   67.,   72.,\n",
       "         81.,  124.,  108.,  220.,   37.,  270.,   87.,  287.,  279.,\n",
       "        257.,  163.,   64.,   38.,  557.,  299.,  311.,  357.,  138.,\n",
       "        183.,  229.,  333.,  147.,  280.,  178.,  480.,  172.,  999.,\n",
       "        320.,  127.,  405.,  899.,  239.,  131.,  113.,  106.,  475.,\n",
       "        205.,  181.,  399.,  193.,  444.,  187.,  186.,  171.,  230.,\n",
       "        167.,  151.,  132.,  365.,  121.,  188.,  276.,  290.,  237.,\n",
       "         77.,  174.,  153.,  269.,  495.,  101.,  370.,  136.,   51.,\n",
       "         34.,   26.,   86.,  177.,  260.,   36.,  244.,  525.,  750.,\n",
       "        415.,  162.,  256.,  182.,  212.,  360.,  198.,  673.,  204.,\n",
       "        152.,  420.,   71.,  252., 1000.,   33.,  498.,  217.,  207.,\n",
       "        228.,  950.,  102.,   27.,  146.,  545.,   22.,   31.,  449.,\n",
       "        232.,  154.,  359.])"
      ]
     },
     "execution_count": 123,
     "metadata": {},
     "output_type": "execute_result"
    }
   ],
   "source": [
    "# Look for anomalies\n",
    "listings_data_categorical['price'].unique()"
   ]
  },
  {
   "cell_type": "markdown",
   "metadata": {},
   "source": [
    "**Start Model**"
   ]
  },
  {
   "cell_type": "code",
   "execution_count": 75,
   "metadata": {},
   "outputs": [],
   "source": [
    "# Consider only numerical variables\n",
    "X = listings_data_categorical[[columns go in here]]\n",
    "y = listings_data_categorical['price']\n",
    "\n",
    "X_train, X_test, y_train, y_test = train_test_split(X, y, test_size = .30, random_state=42)"
   ]
  },
  {
   "cell_type": "markdown",
   "metadata": {},
   "source": [
    "**Four steps:**"
   ]
  },
  {
   "cell_type": "code",
   "execution_count": 76,
   "metadata": {},
   "outputs": [],
   "source": [
    "#Instantiate\n",
    "lm_model = LinearRegression(normalize=True) "
   ]
  },
  {
   "cell_type": "code",
   "execution_count": 77,
   "metadata": {},
   "outputs": [
    {
     "ename": "ValueError",
     "evalue": "could not convert string to float: 'House'",
     "output_type": "error",
     "traceback": [
      "\u001b[1;31m---------------------------------------------------------------------------\u001b[0m",
      "\u001b[1;31mValueError\u001b[0m                                Traceback (most recent call last)",
      "\u001b[1;32m<ipython-input-77-f380b9c2d3bd>\u001b[0m in \u001b[0;36m<module>\u001b[1;34m\u001b[0m\n\u001b[0;32m      1\u001b[0m \u001b[1;31m#Fit\u001b[0m\u001b[1;33m\u001b[0m\u001b[1;33m\u001b[0m\u001b[1;33m\u001b[0m\u001b[0m\n\u001b[1;32m----> 2\u001b[1;33m \u001b[0mlm_model\u001b[0m\u001b[1;33m.\u001b[0m\u001b[0mfit\u001b[0m\u001b[1;33m(\u001b[0m\u001b[0mX_train\u001b[0m\u001b[1;33m,\u001b[0m \u001b[0my_train\u001b[0m\u001b[1;33m)\u001b[0m\u001b[1;33m\u001b[0m\u001b[1;33m\u001b[0m\u001b[0m\n\u001b[0m",
      "\u001b[1;32m~\\Anaconda3\\lib\\site-packages\\sklearn\\linear_model\\base.py\u001b[0m in \u001b[0;36mfit\u001b[1;34m(self, X, y, sample_weight)\u001b[0m\n\u001b[0;32m    461\u001b[0m         \u001b[0mn_jobs_\u001b[0m \u001b[1;33m=\u001b[0m \u001b[0mself\u001b[0m\u001b[1;33m.\u001b[0m\u001b[0mn_jobs\u001b[0m\u001b[1;33m\u001b[0m\u001b[1;33m\u001b[0m\u001b[0m\n\u001b[0;32m    462\u001b[0m         X, y = check_X_y(X, y, accept_sparse=['csr', 'csc', 'coo'],\n\u001b[1;32m--> 463\u001b[1;33m                          y_numeric=True, multi_output=True)\n\u001b[0m\u001b[0;32m    464\u001b[0m \u001b[1;33m\u001b[0m\u001b[0m\n\u001b[0;32m    465\u001b[0m         \u001b[1;32mif\u001b[0m \u001b[0msample_weight\u001b[0m \u001b[1;32mis\u001b[0m \u001b[1;32mnot\u001b[0m \u001b[1;32mNone\u001b[0m \u001b[1;32mand\u001b[0m \u001b[0mnp\u001b[0m\u001b[1;33m.\u001b[0m\u001b[0matleast_1d\u001b[0m\u001b[1;33m(\u001b[0m\u001b[0msample_weight\u001b[0m\u001b[1;33m)\u001b[0m\u001b[1;33m.\u001b[0m\u001b[0mndim\u001b[0m \u001b[1;33m>\u001b[0m \u001b[1;36m1\u001b[0m\u001b[1;33m:\u001b[0m\u001b[1;33m\u001b[0m\u001b[1;33m\u001b[0m\u001b[0m\n",
      "\u001b[1;32m~\\Anaconda3\\lib\\site-packages\\sklearn\\utils\\validation.py\u001b[0m in \u001b[0;36mcheck_X_y\u001b[1;34m(X, y, accept_sparse, accept_large_sparse, dtype, order, copy, force_all_finite, ensure_2d, allow_nd, multi_output, ensure_min_samples, ensure_min_features, y_numeric, warn_on_dtype, estimator)\u001b[0m\n\u001b[0;32m    717\u001b[0m                     \u001b[0mensure_min_features\u001b[0m\u001b[1;33m=\u001b[0m\u001b[0mensure_min_features\u001b[0m\u001b[1;33m,\u001b[0m\u001b[1;33m\u001b[0m\u001b[1;33m\u001b[0m\u001b[0m\n\u001b[0;32m    718\u001b[0m                     \u001b[0mwarn_on_dtype\u001b[0m\u001b[1;33m=\u001b[0m\u001b[0mwarn_on_dtype\u001b[0m\u001b[1;33m,\u001b[0m\u001b[1;33m\u001b[0m\u001b[1;33m\u001b[0m\u001b[0m\n\u001b[1;32m--> 719\u001b[1;33m                     estimator=estimator)\n\u001b[0m\u001b[0;32m    720\u001b[0m     \u001b[1;32mif\u001b[0m \u001b[0mmulti_output\u001b[0m\u001b[1;33m:\u001b[0m\u001b[1;33m\u001b[0m\u001b[1;33m\u001b[0m\u001b[0m\n\u001b[0;32m    721\u001b[0m         y = check_array(y, 'csr', force_all_finite=True, ensure_2d=False,\n",
      "\u001b[1;32m~\\Anaconda3\\lib\\site-packages\\sklearn\\utils\\validation.py\u001b[0m in \u001b[0;36mcheck_array\u001b[1;34m(array, accept_sparse, accept_large_sparse, dtype, order, copy, force_all_finite, ensure_2d, allow_nd, ensure_min_samples, ensure_min_features, warn_on_dtype, estimator)\u001b[0m\n\u001b[0;32m    534\u001b[0m         \u001b[1;31m# make sure we actually converted to numeric:\u001b[0m\u001b[1;33m\u001b[0m\u001b[1;33m\u001b[0m\u001b[1;33m\u001b[0m\u001b[0m\n\u001b[0;32m    535\u001b[0m         \u001b[1;32mif\u001b[0m \u001b[0mdtype_numeric\u001b[0m \u001b[1;32mand\u001b[0m \u001b[0marray\u001b[0m\u001b[1;33m.\u001b[0m\u001b[0mdtype\u001b[0m\u001b[1;33m.\u001b[0m\u001b[0mkind\u001b[0m \u001b[1;33m==\u001b[0m \u001b[1;34m\"O\"\u001b[0m\u001b[1;33m:\u001b[0m\u001b[1;33m\u001b[0m\u001b[1;33m\u001b[0m\u001b[0m\n\u001b[1;32m--> 536\u001b[1;33m             \u001b[0marray\u001b[0m \u001b[1;33m=\u001b[0m \u001b[0marray\u001b[0m\u001b[1;33m.\u001b[0m\u001b[0mastype\u001b[0m\u001b[1;33m(\u001b[0m\u001b[0mnp\u001b[0m\u001b[1;33m.\u001b[0m\u001b[0mfloat64\u001b[0m\u001b[1;33m)\u001b[0m\u001b[1;33m\u001b[0m\u001b[1;33m\u001b[0m\u001b[0m\n\u001b[0m\u001b[0;32m    537\u001b[0m         \u001b[1;32mif\u001b[0m \u001b[1;32mnot\u001b[0m \u001b[0mallow_nd\u001b[0m \u001b[1;32mand\u001b[0m \u001b[0marray\u001b[0m\u001b[1;33m.\u001b[0m\u001b[0mndim\u001b[0m \u001b[1;33m>=\u001b[0m \u001b[1;36m3\u001b[0m\u001b[1;33m:\u001b[0m\u001b[1;33m\u001b[0m\u001b[1;33m\u001b[0m\u001b[0m\n\u001b[0;32m    538\u001b[0m             raise ValueError(\"Found array with dim %d. %s expected <= 2.\"\n",
      "\u001b[1;31mValueError\u001b[0m: could not convert string to float: 'House'"
     ]
    }
   ],
   "source": [
    "#Fit\n",
    "lm_model.fit(X_train, y_train) "
   ]
  },
  {
   "cell_type": "code",
   "execution_count": null,
   "metadata": {},
   "outputs": [],
   "source": [
    "#Predict"
   ]
  },
  {
   "cell_type": "code",
   "execution_count": null,
   "metadata": {},
   "outputs": [],
   "source": [
    "#Score"
   ]
  }
 ],
 "metadata": {
  "kernelspec": {
   "display_name": "Python 3",
   "language": "python",
   "name": "python3"
  },
  "language_info": {
   "codemirror_mode": {
    "name": "ipython",
    "version": 3
   },
   "file_extension": ".py",
   "mimetype": "text/x-python",
   "name": "python",
   "nbconvert_exporter": "python",
   "pygments_lexer": "ipython3",
   "version": "3.7.4"
  }
 },
 "nbformat": 4,
 "nbformat_minor": 2
}
